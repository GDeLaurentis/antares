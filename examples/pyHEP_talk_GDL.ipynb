{
 "cells": [
  {
   "cell_type": "markdown",
   "id": "26c9e4bf",
   "metadata": {},
   "source": [
    "# Scattering Amplitude Reconstruction in Python"
   ]
  },
  {
   "cell_type": "code",
   "execution_count": 4,
   "id": "78bcf835",
   "metadata": {},
   "outputs": [],
   "source": [
    "from fractions import Fraction as Q"
   ]
  },
  {
   "cell_type": "markdown",
   "id": "80931704",
   "metadata": {},
   "source": [
    "## What is analytic reconstruction?"
   ]
  },
  {
   "cell_type": "code",
   "execution_count": null,
   "id": "3b1a7912",
   "metadata": {},
   "outputs": [],
   "source": []
  },
  {
   "cell_type": "code",
   "execution_count": null,
   "id": "741bc17e",
   "metadata": {},
   "outputs": [],
   "source": []
  },
  {
   "cell_type": "markdown",
   "id": "a3ca6131",
   "metadata": {},
   "source": [
    "### Main issue: numerical stability"
   ]
  },
  {
   "cell_type": "code",
   "execution_count": null,
   "id": "51791daa",
   "metadata": {},
   "outputs": [],
   "source": []
  },
  {
   "cell_type": "code",
   "execution_count": null,
   "id": "86448b00",
   "metadata": {},
   "outputs": [],
   "source": []
  },
  {
   "cell_type": "markdown",
   "id": "08e01dff",
   "metadata": {},
   "source": [
    "## finite fields"
   ]
  },
  {
   "cell_type": "markdown",
   "id": "142e3856",
   "metadata": {},
   "source": [
    "$$ \n",
    "\\displaystyle a \\in \\mathbb{F}_p : a \\in \\{0, \\dots, p -1\\} \\; \\text{ with } \\; \\{+, -, \\times, \\div\\}\n",
    "$$"
   ]
  },
  {
   "cell_type": "code",
   "execution_count": 2,
   "id": "90348b19",
   "metadata": {},
   "outputs": [],
   "source": [
    "from pyadic import ModP"
   ]
  },
  {
   "cell_type": "code",
   "execution_count": 9,
   "id": "ebf07608",
   "metadata": {},
   "outputs": [
    {
     "data": {
      "text/plain": [
       "6 % 11"
      ]
     },
     "execution_count": 9,
     "metadata": {},
     "output_type": "execute_result"
    }
   ],
   "source": [
    "ModP(Q(1, 2), 11)"
   ]
  },
  {
   "cell_type": "markdown",
   "id": "d072035d",
   "metadata": {},
   "source": [
    "or"
   ]
  },
  {
   "cell_type": "code",
   "execution_count": 27,
   "id": "247a4cab",
   "metadata": {},
   "outputs": [],
   "source": [
    "from syngular import Field"
   ]
  },
  {
   "cell_type": "code",
   "execution_count": 38,
   "id": "c6cf8721",
   "metadata": {},
   "outputs": [
    {
     "data": {
      "text/plain": [
       "Field('finite field', 2147483647, 1)"
      ]
     },
     "execution_count": 38,
     "metadata": {},
     "output_type": "execute_result"
    }
   ],
   "source": [
    "Fp = Field(\"finite field\", 2 ** 31 - 1, 1)\n",
    "Fp"
   ]
  },
  {
   "cell_type": "code",
   "execution_count": 39,
   "id": "3cd85eb3",
   "metadata": {},
   "outputs": [
    {
     "data": {
      "text/plain": [
       "1862811383 % 2147483647"
      ]
     },
     "execution_count": 39,
     "metadata": {},
     "output_type": "execute_result"
    }
   ],
   "source": [
    "Fp.random()"
   ]
  },
  {
   "cell_type": "code",
   "execution_count": null,
   "id": "09350ed9",
   "metadata": {},
   "outputs": [],
   "source": []
  },
  {
   "cell_type": "code",
   "execution_count": null,
   "id": "b0760b2e",
   "metadata": {},
   "outputs": [],
   "source": []
  },
  {
   "cell_type": "markdown",
   "id": "5de8539a",
   "metadata": {},
   "source": [
    "what goes wrong if p is not prime?"
   ]
  },
  {
   "cell_type": "code",
   "execution_count": 18,
   "id": "c7b0a9be",
   "metadata": {
    "scrolled": true
   },
   "outputs": [
    {
     "ename": "ZeroDivisionError",
     "evalue": "Inverse of 2 % 6 mod 6 does not exist. Are you sure 6 is prime?",
     "output_type": "error",
     "traceback": [
      "\u001b[0;31m---------------------------------------------------------------------------\u001b[0m",
      "\u001b[0;31mZeroDivisionError\u001b[0m                         Traceback (most recent call last)",
      "Cell \u001b[0;32mIn[18], line 1\u001b[0m\n\u001b[0;32m----> 1\u001b[0m \u001b[43mModP\u001b[49m\u001b[43m(\u001b[49m\u001b[43mQ\u001b[49m\u001b[43m(\u001b[49m\u001b[38;5;241;43m1\u001b[39;49m\u001b[43m,\u001b[49m\u001b[43m \u001b[49m\u001b[38;5;241;43m2\u001b[39;49m\u001b[43m)\u001b[49m\u001b[43m,\u001b[49m\u001b[43m \u001b[49m\u001b[38;5;241;43m6\u001b[39;49m\u001b[43m)\u001b[49m\n",
      "File \u001b[0;32m/media/gdl/scratch/Programs/pyadic/pyadic/finite_field.py:51\u001b[0m, in \u001b[0;36mModP.__init__\u001b[0;34m(self, n, p, called_recursively)\u001b[0m\n\u001b[1;32m     49\u001b[0m     \u001b[38;5;28mself\u001b[39m\u001b[38;5;241m.\u001b[39mp \u001b[38;5;241m=\u001b[39m \u001b[38;5;28mint\u001b[39m(p)\n\u001b[1;32m     50\u001b[0m \u001b[38;5;28;01melif\u001b[39;00m p \u001b[38;5;129;01mis\u001b[39;00m \u001b[38;5;129;01mnot\u001b[39;00m \u001b[38;5;28;01mNone\u001b[39;00m \u001b[38;5;129;01mand\u001b[39;00m \u001b[38;5;28misinstance\u001b[39m(n, fractions\u001b[38;5;241m.\u001b[39mFraction):\n\u001b[0;32m---> 51\u001b[0m     self_ \u001b[38;5;241m=\u001b[39m \u001b[43mModP\u001b[49m\u001b[43m(\u001b[49m\u001b[43mn\u001b[49m\u001b[38;5;241;43m.\u001b[39;49m\u001b[43mnumerator\u001b[49m\u001b[43m,\u001b[49m\u001b[43m \u001b[49m\u001b[43mp\u001b[49m\u001b[43m)\u001b[49m\u001b[43m \u001b[49m\u001b[38;5;241;43m/\u001b[39;49m\u001b[43m \u001b[49m\u001b[43mModP\u001b[49m\u001b[43m(\u001b[49m\u001b[43mn\u001b[49m\u001b[38;5;241;43m.\u001b[39;49m\u001b[43mdenominator\u001b[49m\u001b[43m,\u001b[49m\u001b[43m \u001b[49m\u001b[43mp\u001b[49m\u001b[43m)\u001b[49m\n\u001b[1;32m     52\u001b[0m     \u001b[38;5;28mself\u001b[39m\u001b[38;5;241m.\u001b[39mn \u001b[38;5;241m=\u001b[39m self_\u001b[38;5;241m.\u001b[39mn\n\u001b[1;32m     53\u001b[0m     \u001b[38;5;28mself\u001b[39m\u001b[38;5;241m.\u001b[39mp \u001b[38;5;241m=\u001b[39m self_\u001b[38;5;241m.\u001b[39mp\n",
      "File \u001b[0;32m/media/gdl/scratch/Programs/pyadic/pyadic/finite_field.py:24\u001b[0m, in \u001b[0;36mModPfy.<locals>.wrapper_ModPfy\u001b[0;34m(self, other)\u001b[0m\n\u001b[1;32m     22\u001b[0m     \u001b[38;5;28;01mif\u001b[39;00m \u001b[38;5;28mself\u001b[39m\u001b[38;5;241m.\u001b[39mp \u001b[38;5;241m!=\u001b[39m other\u001b[38;5;241m.\u001b[39mp:\n\u001b[1;32m     23\u001b[0m         \u001b[38;5;28;01mraise\u001b[39;00m \u001b[38;5;167;01mValueError\u001b[39;00m(\u001b[38;5;124mf\u001b[39m\u001b[38;5;124m\"\u001b[39m\u001b[38;5;124mCan\u001b[39m\u001b[38;5;124m'\u001b[39m\u001b[38;5;124mt cast numbers between different finite fields: FF\u001b[39m\u001b[38;5;132;01m{\u001b[39;00m\u001b[38;5;28mself\u001b[39m\u001b[38;5;241m.\u001b[39mp\u001b[38;5;132;01m}\u001b[39;00m\u001b[38;5;124m and FF\u001b[39m\u001b[38;5;132;01m{\u001b[39;00mother\u001b[38;5;241m.\u001b[39mp\u001b[38;5;132;01m}\u001b[39;00m\u001b[38;5;124m\"\u001b[39m)\n\u001b[0;32m---> 24\u001b[0m     \u001b[38;5;28;01mreturn\u001b[39;00m \u001b[43mfunc\u001b[49m\u001b[43m(\u001b[49m\u001b[38;5;28;43mself\u001b[39;49m\u001b[43m,\u001b[49m\u001b[43m \u001b[49m\u001b[43mother\u001b[49m\u001b[43m)\u001b[49m\n\u001b[1;32m     25\u001b[0m \u001b[38;5;28;01melif\u001b[39;00m isinteger(other) \u001b[38;5;129;01mor\u001b[39;00m \u001b[38;5;28misinstance\u001b[39m(other, fractions\u001b[38;5;241m.\u001b[39mFraction) \u001b[38;5;129;01mor\u001b[39;00m (\u001b[38;5;28mhasattr\u001b[39m(other, \u001b[38;5;124m\"\u001b[39m\u001b[38;5;124mimag\u001b[39m\u001b[38;5;124m\"\u001b[39m) \u001b[38;5;129;01mand\u001b[39;00m \u001b[38;5;129;01mnot\u001b[39;00m \u001b[38;5;28misinstance\u001b[39m(other, numpy\u001b[38;5;241m.\u001b[39mndarray)) \u001b[38;5;129;01mor\u001b[39;00m \u001b[38;5;28misinstance\u001b[39m(other, padic\u001b[38;5;241m.\u001b[39mPAdic):\n\u001b[1;32m     26\u001b[0m     \u001b[38;5;28;01mreturn\u001b[39;00m func(\u001b[38;5;28mself\u001b[39m, ModP(other, \u001b[38;5;28mself\u001b[39m\u001b[38;5;241m.\u001b[39mp))\n",
      "File \u001b[0;32m/media/gdl/scratch/Programs/pyadic/pyadic/finite_field.py:149\u001b[0m, in \u001b[0;36mModP.__truediv__\u001b[0;34m(self, other)\u001b[0m\n\u001b[1;32m    144\u001b[0m \u001b[38;5;129m@ModPfy\u001b[39m\n\u001b[1;32m    145\u001b[0m \u001b[38;5;28;01mdef\u001b[39;00m\u001b[38;5;250m \u001b[39m\u001b[38;5;21m__truediv__\u001b[39m(\u001b[38;5;28mself\u001b[39m, other):\n\u001b[1;32m    146\u001b[0m     \u001b[38;5;66;03m# is this really needed given the decorator?\u001b[39;00m\n\u001b[1;32m    147\u001b[0m     \u001b[38;5;66;03m# if not isinstance(other, ModP):\u001b[39;00m\n\u001b[1;32m    148\u001b[0m     \u001b[38;5;66;03m#     other = ModP(other, self.p)\u001b[39;00m\n\u001b[0;32m--> 149\u001b[0m     \u001b[38;5;28;01mreturn\u001b[39;00m \u001b[38;5;28mself\u001b[39m \u001b[38;5;241m*\u001b[39m \u001b[43mother\u001b[49m\u001b[38;5;241;43m.\u001b[39;49m\u001b[43m_inv\u001b[49m\u001b[43m(\u001b[49m\u001b[43m)\u001b[49m\n",
      "File \u001b[0;32m/media/gdl/scratch/Programs/pyadic/pyadic/finite_field.py:173\u001b[0m, in \u001b[0;36mModP._inv\u001b[0;34m(self)\u001b[0m\n\u001b[1;32m    170\u001b[0m s, _, gcd \u001b[38;5;241m=\u001b[39m extended_euclidean_algorithm(\u001b[38;5;28mint\u001b[39m(\u001b[38;5;28mself\u001b[39m), \u001b[38;5;28mself\u001b[39m\u001b[38;5;241m.\u001b[39mp)\n\u001b[1;32m    172\u001b[0m \u001b[38;5;28;01mif\u001b[39;00m gcd \u001b[38;5;241m!=\u001b[39m \u001b[38;5;241m1\u001b[39m:\n\u001b[0;32m--> 173\u001b[0m     \u001b[38;5;28;01mraise\u001b[39;00m \u001b[38;5;167;01mZeroDivisionError\u001b[39;00m(\u001b[38;5;124m\"\u001b[39m\u001b[38;5;124mInverse of \u001b[39m\u001b[38;5;132;01m{}\u001b[39;00m\u001b[38;5;124m mod \u001b[39m\u001b[38;5;132;01m{}\u001b[39;00m\u001b[38;5;124m does not exist. Are you sure \u001b[39m\u001b[38;5;132;01m{}\u001b[39;00m\u001b[38;5;124m is prime?\u001b[39m\u001b[38;5;124m\"\u001b[39m\u001b[38;5;241m.\u001b[39mformat(\u001b[38;5;28mself\u001b[39m, \u001b[38;5;28mself\u001b[39m\u001b[38;5;241m.\u001b[39mp, \u001b[38;5;28mself\u001b[39m\u001b[38;5;241m.\u001b[39mp))\n\u001b[1;32m    175\u001b[0m \u001b[38;5;28;01mreturn\u001b[39;00m ModP(s, \u001b[38;5;28mself\u001b[39m\u001b[38;5;241m.\u001b[39mp)\n",
      "\u001b[0;31mZeroDivisionError\u001b[0m: Inverse of 2 % 6 mod 6 does not exist. Are you sure 6 is prime?"
     ]
    }
   ],
   "source": [
    "ModP(Q(1, 2), 6)"
   ]
  },
  {
   "cell_type": "markdown",
   "id": "738e5c42",
   "metadata": {},
   "source": [
    "the inverse cannot be computed for any number not co-prime with the chosen modulus"
   ]
  },
  {
   "cell_type": "markdown",
   "id": "0e4d1fbe",
   "metadata": {},
   "source": [
    "### The trivial absoulute value"
   ]
  },
  {
   "cell_type": "code",
   "execution_count": null,
   "id": "9ee606af",
   "metadata": {},
   "outputs": [],
   "source": []
  },
  {
   "cell_type": "code",
   "execution_count": 22,
   "id": "3b0fc0e0",
   "metadata": {},
   "outputs": [
    {
     "data": {
      "text/plain": [
       "1"
      ]
     },
     "execution_count": 22,
     "metadata": {},
     "output_type": "execute_result"
    }
   ],
   "source": [
    "abs(ModP(Q(2), 5))"
   ]
  },
  {
   "cell_type": "code",
   "execution_count": 23,
   "id": "b7edfcdc",
   "metadata": {},
   "outputs": [
    {
     "data": {
      "text/plain": [
       "0"
      ]
     },
     "execution_count": 23,
     "metadata": {},
     "output_type": "execute_result"
    }
   ],
   "source": [
    "abs(ModP(Q(0), 5))"
   ]
  },
  {
   "cell_type": "markdown",
   "id": "c6b7b873",
   "metadata": {},
   "source": [
    "### Limitation"
   ]
  },
  {
   "cell_type": "markdown",
   "id": "80ecd408",
   "metadata": {},
   "source": [
    "a) can make things zero, but not small <br>\n",
    "b) cannot take limits <br>\n",
    "c) calculus is undefined"
   ]
  },
  {
   "cell_type": "code",
   "execution_count": 41,
   "id": "99c1191a",
   "metadata": {},
   "outputs": [
    {
     "ename": "ValueError",
     "evalue": "Finite field infinitesimal does not exist.",
     "output_type": "error",
     "traceback": [
      "\u001b[0;31m---------------------------------------------------------------------------\u001b[0m",
      "\u001b[0;31mValueError\u001b[0m                                Traceback (most recent call last)",
      "Cell \u001b[0;32mIn[41], line 1\u001b[0m\n\u001b[0;32m----> 1\u001b[0m \u001b[43mFp\u001b[49m\u001b[38;5;241;43m.\u001b[39;49m\u001b[43mepsilon\u001b[49m\u001b[43m(\u001b[49m\u001b[43m)\u001b[49m\n",
      "File \u001b[0;32m/media/gdl/scratch/Programs/syngular/syngular/field.py:203\u001b[0m, in \u001b[0;36mField.epsilon\u001b[0;34m(self, shape)\u001b[0m\n\u001b[1;32m    201\u001b[0m     \u001b[38;5;28mself\u001b[39m\u001b[38;5;241m.\u001b[39m_ε \u001b[38;5;241m=\u001b[39m \u001b[38;5;28mself\u001b[39m\u001b[38;5;241m.\u001b[39mcharacteristic\n\u001b[1;32m    202\u001b[0m \u001b[38;5;28;01melif\u001b[39;00m \u001b[38;5;28mself\u001b[39m\u001b[38;5;241m.\u001b[39mname \u001b[38;5;241m==\u001b[39m \u001b[38;5;124m\"\u001b[39m\u001b[38;5;124mfinite field\u001b[39m\u001b[38;5;124m\"\u001b[39m:\n\u001b[0;32m--> 203\u001b[0m     \u001b[38;5;28;01mraise\u001b[39;00m \u001b[38;5;167;01mValueError\u001b[39;00m(\u001b[38;5;124m\"\u001b[39m\u001b[38;5;124mFinite field infinitesimal does not exist.\u001b[39m\u001b[38;5;124m\"\u001b[39m)\n\u001b[1;32m    204\u001b[0m \u001b[38;5;28;01melif\u001b[39;00m \u001b[38;5;28mself\u001b[39m\u001b[38;5;241m.\u001b[39mname \u001b[38;5;241m==\u001b[39m \u001b[38;5;124m\"\u001b[39m\u001b[38;5;124mmpc\u001b[39m\u001b[38;5;124m\"\u001b[39m:\n\u001b[1;32m    205\u001b[0m     \u001b[38;5;28mself\u001b[39m\u001b[38;5;241m.\u001b[39m_ε \u001b[38;5;241m=\u001b[39m mpmath\u001b[38;5;241m.\u001b[39mmpf(\u001b[38;5;124m'\u001b[39m\u001b[38;5;124m1e-30\u001b[39m\u001b[38;5;124m'\u001b[39m)\n",
      "\u001b[0;31mValueError\u001b[0m: Finite field infinitesimal does not exist."
     ]
    }
   ],
   "source": [
    "Fp.epsilon()"
   ]
  },
  {
   "cell_type": "markdown",
   "id": "b088d71f",
   "metadata": {},
   "source": [
    "### [Ostrowski theorem](https://en.wikipedia.org/wiki/Ostrowski%27s_theorem)"
   ]
  },
  {
   "cell_type": "code",
   "execution_count": null,
   "id": "e806ef5d",
   "metadata": {},
   "outputs": [],
   "source": []
  },
  {
   "cell_type": "code",
   "execution_count": null,
   "id": "29f011e6",
   "metadata": {},
   "outputs": [],
   "source": []
  },
  {
   "cell_type": "code",
   "execution_count": null,
   "id": "aec16c4e",
   "metadata": {},
   "outputs": [],
   "source": []
  },
  {
   "cell_type": "markdown",
   "id": "1492175f",
   "metadata": {},
   "source": [
    "## p-adic numbers"
   ]
  },
  {
   "cell_type": "code",
   "execution_count": 10,
   "id": "7d6d08e7",
   "metadata": {},
   "outputs": [],
   "source": [
    "from pyadic import PAdic"
   ]
  },
  {
   "cell_type": "code",
   "execution_count": 11,
   "id": "7478cb65",
   "metadata": {},
   "outputs": [
    {
     "data": {
      "text/plain": [
       "6 + 5*11 + 5*11^2 + O(11^3)"
      ]
     },
     "execution_count": 11,
     "metadata": {},
     "output_type": "execute_result"
    }
   ],
   "source": [
    "PAdic(Q(1, 2), 11, 3)"
   ]
  },
  {
   "cell_type": "code",
   "execution_count": 34,
   "id": "7c8e4c75",
   "metadata": {},
   "outputs": [
    {
     "data": {
      "text/plain": [
       "Field('padic', 2147483647, 11)"
      ]
     },
     "execution_count": 34,
     "metadata": {},
     "output_type": "execute_result"
    }
   ],
   "source": [
    "Qp = Field(\"padic\", 2 ** 31 - 1, 11)\n",
    "Qp"
   ]
  },
  {
   "cell_type": "code",
   "execution_count": 35,
   "id": "99e32792",
   "metadata": {},
   "outputs": [
    {
     "data": {
      "text/plain": [
       "1987708681 + 2098470235*2147483647 + 98393051*2147483647^2 + 417276484*2147483647^3 + 1629737080*2147483647^4 + 771229528*2147483647^5 + 1045128399*2147483647^6 + 1932607596*2147483647^7 + 1385764091*2147483647^8 + 567178084*2147483647^9 + 1893123388*2147483647^10 + O(2147483647^11)"
      ]
     },
     "execution_count": 35,
     "metadata": {},
     "output_type": "execute_result"
    }
   ],
   "source": [
    "Qp.random()"
   ]
  },
  {
   "cell_type": "code",
   "execution_count": 36,
   "id": "05bcfe72",
   "metadata": {},
   "outputs": [
    {
     "data": {
      "text/plain": [
       "2147483647"
      ]
     },
     "execution_count": 36,
     "metadata": {},
     "output_type": "execute_result"
    }
   ],
   "source": [
    "Qp.epsilon()"
   ]
  },
  {
   "cell_type": "code",
   "execution_count": null,
   "id": "d4baefbf",
   "metadata": {},
   "outputs": [],
   "source": []
  },
  {
   "cell_type": "markdown",
   "id": "ce3b7de7",
   "metadata": {},
   "source": [
    "## Phase space in arbitrary fields"
   ]
  },
  {
   "cell_type": "code",
   "execution_count": 24,
   "id": "93eaf14e",
   "metadata": {},
   "outputs": [],
   "source": [
    "from lips import Particles"
   ]
  },
  {
   "cell_type": "code",
   "execution_count": 26,
   "id": "997bcf49",
   "metadata": {},
   "outputs": [
    {
     "name": "stdout",
     "output_type": "stream",
     "text": [
      "Help on class Particles in module lips.particles:\n",
      "\n",
      "class Particles(lips.particles_compute.Particles_Compute, lips.particles_eval.Particles_Eval, lips.hardcoded_limits.particles_set.Particles_Set, lips.hardcoded_limits.particles_set_pair.Particles_SetPair, lips.algebraic_geometry.particles_singular_variety.Particles_SingularVariety, lips.particles_variety.Particles_Variety, lips.particles_slices.Particles_Slices, builtins.list)\n",
      " |  Particles(number_of_particles_or_particles=None, seed=None, real_momenta=False, field=Field('mpc', 0, 300), fix_mom_cons=True, internal_masses=None)\n",
      " |  \n",
      " |  Describes the kinematics of n particles. Base one list of Particle objects.\n",
      " |  \n",
      " |  Method resolution order:\n",
      " |      Particles\n",
      " |      lips.particles_compute.Particles_Compute\n",
      " |      lips.particles_eval.Particles_Eval\n",
      " |      lips.hardcoded_limits.particles_set.Particles_Set\n",
      " |      lips.hardcoded_limits.particles_set_pair.Particles_SetPair\n",
      " |      lips.algebraic_geometry.particles_singular_variety.Particles_SingularVariety\n",
      " |      lips.particles_variety.Particles_Variety\n",
      " |      lips.particles_slices.Particles_Slices\n",
      " |      builtins.list\n",
      " |      builtins.object\n",
      " |  \n",
      " |  Methods defined here:\n",
      " |  \n",
      " |  __call__(self, string_expression)\n",
      " |      Call self as a function.\n",
      " |  \n",
      " |  __delitem__ = decorated(self, index, *args)\n",
      " |  \n",
      " |  __eq__(self, other)\n",
      " |      Checks equality of each particle in particles.\n",
      " |  \n",
      " |  __getitem__ = decorated(self, index, *args)\n",
      " |  \n",
      " |  __hash__(self)\n",
      " |      Hash function: hash string of concatenated momenta.\n",
      " |  \n",
      " |  __init__(self, number_of_particles_or_particles=None, seed=None, real_momenta=False, field=Field('mpc', 0, 300), fix_mom_cons=True, internal_masses=None)\n",
      " |      Initialisation. Requires either multiplicity of phace space or list of Particle objects.\n",
      " |  \n",
      " |  __setattr__(self, name, value)\n",
      " |      Implement setattr(self, name, value).\n",
      " |  \n",
      " |  __setitem__ = decorated(self, index, *args)\n",
      " |  \n",
      " |  analytical_subs_d(self)\n",
      " |  \n",
      " |  angles_for_squares(self)\n",
      " |      Switches all angle brackets for square brackets and viceversa.\n",
      " |  \n",
      " |  cluster(self, llIntegers, massive_fermions=None)\n",
      " |      Returns clustered particle objects according to lists of lists of integers (e.g. corners of one loop diagram).\n",
      " |      Massive legs are by default massive scalars.\n",
      " |      Massive fermions can be specificed as e.g.: massive_fermions=((3, 'u', all), (4, 'd', all)))\n",
      " |  \n",
      " |  copy(self)\n",
      " |      Return a shallow copy of the list.\n",
      " |  \n",
      " |  fix_mom_cons(self, A=0, B=0, real_momenta=False, axis=1)\n",
      " |      Fixes momentum conservation using particles A and B.\n",
      " |  \n",
      " |  four_momenta_for_mathematica(self, as_spinors=False)\n",
      " |  \n",
      " |  ijk_to_3Ks(self, ijk)\n",
      " |  \n",
      " |  ijk_to_3NonOverlappingLists(self, ijk, mode=1)\n",
      " |  \n",
      " |  image(self, permutation_or_rule)\n",
      " |      Returns the image of self under a given permutation or rule. Remember, this is a passive transformation.\n",
      " |  \n",
      " |  insert = decorated(self, index, *args)\n",
      " |  \n",
      " |  make_analytical_d(self, indepVars=None, symbols=('a', 'b', 'c', 'd'))\n",
      " |  \n",
      " |  momentum_conservation_check(self, silent=True)\n",
      " |      Returns true if momentum is conserved.\n",
      " |  \n",
      " |  onshell_relation_check(self, silent=True)\n",
      " |      Returns true if all on-shell relations are satisfied.\n",
      " |  \n",
      " |  phasespace_consistency_check(self, invariants=[], silent=True)\n",
      " |      Runs momentum and onshell checks. Looks for outliers in phase space. Returns: mom_cons, on_shell, big_outliers, small_outliers.\n",
      " |  \n",
      " |  randomise_all(self, real_momenta=False)\n",
      " |      Randomises all particles. Breaks momentum conservation.\n",
      " |  \n",
      " |  randomise_twistor(self)\n",
      " |  \n",
      " |  save_phase_space_point(self, invariant='')\n",
      " |  \n",
      " |  subs(self, myDict)\n",
      " |      Substitutes symbols with values from myDict, acts depending on whether the particle is massless or not.\n",
      " |  \n",
      " |  to_field(self, field)\n",
      " |  \n",
      " |  ----------------------------------------------------------------------\n",
      " |  Static methods defined here:\n",
      " |  \n",
      " |  check_consistency(temp_string)\n",
      " |  \n",
      " |  ----------------------------------------------------------------------\n",
      " |  Readonly properties defined here:\n",
      " |  \n",
      " |  internal_masses_dict\n",
      " |  \n",
      " |  m2s\n",
      " |      Masses squared of all particles in phase space.\n",
      " |  \n",
      " |  ms\n",
      " |      Masses of all particles in phase space.\n",
      " |  \n",
      " |  multiplicity\n",
      " |  \n",
      " |  spinors_are_in_field_extension\n",
      " |  \n",
      " |  total_mom\n",
      " |      Total momentum of the given phase space as a rank two spinor.\n",
      " |  \n",
      " |  ----------------------------------------------------------------------\n",
      " |  Data descriptors defined here:\n",
      " |  \n",
      " |  __dict__\n",
      " |      dictionary for instance variables (if defined)\n",
      " |  \n",
      " |  __weakref__\n",
      " |      list of weak references to the object (if defined)\n",
      " |  \n",
      " |  ----------------------------------------------------------------------\n",
      " |  Methods inherited from lips.particles_compute.Particles_Compute:\n",
      " |  \n",
      " |  compute(self, original_temp_string)\n",
      " |      Computes spinor strings.\n",
      " |      \n",
      " |      Available variables: ⟨a|b⟩, [a|b], ⟨a|b+c|d], ⟨a|b+c|d+e|f], ..., s_ijk, Δ_ijk, Ω_ijk, Π_ijk, tr5_ijkl\n",
      " |  \n",
      " |  ee(self, i, j)\n",
      " |      Contraction of two polarization tensors. Requires .helconf property to be set.\n",
      " |  \n",
      " |  ep(self, i, j)\n",
      " |      Contraction of polarization tensor with four momentum. Requires .helconf property to be set.\n",
      " |  \n",
      " |  ldot(self, A, B)\n",
      " |      Lorentz dot product: 1/2 trace(P^{α̇α}P̅̅_{αα̇}) = P_A^μ * η_μν * P_B^ν.\n",
      " |  \n",
      " |  pe(self, i, j)\n",
      " |      Contraction of four momentum with polarization tensor. Requires .helconf property to be set.\n",
      " |  \n",
      " |  ----------------------------------------------------------------------\n",
      " |  Class methods inherited from lips.algebraic_geometry.particles_singular_variety.Particles_SingularVariety:\n",
      " |  \n",
      " |  from_singular_variety(multiplicity, field, invariants, valuations=(), generators=[], indepSetNbr=None, indepSet='guess', seed=None, verbose=False) from builtins.type\n",
      " |  \n",
      " |  ----------------------------------------------------------------------\n",
      " |  Methods inherited from lips.particles_variety.Particles_Variety:\n",
      " |  \n",
      " |  variety(self, invariants, valuations, try_singular_variety_solver=True, verbose=False)\n",
      " |      Constructs the required phase space point by first trying hardcoded limits and then the singular variety.\n",
      " |  \n",
      " |  ----------------------------------------------------------------------\n",
      " |  Methods inherited from lips.particles_slices.Particles_Slices:\n",
      " |  \n",
      " |  bivariate_slice(self, extra_constraints=(), seed=None, indepSets=None, algorithm='covariant', verbose=False)\n",
      " |  \n",
      " |  univariate_slice(self, extra_constraints=(), seed=None, indepSets=None, algorithm='covariant', kind='generic', minimal_non_zero=None, codim_upper_bound=None, verbose=False)\n",
      " |  \n",
      " |  ----------------------------------------------------------------------\n",
      " |  Methods inherited from builtins.list:\n",
      " |  \n",
      " |  __add__(self, value, /)\n",
      " |      Return self+value.\n",
      " |  \n",
      " |  __contains__(self, key, /)\n",
      " |      Return key in self.\n",
      " |  \n",
      " |  __ge__(self, value, /)\n",
      " |      Return self>=value.\n",
      " |  \n",
      " |  __getattribute__(self, name, /)\n",
      " |      Return getattr(self, name).\n",
      " |  \n",
      " |  __gt__(self, value, /)\n",
      " |      Return self>value.\n",
      " |  \n",
      " |  __iadd__(self, value, /)\n",
      " |      Implement self+=value.\n",
      " |  \n",
      " |  __imul__(self, value, /)\n",
      " |      Implement self*=value.\n",
      " |  \n",
      " |  __iter__(self, /)\n",
      " |      Implement iter(self).\n",
      " |  \n",
      " |  __le__(self, value, /)\n",
      " |      Return self<=value.\n",
      " |  \n",
      " |  __len__(self, /)\n",
      " |      Return len(self).\n",
      " |  \n",
      " |  __lt__(self, value, /)\n",
      " |      Return self<value.\n",
      " |  \n",
      " |  __mul__(self, value, /)\n",
      " |      Return self*value.\n",
      " |  \n",
      " |  __ne__(self, value, /)\n",
      " |      Return self!=value.\n",
      " |  \n",
      " |  __repr__(self, /)\n",
      " |      Return repr(self).\n",
      " |  \n",
      " |  __reversed__(self, /)\n",
      " |      Return a reverse iterator over the list.\n",
      " |  \n",
      " |  __rmul__(self, value, /)\n",
      " |      Return value*self.\n",
      " |  \n",
      " |  __sizeof__(self, /)\n",
      " |      Return the size of the list in memory, in bytes.\n",
      " |  \n",
      " |  append(self, object, /)\n",
      " |      Append object to the end of the list.\n",
      " |  \n",
      " |  clear(self, /)\n",
      " |      Remove all items from list.\n",
      " |  \n",
      " |  count(self, value, /)\n",
      " |      Return number of occurrences of value.\n",
      " |  \n",
      " |  extend(self, iterable, /)\n",
      " |      Extend list by appending elements from the iterable.\n",
      " |  \n",
      " |  index(self, value, start=0, stop=9223372036854775807, /)\n",
      " |      Return first index of value.\n",
      " |      \n",
      " |      Raises ValueError if the value is not present.\n",
      " |  \n",
      " |  pop(self, index=-1, /)\n",
      " |      Remove and return item at index (default last).\n",
      " |      \n",
      " |      Raises IndexError if list is empty or index is out of range.\n",
      " |  \n",
      " |  remove(self, value, /)\n",
      " |      Remove first occurrence of value.\n",
      " |      \n",
      " |      Raises ValueError if the value is not present.\n",
      " |  \n",
      " |  reverse(self, /)\n",
      " |      Reverse *IN PLACE*.\n",
      " |  \n",
      " |  sort(self, /, *, key=None, reverse=False)\n",
      " |      Sort the list in ascending order and return None.\n",
      " |      \n",
      " |      The sort is in-place (i.e. the list itself is modified) and stable (i.e. the\n",
      " |      order of two equal elements is maintained).\n",
      " |      \n",
      " |      If a key function is given, apply it once to each list item and sort them,\n",
      " |      ascending or descending, according to their function values.\n",
      " |      \n",
      " |      The reverse flag can be set to sort in descending order.\n",
      " |  \n",
      " |  ----------------------------------------------------------------------\n",
      " |  Class methods inherited from builtins.list:\n",
      " |  \n",
      " |  __class_getitem__(...) from builtins.type\n",
      " |      See PEP 585\n",
      " |  \n",
      " |  ----------------------------------------------------------------------\n",
      " |  Static methods inherited from builtins.list:\n",
      " |  \n",
      " |  __new__(*args, **kwargs) from builtins.type\n",
      " |      Create and return a new object.  See help(type) for accurate signature.\n",
      "\n"
     ]
    }
   ],
   "source": [
    "help(Particles)"
   ]
  },
  {
   "cell_type": "code",
   "execution_count": null,
   "id": "0b4df470",
   "metadata": {},
   "outputs": [],
   "source": []
  },
  {
   "cell_type": "markdown",
   "id": "345c2970",
   "metadata": {},
   "source": [
    "## Interpolation algorithms"
   ]
  },
  {
   "cell_type": "code",
   "execution_count": null,
   "id": "a71af96b",
   "metadata": {},
   "outputs": [],
   "source": []
  },
  {
   "cell_type": "code",
   "execution_count": null,
   "id": "a82db428",
   "metadata": {},
   "outputs": [],
   "source": []
  },
  {
   "cell_type": "code",
   "execution_count": null,
   "id": "672edfb4",
   "metadata": {},
   "outputs": [],
   "source": []
  },
  {
   "cell_type": "markdown",
   "id": "d2b11548",
   "metadata": {},
   "source": [
    "### Why Reconstruction $\\supset$ Interpolation"
   ]
  },
  {
   "cell_type": "code",
   "execution_count": null,
   "id": "40b75a8c",
   "metadata": {},
   "outputs": [],
   "source": []
  },
  {
   "cell_type": "code",
   "execution_count": null,
   "id": "6b033f4e",
   "metadata": {},
   "outputs": [],
   "source": []
  },
  {
   "cell_type": "markdown",
   "id": "d248b340",
   "metadata": {},
   "source": [
    "## Least Common Denominators"
   ]
  },
  {
   "cell_type": "code",
   "execution_count": null,
   "id": "c675a7ca",
   "metadata": {},
   "outputs": [],
   "source": []
  },
  {
   "cell_type": "code",
   "execution_count": null,
   "id": "8229f26f",
   "metadata": {},
   "outputs": [],
   "source": []
  },
  {
   "cell_type": "code",
   "execution_count": null,
   "id": "07d4cd6a",
   "metadata": {},
   "outputs": [],
   "source": []
  },
  {
   "cell_type": "markdown",
   "id": "e9943c26",
   "metadata": {},
   "source": [
    "## Computational Algebraic Geometry"
   ]
  },
  {
   "cell_type": "code",
   "execution_count": null,
   "id": "9e289998",
   "metadata": {},
   "outputs": [],
   "source": []
  },
  {
   "cell_type": "code",
   "execution_count": null,
   "id": "3e875f66",
   "metadata": {},
   "outputs": [],
   "source": []
  },
  {
   "cell_type": "code",
   "execution_count": null,
   "id": "83ba1f64",
   "metadata": {},
   "outputs": [],
   "source": []
  },
  {
   "cell_type": "code",
   "execution_count": null,
   "id": "3cce9e4e",
   "metadata": {},
   "outputs": [],
   "source": []
  },
  {
   "cell_type": "code",
   "execution_count": null,
   "id": "14433984",
   "metadata": {},
   "outputs": [],
   "source": []
  }
 ],
 "metadata": {
  "kernelspec": {
   "display_name": "Python 3 (ipykernel)",
   "language": "python",
   "name": "python3"
  },
  "language_info": {
   "codemirror_mode": {
    "name": "ipython",
    "version": 3
   },
   "file_extension": ".py",
   "mimetype": "text/x-python",
   "name": "python",
   "nbconvert_exporter": "python",
   "pygments_lexer": "ipython3",
   "version": "3.10.12"
  },
  "toc": {
   "base_numbering": 1,
   "nav_menu": {},
   "number_sections": true,
   "sideBar": true,
   "skip_h1_title": true,
   "title_cell": "Table of Contents",
   "title_sidebar": "Contents",
   "toc_cell": false,
   "toc_position": {},
   "toc_section_display": true,
   "toc_window_display": false
  }
 },
 "nbformat": 4,
 "nbformat_minor": 5
}
