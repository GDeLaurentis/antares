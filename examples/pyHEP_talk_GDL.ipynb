{
 "cells": [
  {
   "cell_type": "markdown",
   "id": "26c9e4bf",
   "metadata": {},
   "source": [
    "# Scattering Amplitude Reconstruction in Python\n",
    "\n",
    "###### Giuseppe De Laurentis - University of Edinburgh\n",
    "\n",
    "[PyHEP indico](\"https://indico.cern.ch/event/1566263/timetable/#10-scattering-amplitude-recons\")\n",
    "\n",
    "[mybinder.org/v2/gh/GDeLaurentis/antares/HEAD](https://mybinder.org/v2/gh/GDeLaurentis/antares/HEAD) then go to examples/pyHEP_talk_GDL.ipynb"
   ]
  },
  {
   "cell_type": "markdown",
   "id": "3dc47f96",
   "metadata": {},
   "source": [
    "## Motivation"
   ]
  },
  {
   "cell_type": "markdown",
   "id": "c54e706e",
   "metadata": {},
   "source": [
    "Next-to-next-to-leading order (NNLO) predictions are essential to match the experimental precision"
   ]
  },
  {
   "cell_type": "markdown",
   "id": "d25c7b8c",
   "metadata": {},
   "source": [
    "<img src=\"1911.00479.crosssection.png\" style=\"max-width:150mm; margin-top:2mm; margin-bottom:0mm;\">\n",
    "<center> $\\sigma_{pp\\rightarrow \\gamma\\gamma\\gamma}$ Chawdhry et al. <a href=https://arxiv.org/abs/1911.00479> arXiv:1911.00479 </a> </center>\n",
    "\n",
    "without them we cannot tell new physics apart from a mismodelled SM background."
   ]
  },
  {
   "cell_type": "markdown",
   "id": "9f0c290c",
   "metadata": {},
   "source": [
    "Partonic cross sections read:\n",
    "$$\\small \\hat{σ}_{n}=\\frac{1}{2\\hat{s}}\\int d\\Pi_{n-2}\\;(2π)^4δ^4\\big(\\sum_{i=1}^n p_i\\big)\\;|\\overline{\\mathcal{A}(p_i,h_i,a_i,μ_F, μ_R)}|^2$$"
   ]
  },
  {
   "cell_type": "markdown",
   "id": "8a18087f",
   "metadata": {},
   "source": [
    "Objective: compute the amplitude at least at NNLO $\\mathcal{A} \\approx \\mathcal{A}^{\\text{tree}} + \\alpha_s \\mathcal{A}^{(1-\\text{loop})} + \\alpha_s^2 \\mathcal{A}^{(2-\\text{loop})}$ <br>\n",
    "Challenges: <br>\n",
    "1) At NNLO (~ two-loop Feynman diagrams) analytic computations are often unfeasible, especially at high multiplicities\n",
    "2) Even if an analytic result is avaiable, they may be hard to simplify through analytic manipulations"
   ]
  },
  {
   "cell_type": "markdown",
   "id": "17fa0a2d",
   "metadata": {},
   "source": [
    "Simpler results are not just a theorist delight, they are essential for phenomenology"
   ]
  },
  {
   "cell_type": "markdown",
   "id": "f557a618",
   "metadata": {},
   "source": [
    "<img src=\"quad-precision-no-rescue.png\" style=\"max-width:150mm; margin-top:2mm; margin-bottom:0mm;\">"
   ]
  },
  {
   "cell_type": "markdown",
   "id": "23b4d897",
   "metadata": {},
   "source": [
    "<center> Evaluation of the two-loop corrections to pp -> Vjj obtained in 2021, Abreu et al.<a href=https://arxiv.org/abs/2110.07541> arXiv:2110.07541 </a> </center>"
   ]
  },
  {
   "cell_type": "markdown",
   "id": "a41ad019",
   "metadata": {},
   "source": [
    "<img src=\"h2__g_g__Z_b_b.stability.png\" style=\"max-width:150mm; margin-top:2mm; margin-bottom:0mm;\">"
   ]
  },
  {
   "cell_type": "markdown",
   "id": "a6b7ae43",
   "metadata": {},
   "source": [
    "<center> Evaluation of the new two-loop amplitude for $pp \\to Vjj$, GDL et al.<a href=https://arxiv.org/abs/2503.1059> arXiv:2503.10595 </a> </center>"
   ]
  },
  {
   "cell_type": "markdown",
   "id": "c013d1e0",
   "metadata": {},
   "source": [
    "## What is analytic reconstruction?"
   ]
  },
  {
   "cell_type": "markdown",
   "id": "d1054295",
   "metadata": {},
   "source": [
    "A) Compute numerically to bypass all intermediate complexities <br>\n",
    "B) Analytise the numerical evaluations to infer the exact analytic representation \n",
    "\n",
    "<br>\n",
    "\n",
    "<center> <b> Analytic reconstruction is an alternative to analytic manipulations </b> </center>\n",
    "\n",
    "<br>\n",
    "\n",
    "What is it good for:\n",
    "\n",
    "A) it is needed both to obtain new NNLO corrections <br>\n",
    "B) and to make available expressions efficient / usable"
   ]
  },
  {
   "cell_type": "markdown",
   "id": "243d9b60",
   "metadata": {},
   "source": [
    "Efficiency is also a pressing need: <br> the $\\alpha_s$ extraction from energy-energy correlators in $pp\\rightarrow jjj$ (NNLO, leading color, i.e. up to $1/Nc$ corrections) by ATLAS [arXiv:2301.09351](https://arxiv.org/abs/2301.09351) used $10^8$CPUh"
   ]
  },
  {
   "cell_type": "markdown",
   "id": "9cfffcf0",
   "metadata": {},
   "source": [
    "## Why Python over Mathematica?"
   ]
  },
  {
   "cell_type": "markdown",
   "id": "bcb62886",
   "metadata": {},
   "source": [
    "Among theorists, Mathematica is much more widely used than Python. As a Python user, this is my benefit analysis:\n",
    "\n",
    "Cons:\n",
    "1) analytic manipulations are more awkward  (but we will do mostly numerical work)\n",
    "\n",
    "Pros:\n",
    "1) Name spaces: variables in Python are local by default, in Mathematica they are global\n",
    "2) Object oriented: in Python we can attach methods and properties to objects, in Mathematica everything is a glorified list <br>\n",
    "2b. This makes onboarding a nightmare, you need to know entire code bases to know what methods are avaiable (introspection is great!)\n",
    "3) Package manager (PyPI), in Mathematica pass files by email or attach to papers (they often break with new versions) <br>\n",
    "3b. Large community with many available packages\n",
    "4) Continuous integration: pytest, flint, etc. - in Mathemtica, write a Python script that runs the test\n",
    "5) Licenses: multi-processing / threading not limited by number of bought licences\n",
    "6) Open source\n",
    "\n",
    "Is performance an issue? Not really, outsource compute intensive operations to C++ / CUDA / Fortran / Rust (interfacing is simple)!"
   ]
  },
  {
   "cell_type": "markdown",
   "id": "922e6252",
   "metadata": {},
   "source": [
    "## A toy example"
   ]
  },
  {
   "cell_type": "markdown",
   "id": "c275c77c",
   "metadata": {},
   "source": [
    "Work with spinor-helicity variables:\n",
    "$$p_{i, \\mu} \\sigma_\\mu^{\\dot\\alpha\\alpha} = p^{\\dot\\alpha\\alpha}_i = \\tilde\\lambda_i^{\\dot\\alpha}\\lambda_i^{\\alpha} = |i]\\langle i | \\; \\text{ if } \\;  p^2 = 0 $$\n",
    "and Mandelstam invariants:\n",
    "$$s_{ij\\dots k} = (p_i + p_j + \\dots + p_k)^2 $$"
   ]
  },
  {
   "cell_type": "code",
   "execution_count": 1,
   "id": "30710048",
   "metadata": {},
   "outputs": [],
   "source": [
    "mandelstam_expression = \"(1/(⟨14⟩^2⟨15⟩^2⟨23⟩^2))⟨12⟩^3⟨13⟩((4s23(-(s23s34+(s15-s34)s45)^3(s23s34+s45(s15+s34+s45))+s12^3(s15-s23)(s15^3s45+s23^2s34(-s23+s45)+s15^2s45(-s23+s45)+s15(s23^2s34-s23s45^2-s34s45^2))-s12^2(3s15^4s45^2+s15^3s45^2(-4s23-2s34+3s45)+s23s34^2(3s23^3-4s23^2s45+s45^3)+s15^2(-s23s45^2(s34+4s45)-s34s45^2(s34+5s45)+s23^2(s34^2+s45^2))+s15(-4s23^3s34^2+2s34^2s45^3+s23s34s45^2(s34+2s45)+s23^2s45(s34^2+s45^2)))+s12(3s15^4s45^3+s15^3s45^2(4s23s34-2s23s45-4s34s45+3s45^2)+s34^2(s23-s45)^2(3s23^2s34-s34s45^2+s23s45(s34+s45))-s15^2s45(s23^2s34(s34+s45)+s34s45^2(s34+7s45)+2s23s45(2s34^2-s34s45+s45^2))-s15s34(s23-s45)(2s23^2s34(s34-2s45)+s34s45^2(2s34+5s45)+s23s45(2s34^2+2s34s45+s45^2)))))/(3s12^3(s15-s23)s34(s12+s23-s45)s45(s15+s45)(-s12+s34+s45))+(4s23((s23s34+(s15-s34)s45)^2(s23s34+s45(s15+s34+s45))+s12^2(s23^2s34(s23-s45)+s15^3s45+s15^2s45(-s23+s45)-s15(s23^2s34+s23s45^2+s34s45^2))+s12(-2s15^3s45^2+s34^2(-2s23^3+2s23^2s45+s23s45^2-s45^3)+s15^2s45((s34-2s45)s45+s23(-s34+s45))+s15(s23^2s34(s34-s45)+s23s45^3+s34s45^2(s34+3s45))))(-tr5_1234))/(3s12^3(s15-s23)s34(s12+s23-s45)(s12-s34-s45)s45(s15+s45)))[31]\"\n",
    "\n",
    "def black_box_function(phase_space_point):  # may be a complicated expression we want to simplify, or a numerical routine\n",
    "    return phase_space_point(mandelstam_expression)"
   ]
  },
  {
   "cell_type": "code",
   "execution_count": 2,
   "id": "b724e536",
   "metadata": {},
   "outputs": [],
   "source": [
    "# pip install antares-hep (Automated Numerical To Analytical Reconstruction Software) (under development)\n",
    "from antares import Terms  "
   ]
  },
  {
   "cell_type": "code",
   "execution_count": 3,
   "id": "de50b6e0",
   "metadata": {},
   "outputs": [],
   "source": [
    "# Goal: reconstruct the simplest possible form of this function\n",
    "oTerms = Terms(\"\"\"\n",
    "+(8/3s23⟨24⟩[34])/(⟨15⟩⟨34⟩⟨45⟩⟨4|1+5|4])\n",
    "+('12354', False, '+')\n",
    "\"\"\")  # this functions is symmetric under 4<->5 exchange, make it manifest"
   ]
  },
  {
   "cell_type": "markdown",
   "id": "9a06ab89",
   "metadata": {},
   "source": [
    "### Flash overview of lips"
   ]
  },
  {
   "cell_type": "code",
   "execution_count": 4,
   "id": "2c867500",
   "metadata": {},
   "outputs": [],
   "source": [
    "# pip install lips (Lorentz invariant phase space)\n",
    "from lips import Particles"
   ]
  },
  {
   "cell_type": "code",
   "execution_count": 5,
   "id": "db76d162",
   "metadata": {},
   "outputs": [],
   "source": [
    "# random (complex) phase space point with 5 massless legs; default is complex with 300 digits of precision\n",
    "# uses mpmath for the arbitrary precision floating-point numbers (mpc and mpf)\n",
    "oPs = Particles(5)"
   ]
  },
  {
   "cell_type": "code",
   "execution_count": 6,
   "id": "27941308",
   "metadata": {},
   "outputs": [
    {
     "data": {
      "text/plain": [
       "array([mpc(real='0.797665907219305524597141209514889165345089658298936999301685171494152458804040891077997689753909086125957224477521681009971621335336947774934242416245013557747661529815896661567009190973713111411632396557558490998250149219650288809978614256956965180658861912023033580847208672599196960230777396504663271', imag='0.719430816873820801517618028228906958437853004742745082082987850201855613329677576047272323663675841374159015991791698996684167385933117453417153494499815943100147350904148454341003576948640329778262452846348204288856839277608975747873799818590411041242360167147762145572115925086860254707275040266533781'),\n",
       "       mpc(real='-1.39999999999999999999999999999999999999999999999999999999999999999999999999999999999999999999999999999999999999999999999999999999999999999999999999999999999999999999999999999999999999999999999999999999999999999999999999999999999999999999999999999999999999999999999999999999999999999999999999999999999996', imag='-0.474576271186440677966101694915254237288135593220338983050847457627118644067796610169491525423728813559322033898305084745762711864406779661016949152542372881355932203389830508474576271186440677966101694915254237288135593220338983050847457627118644067796610169491525423728813559322033898305084745762711868'),\n",
       "       mpc(real='0.144578313253012048192771084337349397590361445783132530120481927710843373493975903614457831325301204819277108433734939759036144578313253012048192771084337349397590361445783132530120481927710843373493975903614457831325301204819277108433734939759036144578313253012048192771084337349397590361445783132530113', imag='-1.38333333333333333333333333333333333333333333333333333333333333333333333333333333333333333333333333333333333333333333333333333333333333333333333333333333333333333333333333333333333333333333333333333333333333333333333333333333333333333333333333333333333333333333333333333333333333333333333333333333333332'),\n",
       "       mpc(real='0.560975609756097560975609756097560975609756097560975609756097560975609756097560975609756097560975609756097560975609756097560975609756097560975609756097560975609756097560975609756097560975609756097560975609756097560975609756097560975609756097560975609756097560975609756097560975609756097560975609756097602', imag='0.1951219512195121951219512195121951219512195121951219512195121951219512195121951219512195121951219512195121951219512195121951219512195121951219512195121951219512195121951219512195121951219512195121951219512195121951219512195121951219512195121951219512195121951219512195121951219512195121951219512195122')],\n",
       "      dtype=object)"
      ]
     },
     "execution_count": 6,
     "metadata": {},
     "output_type": "execute_result"
    }
   ],
   "source": [
    "oPs[1].four_mom # four momentum, p^\\mu"
   ]
  },
  {
   "cell_type": "code",
   "execution_count": 7,
   "id": "a3f608e2",
   "metadata": {},
   "outputs": [
    {
     "data": {
      "text/plain": [
       "array([[mpc(real='1.22401358812468578886496848243092202810762477202721117176060278098929736665769313579198906728409121265855342221450981899261535919893610863836754773222539175485628071796133963109141947292781528157228435091912397998397421959359558901840080211948089935333903804033818043567783300729753059620822416685814934', imag='0.37358766968205047819718557800926173701041600394698280078635749731095433274951439357618999052192310182074540382833216462636654860404249289482293745857710758455994997789557340639538854510292270525201995005667150577658624984924762600017350460451676315755326042777588728679748450083061108942208846580581615')],\n",
       "       [mpc(real='-0.0877307433312633304577213996014340426222829459563553533364497750546709851802000902270206241766028048176792510317576449972782297614709679057948511162483951947867361244773267824518325596286625889347623108594786586592713017763761279410167926479682246579984242460858074614996605967990648234148721855636442882', imag='-0.242826417007513537928906914081911741617492065267108899646399735243981958249744843780331711767439619297363980224499126259673973926539091141833569166086388207535123956525748147031563386138305465983058840137091950194234805219103001176559719250755960580612051815568980897123596819557302747057321716230784379')]],\n",
       "      dtype=object)"
      ]
     },
     "execution_count": 7,
     "metadata": {},
     "output_type": "execute_result"
    }
   ],
   "source": [
    "oPs[1].r_sp_d  # right-handed spinor index down"
   ]
  },
  {
   "cell_type": "markdown",
   "id": "c4a8e830",
   "metadata": {},
   "source": [
    "i.e. $\\tilde\\lambda_{1, \\dot\\alpha}$"
   ]
  },
  {
   "cell_type": "code",
   "execution_count": 8,
   "id": "bbb1ffc2",
   "metadata": {},
   "outputs": [
    {
     "data": {
      "text/plain": [
       "array([[mpc(real='1.22401358812468578886496848243092202810762477202721117176060278098929736665769313579198906728409121265855342221450981899261535919893610863836754773222539175485628071796133963109141947292781528157228435091912397998397421959359558901840080211948089935333903804033818043567783300729753059620822416685814934', imag='0.37358766968205047819718557800926173701041600394698280078635749731095433274951439357618999052192310182074540382833216462636654860404249289482293745857710758455994997789557340639538854510292270525201995005667150577658624984924762600017350460451676315755326042777588728679748450083061108942208846580581615'),\n",
       "        mpc(real='-2.22139297019482697940015127464900025772284644157293666549230805011700692196970124934758270218204386810148540970578770114677654680253764308720647605608819745288693421128254620640416004487110626495281937595473914711101369537650347173091536472877931911263997997776350696487488022773314502374671500538856698', imag='0.172163479873276504196006768470664401045146817062565281854439121626719227183408050629065407731884414319552851492886209771591222507149110805184719802761156108290232558350027162557580780587317438295664834744024983396819116024140527835494588939164701759147183393000313096073060174428678698410720178255679084')]],\n",
       "      dtype=object)"
      ]
     },
     "execution_count": 8,
     "metadata": {},
     "output_type": "execute_result"
    }
   ],
   "source": [
    "oPs[1].l_sp_d  # left-handed spinor index down"
   ]
  },
  {
   "cell_type": "markdown",
   "id": "adc69c3b",
   "metadata": {},
   "source": [
    "i.e. $\\lambda_{1, \\alpha}$"
   ]
  },
  {
   "cell_type": "markdown",
   "id": "b84e8ea6",
   "metadata": {},
   "source": [
    "Implements getters and setters, e.g. updating the value of .four_mom will automatically update the spinors (and vice versa)"
   ]
  },
  {
   "cell_type": "code",
   "execution_count": 9,
   "id": "8accc9a1",
   "metadata": {},
   "outputs": [
    {
     "data": {
      "text/plain": [
       "\"(1/(oPs('⟨1|4⟩')**2*oPs('⟨1|5⟩')**2*oPs('⟨2|3⟩')**2))*oPs('⟨1|2⟩')**3*oPs('⟨1|3⟩')*((4*oPs('s_23')*(-(oPs('s_23')*oPs('s_34')+(oPs('s_15')-oPs('s_34'))*oPs('s_45'))**3*(oPs('s_23')*oPs('s_34')+oPs('s_45')*(oPs('s_15')+oPs('s_34')+oPs('s_45')))+oPs('s_12')**3*(oPs('s_15')-oPs('s_23'))*(oPs('s_15')**3*oPs('s_45')+oPs('s_23')**2*oPs('s_34')*(-oPs('s_23')+oPs('s_45'))+oPs('s_15')**2*oPs('s_45')*(-oPs('s_23')+oPs('s_45'))+oPs('s_15')*(oPs('s_23')**2*oPs('s_34')-oPs('s_23')*oPs('s_45')**2-oPs('s_34')*oPs('s_45')**2))-oPs('s_12')**2*(3*oPs('s_15')**4*oPs('s_45')**2+oPs('s_15')**3*oPs('s_45')**2*(-4*oPs('s_23')-2*oPs('s_34')+3*oPs('s_45'))+oPs('s_23')*oPs('s_34')**2*(3*oPs('s_23')**3-4*oPs('s_23')**2*oPs('s_45')+oPs('s_45')**3)+oPs('s_15')**2*(-oPs('s_23')*oPs('s_45')**2*(oPs('s_34')+4*oPs('s_45'))-oPs('s_34')*oPs('s_45')**2*(oPs('s_34')+5*oPs('s_45'))+oPs('s_23')**2*(oPs('s_34')**2+oPs('s_45')**2))+oPs('s_15')*(-4*oPs('s_23')**3*oPs('s_34')**2+2*oPs('s_34')**2*oPs('s_45')**3+oPs('s_23')*oPs('s_34')*oPs('s_45')**2*(oPs('s_34')+2*oPs('s_45'))+oPs('s_23')**2*oPs('s_45')*(oPs('s_34')**2+oPs('s_45')**2)))+oPs('s_12')*(3*oPs('s_15')**4*oPs('s_45')**3+oPs('s_15')**3*oPs('s_45')**2*(4*oPs('s_23')*oPs('s_34')-2*oPs('s_23')*oPs('s_45')-4*oPs('s_34')*oPs('s_45')+3*oPs('s_45')**2)+oPs('s_34')**2*(oPs('s_23')-oPs('s_45'))**2*(3*oPs('s_23')**2*oPs('s_34')-oPs('s_34')*oPs('s_45')**2+oPs('s_23')*oPs('s_45')*(oPs('s_34')+oPs('s_45')))-oPs('s_15')**2*oPs('s_45')*(oPs('s_23')**2*oPs('s_34')*(oPs('s_34')+oPs('s_45'))+oPs('s_34')*oPs('s_45')**2*(oPs('s_34')+7*oPs('s_45'))+2*oPs('s_23')*oPs('s_45')*(2*oPs('s_34')**2-oPs('s_34')*oPs('s_45')+oPs('s_45')**2))-oPs('s_15')*oPs('s_34')*(oPs('s_23')-oPs('s_45'))*(2*oPs('s_23')**2*oPs('s_34')*(oPs('s_34')-2*oPs('s_45'))+oPs('s_34')*oPs('s_45')**2*(2*oPs('s_34')+5*oPs('s_45'))+oPs('s_23')*oPs('s_45')*(2*oPs('s_34')**2+2*oPs('s_34')*oPs('s_45')+oPs('s_45')**2)))))/(3*oPs('s_12')**3*(oPs('s_15')-oPs('s_23'))*oPs('s_34')*(oPs('s_12')+oPs('s_23')-oPs('s_45'))*oPs('s_45')*(oPs('s_15')+oPs('s_45'))*(-oPs('s_12')+oPs('s_34')+oPs('s_45')))+(4*oPs('s_23')*((oPs('s_23')*oPs('s_34')+(oPs('s_15')-oPs('s_34'))*oPs('s_45'))**2*(oPs('s_23')*oPs('s_34')+oPs('s_45')*(oPs('s_15')+oPs('s_34')+oPs('s_45')))+oPs('s_12')**2*(oPs('s_23')**2*oPs('s_34')*(oPs('s_23')-oPs('s_45'))+oPs('s_15')**3*oPs('s_45')+oPs('s_15')**2*oPs('s_45')*(-oPs('s_23')+oPs('s_45'))-oPs('s_15')*(oPs('s_23')**2*oPs('s_34')+oPs('s_23')*oPs('s_45')**2+oPs('s_34')*oPs('s_45')**2))+oPs('s_12')*(-2*oPs('s_15')**3*oPs('s_45')**2+oPs('s_34')**2*(-2*oPs('s_23')**3+2*oPs('s_23')**2*oPs('s_45')+oPs('s_23')*oPs('s_45')**2-oPs('s_45')**3)+oPs('s_15')**2*oPs('s_45')*((oPs('s_34')-2*oPs('s_45'))*oPs('s_45')+oPs('s_23')*(-oPs('s_34')+oPs('s_45')))+oPs('s_15')*(oPs('s_23')**2*oPs('s_34')*(oPs('s_34')-oPs('s_45'))+oPs('s_23')*oPs('s_45')**3+oPs('s_34')*oPs('s_45')**2*(oPs('s_34')+3*oPs('s_45')))))*(-oPs('tr5_1234')))/(3*oPs('s_12')**3*(oPs('s_15')-oPs('s_23'))*oPs('s_34')*(oPs('s_12')+oPs('s_23')-oPs('s_45'))*(oPs('s_12')-oPs('s_34')-oPs('s_45'))*oPs('s_45')*(oPs('s_15')+oPs('s_45'))))*oPs('[3|1]')\""
      ]
     },
     "execution_count": 9,
     "metadata": {},
     "output_type": "execute_result"
    }
   ],
   "source": [
    "# I've implemented a custom ast (abstract syntactic tree) parser (this is hidden behind Particles.__call__)\n",
    "oPs._parse(mandelstam_expression)"
   ]
  },
  {
   "cell_type": "code",
   "execution_count": 10,
   "id": "58c41c58",
   "metadata": {},
   "outputs": [
    {
     "data": {
      "text/plain": [
       "(9.799267994283798e-301-1.8665272370064378e-301j)"
      ]
     },
     "execution_count": 10,
     "metadata": {},
     "output_type": "execute_result"
    }
   ],
   "source": [
    "complex(oTerms(oPs) - oPs(mandelstam_expression)) # evaluation of Terms object is optimized (including upcoming GPU support)"
   ]
  },
  {
   "cell_type": "code",
   "execution_count": 11,
   "id": "33b988ba",
   "metadata": {
    "scrolled": false
   },
   "outputs": [
    {
     "data": {
      "text/plain": [
       "(-4.6663180925160944e-302-9.332636185032189e-302j)"
      ]
     },
     "execution_count": 11,
     "metadata": {},
     "output_type": "execute_result"
    }
   ],
   "source": [
    "expr = \"+(8/3s23⟨24⟩[34])/(⟨15⟩⟨34⟩⟨45⟩⟨4|1+5|4])\"\n",
    "complex((oPs(expr) + oPs.image(('12354', False))(expr)) - oTerms(oPs))"
   ]
  },
  {
   "cell_type": "code",
   "execution_count": 12,
   "id": "ff906ec7",
   "metadata": {},
   "outputs": [],
   "source": [
    "# this generates a \"real\" phase space point (all outgoing convention, energy might be negative)\n",
    "oPs = Particles(5, real_momenta=True, seed=0)"
   ]
  },
  {
   "cell_type": "code",
   "execution_count": 13,
   "id": "19fc0d7c",
   "metadata": {
    "scrolled": false
   },
   "outputs": [
    {
     "data": {
      "text/plain": [
       "array([mpc(real='0.687332462114479122995963240764965908335348316492734757090320627057009436362388736287994730768383742948855720784042793946320018929144633546574257505225786361677852508913182333102984702295913493771260722480915077025539504603705600363850362366641751820102176413143492357596828095988763161293061866584024905', imag='0.0'),\n",
       "       mpc(real='-0.010256410256410256410256410256410256410256410256410256410256410256410256410256410256410256410256410256410256410256410256410256410256410256410256410256410256410256410256410256410256410256410256410256410256410256410256410256410256410256410256410256410256410256410256410256410256410256410256410256410256411', imag='0.0'),\n",
       "       mpc(real='0.63636363636363636363636363636363636363636363636363636363636363636363636363636363636363636363636363636363636363636363636363636363636363636363636363636363636363636363636363636363636363636363636363636363636363636363636363636363636363636363636363636363636363636363636363636363636363636363636363636363636367', imag='0.0'),\n",
       "       mpc(real='-0.259541984732824427480916030534351145038167938931297709923664122137404580152671755725190839694656488549618320610687022900763358778625954198473282442748091603053435114503816793893129770992366412213740458015267175572519083969465648854961832061068702290076335877862595419847328244274809160305343511450381668', imag='0.0')],\n",
       "      dtype=object)"
      ]
     },
     "execution_count": 13,
     "metadata": {},
     "output_type": "execute_result"
    }
   ],
   "source": [
    "oPs[1].four_mom"
   ]
  },
  {
   "cell_type": "markdown",
   "id": "a3ca6131",
   "metadata": {},
   "source": [
    "### Main issue: numerical stability"
   ]
  },
  {
   "cell_type": "code",
   "execution_count": 14,
   "id": "198a0ce0",
   "metadata": {},
   "outputs": [],
   "source": [
    "# pip install syngular (interface and extension to Singular, https://www.singular.uni-kl.de/)\n",
    "# mainly used for algebraic geometry, but also useful to define the number field\n",
    "from syngular import Field  \n",
    "# syntax: Field(\"field name\", characteristic, number of digits)"
   ]
  },
  {
   "cell_type": "markdown",
   "id": "1cdf6280",
   "metadata": {},
   "source": [
    "Simulate a long running computation where error accumulates by lowering the precision"
   ]
  },
  {
   "cell_type": "code",
   "execution_count": 15,
   "id": "7542d97e",
   "metadata": {},
   "outputs": [],
   "source": [
    "oPs = Particles(5, field=Field(\"mpc\", 0, 6), seed=0)"
   ]
  },
  {
   "cell_type": "code",
   "execution_count": 16,
   "id": "69c4b6dc",
   "metadata": {},
   "outputs": [
    {
     "data": {
      "text/plain": [
       "mpf('2.38776875e-6')"
      ]
     },
     "execution_count": 16,
     "metadata": {},
     "output_type": "execute_result"
    }
   ],
   "source": [
    "abs(oTerms(oPs) - black_box_function(oPs))  # as expected, the two functions match to 6 digits"
   ]
  },
  {
   "cell_type": "code",
   "execution_count": 17,
   "id": "14fd9e90",
   "metadata": {},
   "outputs": [],
   "source": [
    "oPs = Particles(5, field=Field(\"mpc\", 0, 6), seed=2)"
   ]
  },
  {
   "cell_type": "code",
   "execution_count": 18,
   "id": "c84bb538",
   "metadata": {
    "scrolled": true
   },
   "outputs": [
    {
     "data": {
      "text/plain": [
       "mpf('0.428962946')"
      ]
     },
     "execution_count": 18,
     "metadata": {},
     "output_type": "execute_result"
    }
   ],
   "source": [
    "abs(oTerms(oPs) - black_box_function(oPs))  # lost precision! :'("
   ]
  },
  {
   "cell_type": "code",
   "execution_count": 19,
   "id": "4ed98298",
   "metadata": {},
   "outputs": [
    {
     "data": {
      "text/plain": [
       "mpc(real='-1.13071203', imag='25.7996826')"
      ]
     },
     "execution_count": 19,
     "metadata": {},
     "output_type": "execute_result"
    }
   ],
   "source": [
    "black_box_function(oPs)"
   ]
  },
  {
   "cell_type": "code",
   "execution_count": 20,
   "id": "67f7df3c",
   "metadata": {},
   "outputs": [
    {
     "data": {
      "text/plain": [
       "mpc(real='-0.711602092', imag='25.8910942')"
      ]
     },
     "execution_count": 20,
     "metadata": {},
     "output_type": "execute_result"
    }
   ],
   "source": [
    "oTerms(oPs)"
   ]
  },
  {
   "cell_type": "code",
   "execution_count": 21,
   "id": "8a447850",
   "metadata": {},
   "outputs": [],
   "source": [
    "oPs = Particles(5, field=Field(\"mpc\", 0, 16), seed=2)"
   ]
  },
  {
   "cell_type": "code",
   "execution_count": 22,
   "id": "590ba5ef",
   "metadata": {},
   "outputs": [
    {
     "data": {
      "text/plain": [
       "mpc(real='-0.7116312918164890561', imag='25.89107035069941443')"
      ]
     },
     "execution_count": 22,
     "metadata": {},
     "output_type": "execute_result"
    }
   ],
   "source": [
    "black_box_function(oPs)"
   ]
  },
  {
   "cell_type": "code",
   "execution_count": 23,
   "id": "86448b00",
   "metadata": {
    "scrolled": true
   },
   "outputs": [
    {
     "data": {
      "text/plain": [
       "mpc(real='-0.7116312918068779803', imag='25.89107035076286678')"
      ]
     },
     "execution_count": 23,
     "metadata": {},
     "output_type": "execute_result"
    }
   ],
   "source": [
    "oTerms(oPs)"
   ]
  },
  {
   "cell_type": "markdown",
   "id": "08e01dff",
   "metadata": {},
   "source": [
    "## finite fields"
   ]
  },
  {
   "cell_type": "markdown",
   "id": "142e3856",
   "metadata": {},
   "source": [
    "$$ \n",
    "\\displaystyle a \\in \\mathbb{F}_p : a \\in \\{0, \\dots, p -1\\} \\; \\text{ with } \\; \\{+, -, \\times, \\div\\}\n",
    "$$"
   ]
  },
  {
   "cell_type": "code",
   "execution_count": 24,
   "id": "90348b19",
   "metadata": {},
   "outputs": [],
   "source": [
    "from fractions import Fraction as Q\n",
    "# pip install pyadic (mainly for p-adic numbers, see later, but also implements finite fields)\n",
    "# see https://github.com/GDeLaurentis/pyadic\n",
    "from pyadic import ModP"
   ]
  },
  {
   "cell_type": "code",
   "execution_count": 25,
   "id": "ebf07608",
   "metadata": {},
   "outputs": [
    {
     "data": {
      "text/plain": [
       "6 % 11"
      ]
     },
     "execution_count": 25,
     "metadata": {},
     "output_type": "execute_result"
    }
   ],
   "source": [
    "ModP(Q(1, 2), 11)"
   ]
  },
  {
   "cell_type": "markdown",
   "id": "d072035d",
   "metadata": {},
   "source": [
    "or"
   ]
  },
  {
   "cell_type": "code",
   "execution_count": 26,
   "id": "247a4cab",
   "metadata": {},
   "outputs": [],
   "source": [
    "from syngular import Field"
   ]
  },
  {
   "cell_type": "code",
   "execution_count": 27,
   "id": "c6cf8721",
   "metadata": {},
   "outputs": [
    {
     "data": {
      "text/plain": [
       "Field('finite field', 2147483647, 1)"
      ]
     },
     "execution_count": 27,
     "metadata": {},
     "output_type": "execute_result"
    }
   ],
   "source": [
    "Fp = Field(\"finite field\", 2 ** 31 - 1, 1)\n",
    "Fp"
   ]
  },
  {
   "cell_type": "code",
   "execution_count": 28,
   "id": "3cd85eb3",
   "metadata": {},
   "outputs": [
    {
     "data": {
      "text/plain": [
       "2134733231 % 2147483647"
      ]
     },
     "execution_count": 28,
     "metadata": {},
     "output_type": "execute_result"
    }
   ],
   "source": [
    "Fp.random()"
   ]
  },
  {
   "cell_type": "markdown",
   "id": "5de8539a",
   "metadata": {},
   "source": [
    "what goes wrong if p is not prime?"
   ]
  },
  {
   "cell_type": "code",
   "execution_count": 29,
   "id": "c7b0a9be",
   "metadata": {
    "scrolled": true
   },
   "outputs": [],
   "source": [
    "# ModP(Q(1, 2), 6)  # this raises ZeroDivisionError"
   ]
  },
  {
   "cell_type": "markdown",
   "id": "738e5c42",
   "metadata": {},
   "source": [
    "the inverse cannot be computed for any number not co-prime with the chosen modulus"
   ]
  },
  {
   "cell_type": "markdown",
   "id": "007185f0",
   "metadata": {},
   "source": [
    "### Phase space in a finite field"
   ]
  },
  {
   "cell_type": "code",
   "execution_count": 30,
   "id": "4d383b85",
   "metadata": {},
   "outputs": [],
   "source": [
    "oPs = Particles(5, field=Field(\"finite field\", 2 ** 31 - 1, 1), seed=0)"
   ]
  },
  {
   "cell_type": "code",
   "execution_count": 31,
   "id": "ea9eba15",
   "metadata": {},
   "outputs": [
    {
     "data": {
      "text/plain": [
       "497973027 % 2147483647"
      ]
     },
     "execution_count": 31,
     "metadata": {},
     "output_type": "execute_result"
    }
   ],
   "source": [
    "black_box_function(oPs)"
   ]
  },
  {
   "cell_type": "code",
   "execution_count": 32,
   "id": "571900bc",
   "metadata": {
    "scrolled": true
   },
   "outputs": [
    {
     "data": {
      "text/plain": [
       "497973027 % 2147483647"
      ]
     },
     "execution_count": 32,
     "metadata": {},
     "output_type": "execute_result"
    }
   ],
   "source": [
    "oTerms(oPs)"
   ]
  },
  {
   "cell_type": "markdown",
   "id": "6e623cb9",
   "metadata": {},
   "source": [
    "these will always match exactly, unless you are unlucky (roughly speaking 1 in $p$ chance) and hit a zero of the denominator, then you'd get a ZeroDivisionError"
   ]
  },
  {
   "cell_type": "markdown",
   "id": "0e4d1fbe",
   "metadata": {},
   "source": [
    "### The trivial absoulute value"
   ]
  },
  {
   "cell_type": "markdown",
   "id": "73a8f168",
   "metadata": {},
   "source": [
    "$$ |a|_0 = 0 \\; \\text{if} \\; a = 0 \\; \\text{else} \\; 1$$"
   ]
  },
  {
   "cell_type": "code",
   "execution_count": 33,
   "id": "3b0fc0e0",
   "metadata": {},
   "outputs": [
    {
     "data": {
      "text/plain": [
       "1"
      ]
     },
     "execution_count": 33,
     "metadata": {},
     "output_type": "execute_result"
    }
   ],
   "source": [
    "abs(ModP(Q(2), 5))"
   ]
  },
  {
   "cell_type": "code",
   "execution_count": 34,
   "id": "b7edfcdc",
   "metadata": {},
   "outputs": [
    {
     "data": {
      "text/plain": [
       "0"
      ]
     },
     "execution_count": 34,
     "metadata": {},
     "output_type": "execute_result"
    }
   ],
   "source": [
    "abs(ModP(Q(0), 5))"
   ]
  },
  {
   "cell_type": "markdown",
   "id": "c6b7b873",
   "metadata": {},
   "source": [
    "### Limitation"
   ]
  },
  {
   "cell_type": "markdown",
   "id": "80ecd408",
   "metadata": {},
   "source": [
    "a) can make things exactly zero, but not small <br>\n",
    "b) cannot take limits <br>\n",
    "c) calculus is undefined"
   ]
  },
  {
   "cell_type": "code",
   "execution_count": 35,
   "id": "99c1191a",
   "metadata": {},
   "outputs": [],
   "source": [
    "# Fp.epsilon()  # This raises ValueError (no finite field infinitesimal exists)"
   ]
  },
  {
   "cell_type": "markdown",
   "id": "b088d71f",
   "metadata": {},
   "source": [
    "### [Ostrowski theorem](https://en.wikipedia.org/wiki/Ostrowski%27s_theorem)"
   ]
  },
  {
   "cell_type": "markdown",
   "id": "c9ceeda5",
   "metadata": {},
   "source": [
    "There exist 3 possible absolute values on the rationals: <br>\n",
    "     - the trivial absolute value $|\\cdot|_0$ <br>\n",
    "     - the real absolute value $|\\cdot|_\\infty$ <br>\n",
    "     - the p-adic absolute value $|\\cdot|_p$"
   ]
  },
  {
   "cell_type": "markdown",
   "id": "1492175f",
   "metadata": {},
   "source": [
    "## p-adic numbers"
   ]
  },
  {
   "cell_type": "code",
   "execution_count": 36,
   "id": "7d6d08e7",
   "metadata": {},
   "outputs": [],
   "source": [
    "from pyadic import PAdic"
   ]
  },
  {
   "cell_type": "code",
   "execution_count": 37,
   "id": "c775cbdb",
   "metadata": {},
   "outputs": [
    {
     "data": {
      "text/plain": [
       "2 % 11"
      ]
     },
     "execution_count": 37,
     "metadata": {},
     "output_type": "execute_result"
    }
   ],
   "source": [
    "ModP(13, 11)"
   ]
  },
  {
   "cell_type": "code",
   "execution_count": 38,
   "id": "7478cb65",
   "metadata": {},
   "outputs": [
    {
     "data": {
      "text/plain": [
       "2 + 1*11 + O(11^3)"
      ]
     },
     "execution_count": 38,
     "metadata": {},
     "output_type": "execute_result"
    }
   ],
   "source": [
    "PAdic(13, 11, 3)"
   ]
  },
  {
   "cell_type": "code",
   "execution_count": 39,
   "id": "34c3f1b4",
   "metadata": {},
   "outputs": [
    {
     "data": {
      "text/plain": [
       "6 % 11"
      ]
     },
     "execution_count": 39,
     "metadata": {},
     "output_type": "execute_result"
    }
   ],
   "source": [
    "ModP(Q(1, 2), 11)"
   ]
  },
  {
   "cell_type": "code",
   "execution_count": 40,
   "id": "46c3dc45",
   "metadata": {},
   "outputs": [
    {
     "data": {
      "text/plain": [
       "6 + 5*11 + 5*11^2 + O(11^3)"
      ]
     },
     "execution_count": 40,
     "metadata": {},
     "output_type": "execute_result"
    }
   ],
   "source": [
    "PAdic(Q(1, 2), 11, 3)  # like for floats, we can have repeating digits (5 here repeats for ever)"
   ]
  },
  {
   "cell_type": "code",
   "execution_count": 41,
   "id": "45e8f5e5",
   "metadata": {},
   "outputs": [],
   "source": [
    "# we can divide by p, no more division by zero!"
   ]
  },
  {
   "cell_type": "code",
   "execution_count": 42,
   "id": "a3119f83",
   "metadata": {},
   "outputs": [],
   "source": [
    "# ModP(Q(1, 11), 11)  # recall this raises ZeroDivisionError: cannot divide by the prime"
   ]
  },
  {
   "cell_type": "code",
   "execution_count": 43,
   "id": "67f5ce7d",
   "metadata": {},
   "outputs": [
    {
     "data": {
      "text/plain": [
       "1*11^-1 + O(11^2)"
      ]
     },
     "execution_count": 43,
     "metadata": {},
     "output_type": "execute_result"
    }
   ],
   "source": [
    "PAdic(Q(1, 11), 11, 3)"
   ]
  },
  {
   "cell_type": "markdown",
   "id": "d0b44d3e",
   "metadata": {},
   "source": [
    "Absolute value goes in descrete steps of powers of $p$ (negative powers are \"large\", think of $p$ as $\\epsilon \\ll 1$)"
   ]
  },
  {
   "cell_type": "code",
   "execution_count": 44,
   "id": "c1e77709",
   "metadata": {},
   "outputs": [
    {
     "data": {
      "text/plain": [
       "O(11^-1)"
      ]
     },
     "execution_count": 44,
     "metadata": {},
     "output_type": "execute_result"
    }
   ],
   "source": [
    "abs(PAdic(Q(1, 11), 11, 3))"
   ]
  },
  {
   "cell_type": "code",
   "execution_count": 45,
   "id": "b51a7766",
   "metadata": {},
   "outputs": [
    {
     "data": {
      "text/plain": [
       "O(11)"
      ]
     },
     "execution_count": 45,
     "metadata": {},
     "output_type": "execute_result"
    }
   ],
   "source": [
    "abs(PAdic(Q(11), 11, 3))"
   ]
  },
  {
   "cell_type": "code",
   "execution_count": 46,
   "id": "623a8873",
   "metadata": {},
   "outputs": [
    {
     "data": {
      "text/plain": [
       "True"
      ]
     },
     "execution_count": 46,
     "metadata": {},
     "output_type": "execute_result"
    }
   ],
   "source": [
    "abs(PAdic(Q(1, 11), 11, 3)) > abs(PAdic(Q(11), 11, 3))  # I know it's confusing, 11-adically 1/11 is trully larger than 11"
   ]
  },
  {
   "cell_type": "code",
   "execution_count": 47,
   "id": "d8296414",
   "metadata": {},
   "outputs": [
    {
     "data": {
      "text/plain": [
       "True"
      ]
     },
     "execution_count": 47,
     "metadata": {},
     "output_type": "execute_result"
    }
   ],
   "source": [
    "abs(PAdic(Q(12), 11, 3)) == abs(PAdic(Q(13), 11, 3))  # 11-adically 12 and 13 have the same size (order 11^0)"
   ]
  },
  {
   "cell_type": "code",
   "execution_count": 48,
   "id": "7c8e4c75",
   "metadata": {},
   "outputs": [
    {
     "data": {
      "text/plain": [
       "Field('padic', 2147483647, 11)"
      ]
     },
     "execution_count": 48,
     "metadata": {},
     "output_type": "execute_result"
    }
   ],
   "source": [
    "Qp = Field(\"padic\", 2 ** 31 - 1, 11)\n",
    "Qp"
   ]
  },
  {
   "cell_type": "code",
   "execution_count": 49,
   "id": "99e32792",
   "metadata": {},
   "outputs": [
    {
     "data": {
      "text/plain": [
       "159748088 + 981225231*2147483647 + 2019442022*2147483647^2 + 142878177*2147483647^3 + 1231138780*2147483647^4 + 1114892042*2147483647^5 + 1425078810*2147483647^6 + 605566449*2147483647^7 + 1807150731*2147483647^8 + 1498853433*2147483647^9 + 967419695*2147483647^10 + O(2147483647^11)"
      ]
     },
     "execution_count": 49,
     "metadata": {},
     "output_type": "execute_result"
    }
   ],
   "source": [
    "Qp.random()"
   ]
  },
  {
   "cell_type": "code",
   "execution_count": 50,
   "id": "05bcfe72",
   "metadata": {},
   "outputs": [
    {
     "data": {
      "text/plain": [
       "2147483647"
      ]
     },
     "execution_count": 50,
     "metadata": {},
     "output_type": "execute_result"
    }
   ],
   "source": [
    "Qp.epsilon()  # we can do calculs! take limits, compute derivatives, even integrate"
   ]
  },
  {
   "cell_type": "markdown",
   "id": "c90f8c5b",
   "metadata": {},
   "source": [
    "### Improve Stability"
   ]
  },
  {
   "cell_type": "markdown",
   "id": "77e439a5",
   "metadata": {},
   "source": [
    "The usual triangle inequality\n",
    "$$\\displaystyle |d(x,z)| \\leq |d(x,y)| + |d(y,z)| $$\n",
    "is strengthened to\n",
    "$${\\displaystyle d(x,z)\\leq \\max \\left\\{d(x,y),d(y,z)\\right\\}}$$"
   ]
  },
  {
   "cell_type": "markdown",
   "id": "d73f717e",
   "metadata": {},
   "source": [
    "<b> Can never add two numbers and get a larger one than those you started with </b>"
   ]
  },
  {
   "cell_type": "markdown",
   "id": "8cb76003",
   "metadata": {},
   "source": [
    "### p-adic phase space"
   ]
  },
  {
   "cell_type": "code",
   "execution_count": 51,
   "id": "700a3a9d",
   "metadata": {},
   "outputs": [],
   "source": [
    "oPs = Particles(5, field=Field(\"padic\", 2 ** 31 - 1, 3), seed=0)"
   ]
  },
  {
   "cell_type": "code",
   "execution_count": 52,
   "id": "164eca57",
   "metadata": {},
   "outputs": [
    {
     "data": {
      "text/plain": [
       "1222473774 + 796252591*2147483647 + 1161721493*2147483647^2 + O(2147483647^3)"
      ]
     },
     "execution_count": 52,
     "metadata": {},
     "output_type": "execute_result"
    }
   ],
   "source": [
    "black_box_function(oPs)"
   ]
  },
  {
   "cell_type": "code",
   "execution_count": 53,
   "id": "c548ab64",
   "metadata": {
    "scrolled": true
   },
   "outputs": [
    {
     "data": {
      "text/plain": [
       "1222473774 + 796252591*2147483647 + 1161721493*2147483647^2 + O(2147483647^3)"
      ]
     },
     "execution_count": 53,
     "metadata": {},
     "output_type": "execute_result"
    }
   ],
   "source": [
    "oTerms(oPs)"
   ]
  },
  {
   "cell_type": "code",
   "execution_count": 54,
   "id": "cc1d7e1d",
   "metadata": {},
   "outputs": [],
   "source": [
    "oPs[1].four_mom  # is None because sqrt(-1) is not in the field"
   ]
  },
  {
   "cell_type": "code",
   "execution_count": 55,
   "id": "2be933f3",
   "metadata": {},
   "outputs": [
    {
     "data": {
      "text/plain": [
       "array([[1780157367 + 799679453*2147483647 + 1985151952*2147483647^2 + O(2147483647^3),\n",
       "        1964726659 + 1313964131*2147483647 + 961046302*2147483647^2 + O(2147483647^3)],\n",
       "       [1733936412 + 1316287247*2147483647 + 1449001809*2147483647^2 + O(2147483647^3),\n",
       "        943232507 + 247149017*2147483647 + 1786487518*2147483647^2 + O(2147483647^3)]],\n",
       "      dtype=object)"
      ]
     },
     "execution_count": 55,
     "metadata": {},
     "output_type": "execute_result"
    }
   ],
   "source": [
    "oPs[1].r2_sp  # but the spinors are always in the field (you never need four-momenta to compute Lorentz invariants)"
   ]
  },
  {
   "cell_type": "code",
   "execution_count": 56,
   "id": "10698e4a",
   "metadata": {},
   "outputs": [],
   "source": [
    "oPs = Particles(5, field=Field(\"padic\", 2 ** 31 - 19, 3), seed=0)  # if this is confusing you can pick a different value of p"
   ]
  },
  {
   "cell_type": "code",
   "execution_count": 57,
   "id": "d7dc2c35",
   "metadata": {},
   "outputs": [
    {
     "data": {
      "text/plain": [
       "array([42100088 + 1480766398*2147483629 + 1362366842*2147483629^2 + O(2147483629^3),\n",
       "       1602983086 + 1078739715*2147483629 + 1877805426*2147483629^2 + O(2147483629^3),\n",
       "       1122307959 + 1972109352*2147483629 + 1326498384*2147483629^2 + O(2147483629^3),\n",
       "       1918374613 + 112168508*2147483629 + 816814846*2147483629^2 + O(2147483629^3)],\n",
       "      dtype=object)"
      ]
     },
     "execution_count": 57,
     "metadata": {},
     "output_type": "execute_result"
    }
   ],
   "source": [
    "oPs[1].four_mom"
   ]
  },
  {
   "cell_type": "code",
   "execution_count": 58,
   "id": "ad5c74f6",
   "metadata": {
    "scrolled": true
   },
   "outputs": [],
   "source": [
    "# Field(\"finite field\", 2 ** 31 - 1, 1)(1j)  # this raises ValueError, sqrt(-1) is not in the field"
   ]
  },
  {
   "cell_type": "code",
   "execution_count": 59,
   "id": "d4261b50",
   "metadata": {},
   "outputs": [
    {
     "data": {
      "text/plain": [
       "629208553 % 2147483629"
      ]
     },
     "execution_count": 59,
     "metadata": {},
     "output_type": "execute_result"
    }
   ],
   "source": [
    "Field(\"finite field\", 2 ** 31 - 19, 1)(1j)"
   ]
  },
  {
   "cell_type": "code",
   "execution_count": 60,
   "id": "47a3dc66",
   "metadata": {},
   "outputs": [
    {
     "data": {
      "text/plain": [
       "True"
      ]
     },
     "execution_count": 60,
     "metadata": {},
     "output_type": "execute_result"
    }
   ],
   "source": [
    "Field(\"finite field\", 2 ** 31 - 19, 1)(1j) ** 2  == -1"
   ]
  },
  {
   "cell_type": "markdown",
   "id": "345c2970",
   "metadata": {},
   "source": [
    "## Interpolation algorithms"
   ]
  },
  {
   "cell_type": "markdown",
   "id": "1876ac14",
   "metadata": {},
   "source": [
    "Peraro [arXiv:1608.01902](https://arxiv.org/abs/1608.01902)"
   ]
  },
  {
   "cell_type": "code",
   "execution_count": 61,
   "id": "a71af96b",
   "metadata": {},
   "outputs": [],
   "source": [
    "from pyadic.interpolation import Newton_polynomial_interpolation, Thiele_rational_interpolation"
   ]
  },
  {
   "cell_type": "code",
   "execution_count": 62,
   "id": "6c07652a",
   "metadata": {},
   "outputs": [],
   "source": [
    "def univariate_polynomial(tval):\n",
    "    return (tval ** 10 + tval - 1)"
   ]
  },
  {
   "cell_type": "code",
   "execution_count": 63,
   "id": "8a27aa42",
   "metadata": {},
   "outputs": [
    {
     "name": "stdout",
     "output_type": "stream",
     "text": [
      "\r",
      "@ 0, []\r",
      "@ 1, [1569849180 % 2147483647]\r",
      "@ 2, [1569849180 % 2147483647, 1078182456 % 2147483647]\r",
      "@ 3, [1569849180 % 2147483647, 1078182456 % 2147483647, 1345237137 % 2147483647]\r",
      "@ 4, [1569849180 % 2147483647, 1078182456 % 2147483647, 1345237137 % 2147483647, 1566393810 % 2147483647]\r",
      "@ 5, [1569849180 % 2147483647, 1078182456 % 2147483647, 1345237137 % 2147483647, 1566393810 % 2147483647, 815006192 % 2147483647]\r",
      "@ 6, [1569849180 % 2147483647, 1078182456 % 2147483647, 1345237137 % 2147483647, 1566393810 % 2147483647, 815006192 % 2147483647, 319562461 % 2147483647]\r",
      "@ 7, [1569849180 % 2147483647, 1078182456 % 2147483647, 1345237137 % 2147483647, 1566393810 % 2147483647, 815006192 % 2147483647, 319562461 % 2147483647, 1293390443 % 2147483647]\r",
      "@ 8, [1569849180 % 2147483647, 1078182456 % 2147483647, 1345237137 % 2147483647, 1566393810 % 2147483647, 815006192 % 2147483647, 319562461 % 2147483647, 1293390443 % 2147483647, 677331714 % 2147483647]\r",
      "@ 9, [1569849180 % 2147483647, 1078182456 % 2147483647, 1345237137 % 2147483647, 1566393810 % 2147483647, 815006192 % 2147483647, 319562461 % 2147483647, 1293390443 % 2147483647, 677331714 % 2147483647, 380413367 % 2147483647]\r",
      "@ 10, [1569849180 % 2147483647, 1078182456 % 2147483647, 1345237137 % 2147483647, 1566393810 % 2147483647, 815006192 % 2147483647, 319562461 % 2147483647, 1293390443 % 2147483647, 677331714 % 2147483647, 380413367 % 2147483647, 1203676396 % 2147483647]\r",
      "@ 11, [1569849180 % 2147483647, 1078182456 % 2147483647, 1345237137 % 2147483647, 1566393810 % 2147483647, 815006192 % 2147483647, 319562461 % 2147483647, 1293390443 % 2147483647, 677331714 % 2147483647, 380413367 % 2147483647, 1203676396 % 2147483647, 1 % 2147483647]\r",
      "@ 12, [1569849180 % 2147483647, 1078182456 % 2147483647, 1345237137 % 2147483647, 1566393810 % 2147483647, 815006192 % 2147483647, 319562461 % 2147483647, 1293390443 % 2147483647, 677331714 % 2147483647, 380413367 % 2147483647, 1203676396 % 2147483647, 1 % 2147483647, 0 % 2147483647]\r",
      "Finished after 13 samples: [1569849180 % 2147483647, 1078182456 % 2147483647, 1345237137 % 2147483647, 1566393810 % 2147483647, 815006192 % 2147483647, 319562461 % 2147483647, 1293390443 % 2147483647, 677331714 % 2147483647, 380413367 % 2147483647, 1203676396 % 2147483647, 1 % 2147483647, 0 % 2147483647, 0 % 2147483647]. "
     ]
    },
    {
     "data": {
      "text/latex": [
       "$\\displaystyle t^{10} + t - 1$"
      ],
      "text/plain": [
       "t**10 + t - 1"
      ]
     },
     "execution_count": 63,
     "metadata": {},
     "output_type": "execute_result"
    }
   ],
   "source": [
    "Newton_polynomial_interpolation(univariate_polynomial, 2 ** 31 - 1, verbose=True)"
   ]
  },
  {
   "cell_type": "code",
   "execution_count": 64,
   "id": "06b41621",
   "metadata": {},
   "outputs": [],
   "source": [
    "def univariate_rational_func(tval):\n",
    "    return (tval ** 20 + tval - 1) / (5 - tval)"
   ]
  },
  {
   "cell_type": "code",
   "execution_count": 65,
   "id": "621382d0",
   "metadata": {},
   "outputs": [
    {
     "name": "stdout",
     "output_type": "stream",
     "text": [
      "\r",
      "@ 0, []\r",
      "@ 1, [584414832 % 2147483647]\r",
      "@ 2, [584414832 % 2147483647, 970812621 % 2147483647]\r",
      "@ 3, [584414832 % 2147483647, 970812621 % 2147483647, 1534536413 % 2147483647]\r",
      "@ 4, [584414832 % 2147483647, 970812621 % 2147483647, 1534536413 % 2147483647, 954387064 % 2147483647]\r",
      "@ 5, [584414832 % 2147483647, 970812621 % 2147483647, 1534536413 % 2147483647, 954387064 % 2147483647, 359570102 % 2147483647]\r",
      "@ 6, [584414832 % 2147483647, 970812621 % 2147483647, 1534536413 % 2147483647, 954387064 % 2147483647, 359570102 % 2147483647, 1570313059 % 2147483647]\r",
      "@ 7, [584414832 % 2147483647, 970812621 % 2147483647, 1534536413 % 2147483647, 954387064 % 2147483647, 359570102 % 2147483647, 1570313059 % 2147483647, 109498696 % 2147483647]\r",
      "@ 8, [584414832 % 2147483647, 970812621 % 2147483647, 1534536413 % 2147483647, 954387064 % 2147483647, 359570102 % 2147483647, 1570313059 % 2147483647, 109498696 % 2147483647, 2123742756 % 2147483647]\r",
      "@ 9, [584414832 % 2147483647, 970812621 % 2147483647, 1534536413 % 2147483647, 954387064 % 2147483647, 359570102 % 2147483647, 1570313059 % 2147483647, 109498696 % 2147483647, 2123742756 % 2147483647, 1386017183 % 2147483647]\r",
      "@ 10, [584414832 % 2147483647, 970812621 % 2147483647, 1534536413 % 2147483647, 954387064 % 2147483647, 359570102 % 2147483647, 1570313059 % 2147483647, 109498696 % 2147483647, 2123742756 % 2147483647, 1386017183 % 2147483647, 1535674705 % 2147483647]\r",
      "@ 11, [584414832 % 2147483647, 970812621 % 2147483647, 1534536413 % 2147483647, 954387064 % 2147483647, 359570102 % 2147483647, 1570313059 % 2147483647, 109498696 % 2147483647, 2123742756 % 2147483647, 1386017183 % 2147483647, 1535674705 % 2147483647, 1521506693 % 2147483647]\r",
      "@ 12, [584414832 % 2147483647, 970812621 % 2147483647, 1534536413 % 2147483647, 954387064 % 2147483647, 359570102 % 2147483647, 1570313059 % 2147483647, 109498696 % 2147483647, 2123742756 % 2147483647, 1386017183 % 2147483647, 1535674705 % 2147483647, 1521506693 % 2147483647, 1184513925 % 2147483647]\r",
      "@ 13, [584414832 % 2147483647, 970812621 % 2147483647, 1534536413 % 2147483647, 954387064 % 2147483647, 359570102 % 2147483647, 1570313059 % 2147483647, 109498696 % 2147483647, 2123742756 % 2147483647, 1386017183 % 2147483647, 1535674705 % 2147483647, 1521506693 % 2147483647, 1184513925 % 2147483647, 958941582 % 2147483647]\r",
      "@ 14, [584414832 % 2147483647, 970812621 % 2147483647, 1534536413 % 2147483647, 954387064 % 2147483647, 359570102 % 2147483647, 1570313059 % 2147483647, 109498696 % 2147483647, 2123742756 % 2147483647, 1386017183 % 2147483647, 1535674705 % 2147483647, 1521506693 % 2147483647, 1184513925 % 2147483647, 958941582 % 2147483647, 1184542341 % 2147483647]\r",
      "@ 15, [584414832 % 2147483647, 970812621 % 2147483647, 1534536413 % 2147483647, 954387064 % 2147483647, 359570102 % 2147483647, 1570313059 % 2147483647, 109498696 % 2147483647, 2123742756 % 2147483647, 1386017183 % 2147483647, 1535674705 % 2147483647, 1521506693 % 2147483647, 1184513925 % 2147483647, 958941582 % 2147483647, 1184542341 % 2147483647, 1008474606 % 2147483647]\r",
      "@ 16, [584414832 % 2147483647, 970812621 % 2147483647, 1534536413 % 2147483647, 954387064 % 2147483647, 359570102 % 2147483647, 1570313059 % 2147483647, 109498696 % 2147483647, 2123742756 % 2147483647, 1386017183 % 2147483647, 1535674705 % 2147483647, 1521506693 % 2147483647, 1184513925 % 2147483647, 958941582 % 2147483647, 1184542341 % 2147483647, 1008474606 % 2147483647, 1717109627 % 2147483647]\r",
      "@ 17, [584414832 % 2147483647, 970812621 % 2147483647, 1534536413 % 2147483647, 954387064 % 2147483647, 359570102 % 2147483647, 1570313059 % 2147483647, 109498696 % 2147483647, 2123742756 % 2147483647, 1386017183 % 2147483647, 1535674705 % 2147483647, 1521506693 % 2147483647, 1184513925 % 2147483647, 958941582 % 2147483647, 1184542341 % 2147483647, 1008474606 % 2147483647, 1717109627 % 2147483647, 399620187 % 2147483647]\r",
      "@ 18, [584414832 % 2147483647, 970812621 % 2147483647, 1534536413 % 2147483647, 954387064 % 2147483647, 359570102 % 2147483647, 1570313059 % 2147483647, 109498696 % 2147483647, 2123742756 % 2147483647, 1386017183 % 2147483647, 1535674705 % 2147483647, 1521506693 % 2147483647, 1184513925 % 2147483647, 958941582 % 2147483647, 1184542341 % 2147483647, 1008474606 % 2147483647, 1717109627 % 2147483647, 399620187 % 2147483647, 508518201 % 2147483647]\r",
      "@ 19, [584414832 % 2147483647, 970812621 % 2147483647, 1534536413 % 2147483647, 954387064 % 2147483647, 359570102 % 2147483647, 1570313059 % 2147483647, 109498696 % 2147483647, 2123742756 % 2147483647, 1386017183 % 2147483647, 1535674705 % 2147483647, 1521506693 % 2147483647, 1184513925 % 2147483647, 958941582 % 2147483647, 1184542341 % 2147483647, 1008474606 % 2147483647, 1717109627 % 2147483647, 399620187 % 2147483647, 508518201 % 2147483647, 466795340 % 2147483647]\r",
      "@ 20, [584414832 % 2147483647, 970812621 % 2147483647, 1534536413 % 2147483647, 954387064 % 2147483647, 359570102 % 2147483647, 1570313059 % 2147483647, 109498696 % 2147483647, 2123742756 % 2147483647, 1386017183 % 2147483647, 1535674705 % 2147483647, 1521506693 % 2147483647, 1184513925 % 2147483647, 958941582 % 2147483647, 1184542341 % 2147483647, 1008474606 % 2147483647, 1717109627 % 2147483647, 399620187 % 2147483647, 508518201 % 2147483647, 466795340 % 2147483647, 1573390819 % 2147483647]\r",
      "@ 21, [584414832 % 2147483647, 970812621 % 2147483647, 1534536413 % 2147483647, 954387064 % 2147483647, 359570102 % 2147483647, 1570313059 % 2147483647, 109498696 % 2147483647, 2123742756 % 2147483647, 1386017183 % 2147483647, 1535674705 % 2147483647, 1521506693 % 2147483647, 1184513925 % 2147483647, 958941582 % 2147483647, 1184542341 % 2147483647, 1008474606 % 2147483647, 1717109627 % 2147483647, 399620187 % 2147483647, 508518201 % 2147483647, 466795340 % 2147483647, 1573390819 % 2147483647, 803901946 % 2147483647]\r",
      "@ 22, [584414832 % 2147483647, 970812621 % 2147483647, 1534536413 % 2147483647, 954387064 % 2147483647, 359570102 % 2147483647, 1570313059 % 2147483647, 109498696 % 2147483647, 2123742756 % 2147483647, 1386017183 % 2147483647, 1535674705 % 2147483647, 1521506693 % 2147483647, 1184513925 % 2147483647, 958941582 % 2147483647, 1184542341 % 2147483647, 1008474606 % 2147483647, 1717109627 % 2147483647, 399620187 % 2147483647, 508518201 % 2147483647, 466795340 % 2147483647, 1573390819 % 2147483647, 803901946 % 2147483647, 437215979 % 2147483647]\r",
      "@ 23, [584414832 % 2147483647, 970812621 % 2147483647, 1534536413 % 2147483647, 954387064 % 2147483647, 359570102 % 2147483647, 1570313059 % 2147483647, 109498696 % 2147483647, 2123742756 % 2147483647, 1386017183 % 2147483647, 1535674705 % 2147483647, 1521506693 % 2147483647, 1184513925 % 2147483647, 958941582 % 2147483647, 1184542341 % 2147483647, 1008474606 % 2147483647, 1717109627 % 2147483647, 399620187 % 2147483647, 508518201 % 2147483647, 466795340 % 2147483647, 1573390819 % 2147483647, 803901946 % 2147483647, 437215979 % 2147483647, 454478843 % 2147483647]\r",
      "@ 24, [584414832 % 2147483647, 970812621 % 2147483647, 1534536413 % 2147483647, 954387064 % 2147483647, 359570102 % 2147483647, 1570313059 % 2147483647, 109498696 % 2147483647, 2123742756 % 2147483647, 1386017183 % 2147483647, 1535674705 % 2147483647, 1521506693 % 2147483647, 1184513925 % 2147483647, 958941582 % 2147483647, 1184542341 % 2147483647, 1008474606 % 2147483647, 1717109627 % 2147483647, 399620187 % 2147483647, 508518201 % 2147483647, 466795340 % 2147483647, 1573390819 % 2147483647, 803901946 % 2147483647, 437215979 % 2147483647, 454478843 % 2147483647, 208954972 % 2147483647]\r",
      "@ 25, [584414832 % 2147483647, 970812621 % 2147483647, 1534536413 % 2147483647, 954387064 % 2147483647, 359570102 % 2147483647, 1570313059 % 2147483647, 109498696 % 2147483647, 2123742756 % 2147483647, 1386017183 % 2147483647, 1535674705 % 2147483647, 1521506693 % 2147483647, 1184513925 % 2147483647, 958941582 % 2147483647, 1184542341 % 2147483647, 1008474606 % 2147483647, 1717109627 % 2147483647, 399620187 % 2147483647, 508518201 % 2147483647, 466795340 % 2147483647, 1573390819 % 2147483647, 803901946 % 2147483647, 437215979 % 2147483647, 454478843 % 2147483647, 208954972 % 2147483647, 1633357754 % 2147483647]\r",
      "@ 26, [584414832 % 2147483647, 970812621 % 2147483647, 1534536413 % 2147483647, 954387064 % 2147483647, 359570102 % 2147483647, 1570313059 % 2147483647, 109498696 % 2147483647, 2123742756 % 2147483647, 1386017183 % 2147483647, 1535674705 % 2147483647, 1521506693 % 2147483647, 1184513925 % 2147483647, 958941582 % 2147483647, 1184542341 % 2147483647, 1008474606 % 2147483647, 1717109627 % 2147483647, 399620187 % 2147483647, 508518201 % 2147483647, 466795340 % 2147483647, 1573390819 % 2147483647, 803901946 % 2147483647, 437215979 % 2147483647, 454478843 % 2147483647, 208954972 % 2147483647, 1633357754 % 2147483647, 1831680191 % 2147483647]\r",
      "@ 27, [584414832 % 2147483647, 970812621 % 2147483647, 1534536413 % 2147483647, 954387064 % 2147483647, 359570102 % 2147483647, 1570313059 % 2147483647, 109498696 % 2147483647, 2123742756 % 2147483647, 1386017183 % 2147483647, 1535674705 % 2147483647, 1521506693 % 2147483647, 1184513925 % 2147483647, 958941582 % 2147483647, 1184542341 % 2147483647, 1008474606 % 2147483647, 1717109627 % 2147483647, 399620187 % 2147483647, 508518201 % 2147483647, 466795340 % 2147483647, 1573390819 % 2147483647, 803901946 % 2147483647, 437215979 % 2147483647, 454478843 % 2147483647, 208954972 % 2147483647, 1633357754 % 2147483647, 1831680191 % 2147483647, 1914540195 % 2147483647]\r",
      "@ 28, [584414832 % 2147483647, 970812621 % 2147483647, 1534536413 % 2147483647, 954387064 % 2147483647, 359570102 % 2147483647, 1570313059 % 2147483647, 109498696 % 2147483647, 2123742756 % 2147483647, 1386017183 % 2147483647, 1535674705 % 2147483647, 1521506693 % 2147483647, 1184513925 % 2147483647, 958941582 % 2147483647, 1184542341 % 2147483647, 1008474606 % 2147483647, 1717109627 % 2147483647, 399620187 % 2147483647, 508518201 % 2147483647, 466795340 % 2147483647, 1573390819 % 2147483647, 803901946 % 2147483647, 437215979 % 2147483647, 454478843 % 2147483647, 208954972 % 2147483647, 1633357754 % 2147483647, 1831680191 % 2147483647, 1914540195 % 2147483647, 516669207 % 2147483647]\r",
      "@ 29, [584414832 % 2147483647, 970812621 % 2147483647, 1534536413 % 2147483647, 954387064 % 2147483647, 359570102 % 2147483647, 1570313059 % 2147483647, 109498696 % 2147483647, 2123742756 % 2147483647, 1386017183 % 2147483647, 1535674705 % 2147483647, 1521506693 % 2147483647, 1184513925 % 2147483647, 958941582 % 2147483647, 1184542341 % 2147483647, 1008474606 % 2147483647, 1717109627 % 2147483647, 399620187 % 2147483647, 508518201 % 2147483647, 466795340 % 2147483647, 1573390819 % 2147483647, 803901946 % 2147483647, 437215979 % 2147483647, 454478843 % 2147483647, 208954972 % 2147483647, 1633357754 % 2147483647, 1831680191 % 2147483647, 1914540195 % 2147483647, 516669207 % 2147483647, 1330111113 % 2147483647]\r",
      "@ 30, [584414832 % 2147483647, 970812621 % 2147483647, 1534536413 % 2147483647, 954387064 % 2147483647, 359570102 % 2147483647, 1570313059 % 2147483647, 109498696 % 2147483647, 2123742756 % 2147483647, 1386017183 % 2147483647, 1535674705 % 2147483647, 1521506693 % 2147483647, 1184513925 % 2147483647, 958941582 % 2147483647, 1184542341 % 2147483647, 1008474606 % 2147483647, 1717109627 % 2147483647, 399620187 % 2147483647, 508518201 % 2147483647, 466795340 % 2147483647, 1573390819 % 2147483647, 803901946 % 2147483647, 437215979 % 2147483647, 454478843 % 2147483647, 208954972 % 2147483647, 1633357754 % 2147483647, 1831680191 % 2147483647, 1914540195 % 2147483647, 516669207 % 2147483647, 1330111113 % 2147483647, 1923328681 % 2147483647]\r",
      "@ 31, [584414832 % 2147483647, 970812621 % 2147483647, 1534536413 % 2147483647, 954387064 % 2147483647, 359570102 % 2147483647, 1570313059 % 2147483647, 109498696 % 2147483647, 2123742756 % 2147483647, 1386017183 % 2147483647, 1535674705 % 2147483647, 1521506693 % 2147483647, 1184513925 % 2147483647, 958941582 % 2147483647, 1184542341 % 2147483647, 1008474606 % 2147483647, 1717109627 % 2147483647, 399620187 % 2147483647, 508518201 % 2147483647, 466795340 % 2147483647, 1573390819 % 2147483647, 803901946 % 2147483647, 437215979 % 2147483647, 454478843 % 2147483647, 208954972 % 2147483647, 1633357754 % 2147483647, 1831680191 % 2147483647, 1914540195 % 2147483647, 516669207 % 2147483647, 1330111113 % 2147483647, 1923328681 % 2147483647, 1119820556 % 2147483647]\r",
      "@ 32, [584414832 % 2147483647, 970812621 % 2147483647, 1534536413 % 2147483647, 954387064 % 2147483647, 359570102 % 2147483647, 1570313059 % 2147483647, 109498696 % 2147483647, 2123742756 % 2147483647, 1386017183 % 2147483647, 1535674705 % 2147483647, 1521506693 % 2147483647, 1184513925 % 2147483647, 958941582 % 2147483647, 1184542341 % 2147483647, 1008474606 % 2147483647, 1717109627 % 2147483647, 399620187 % 2147483647, 508518201 % 2147483647, 466795340 % 2147483647, 1573390819 % 2147483647, 803901946 % 2147483647, 437215979 % 2147483647, 454478843 % 2147483647, 208954972 % 2147483647, 1633357754 % 2147483647, 1831680191 % 2147483647, 1914540195 % 2147483647, 516669207 % 2147483647, 1330111113 % 2147483647, 1923328681 % 2147483647, 1119820556 % 2147483647, 917973577 % 2147483647]\r",
      "@ 33, [584414832 % 2147483647, 970812621 % 2147483647, 1534536413 % 2147483647, 954387064 % 2147483647, 359570102 % 2147483647, 1570313059 % 2147483647, 109498696 % 2147483647, 2123742756 % 2147483647, 1386017183 % 2147483647, 1535674705 % 2147483647, 1521506693 % 2147483647, 1184513925 % 2147483647, 958941582 % 2147483647, 1184542341 % 2147483647, 1008474606 % 2147483647, 1717109627 % 2147483647, 399620187 % 2147483647, 508518201 % 2147483647, 466795340 % 2147483647, 1573390819 % 2147483647, 803901946 % 2147483647, 437215979 % 2147483647, 454478843 % 2147483647, 208954972 % 2147483647, 1633357754 % 2147483647, 1831680191 % 2147483647, 1914540195 % 2147483647, 516669207 % 2147483647, 1330111113 % 2147483647, 1923328681 % 2147483647, 1119820556 % 2147483647, 917973577 % 2147483647, 627695372 % 2147483647]\r",
      "@ 34, [584414832 % 2147483647, 970812621 % 2147483647, 1534536413 % 2147483647, 954387064 % 2147483647, 359570102 % 2147483647, 1570313059 % 2147483647, 109498696 % 2147483647, 2123742756 % 2147483647, 1386017183 % 2147483647, 1535674705 % 2147483647, 1521506693 % 2147483647, 1184513925 % 2147483647, 958941582 % 2147483647, 1184542341 % 2147483647, 1008474606 % 2147483647, 1717109627 % 2147483647, 399620187 % 2147483647, 508518201 % 2147483647, 466795340 % 2147483647, 1573390819 % 2147483647, 803901946 % 2147483647, 437215979 % 2147483647, 454478843 % 2147483647, 208954972 % 2147483647, 1633357754 % 2147483647, 1831680191 % 2147483647, 1914540195 % 2147483647, 516669207 % 2147483647, 1330111113 % 2147483647, 1923328681 % 2147483647, 1119820556 % 2147483647, 917973577 % 2147483647, 627695372 % 2147483647, 1365942856 % 2147483647]\r",
      "@ 35, [584414832 % 2147483647, 970812621 % 2147483647, 1534536413 % 2147483647, 954387064 % 2147483647, 359570102 % 2147483647, 1570313059 % 2147483647, 109498696 % 2147483647, 2123742756 % 2147483647, 1386017183 % 2147483647, 1535674705 % 2147483647, 1521506693 % 2147483647, 1184513925 % 2147483647, 958941582 % 2147483647, 1184542341 % 2147483647, 1008474606 % 2147483647, 1717109627 % 2147483647, 399620187 % 2147483647, 508518201 % 2147483647, 466795340 % 2147483647, 1573390819 % 2147483647, 803901946 % 2147483647, 437215979 % 2147483647, 454478843 % 2147483647, 208954972 % 2147483647, 1633357754 % 2147483647, 1831680191 % 2147483647, 1914540195 % 2147483647, 516669207 % 2147483647, 1330111113 % 2147483647, 1923328681 % 2147483647, 1119820556 % 2147483647, 917973577 % 2147483647, 627695372 % 2147483647, 1365942856 % 2147483647, 789941148 % 2147483647]\r",
      "@ 36, [584414832 % 2147483647, 970812621 % 2147483647, 1534536413 % 2147483647, 954387064 % 2147483647, 359570102 % 2147483647, 1570313059 % 2147483647, 109498696 % 2147483647, 2123742756 % 2147483647, 1386017183 % 2147483647, 1535674705 % 2147483647, 1521506693 % 2147483647, 1184513925 % 2147483647, 958941582 % 2147483647, 1184542341 % 2147483647, 1008474606 % 2147483647, 1717109627 % 2147483647, 399620187 % 2147483647, 508518201 % 2147483647, 466795340 % 2147483647, 1573390819 % 2147483647, 803901946 % 2147483647, 437215979 % 2147483647, 454478843 % 2147483647, 208954972 % 2147483647, 1633357754 % 2147483647, 1831680191 % 2147483647, 1914540195 % 2147483647, 516669207 % 2147483647, 1330111113 % 2147483647, 1923328681 % 2147483647, 1119820556 % 2147483647, 917973577 % 2147483647, 627695372 % 2147483647, 1365942856 % 2147483647, 789941148 % 2147483647, 1024635069 % 2147483647]\r",
      "@ 37, [584414832 % 2147483647, 970812621 % 2147483647, 1534536413 % 2147483647, 954387064 % 2147483647, 359570102 % 2147483647, 1570313059 % 2147483647, 109498696 % 2147483647, 2123742756 % 2147483647, 1386017183 % 2147483647, 1535674705 % 2147483647, 1521506693 % 2147483647, 1184513925 % 2147483647, 958941582 % 2147483647, 1184542341 % 2147483647, 1008474606 % 2147483647, 1717109627 % 2147483647, 399620187 % 2147483647, 508518201 % 2147483647, 466795340 % 2147483647, 1573390819 % 2147483647, 803901946 % 2147483647, 437215979 % 2147483647, 454478843 % 2147483647, 208954972 % 2147483647, 1633357754 % 2147483647, 1831680191 % 2147483647, 1914540195 % 2147483647, 516669207 % 2147483647, 1330111113 % 2147483647, 1923328681 % 2147483647, 1119820556 % 2147483647, 917973577 % 2147483647, 627695372 % 2147483647, 1365942856 % 2147483647, 789941148 % 2147483647, 1024635069 % 2147483647, 1542141675 % 2147483647]\r",
      "@ 38, [584414832 % 2147483647, 970812621 % 2147483647, 1534536413 % 2147483647, 954387064 % 2147483647, 359570102 % 2147483647, 1570313059 % 2147483647, 109498696 % 2147483647, 2123742756 % 2147483647, 1386017183 % 2147483647, 1535674705 % 2147483647, 1521506693 % 2147483647, 1184513925 % 2147483647, 958941582 % 2147483647, 1184542341 % 2147483647, 1008474606 % 2147483647, 1717109627 % 2147483647, 399620187 % 2147483647, 508518201 % 2147483647, 466795340 % 2147483647, 1573390819 % 2147483647, 803901946 % 2147483647, 437215979 % 2147483647, 454478843 % 2147483647, 208954972 % 2147483647, 1633357754 % 2147483647, 1831680191 % 2147483647, 1914540195 % 2147483647, 516669207 % 2147483647, 1330111113 % 2147483647, 1923328681 % 2147483647, 1119820556 % 2147483647, 917973577 % 2147483647, 627695372 % 2147483647, 1365942856 % 2147483647, 789941148 % 2147483647, 1024635069 % 2147483647, 1542141675 % 2147483647, 1565654157 % 2147483647]\r",
      "@ 39, [584414832 % 2147483647, 970812621 % 2147483647, 1534536413 % 2147483647, 954387064 % 2147483647, 359570102 % 2147483647, 1570313059 % 2147483647, 109498696 % 2147483647, 2123742756 % 2147483647, 1386017183 % 2147483647, 1535674705 % 2147483647, 1521506693 % 2147483647, 1184513925 % 2147483647, 958941582 % 2147483647, 1184542341 % 2147483647, 1008474606 % 2147483647, 1717109627 % 2147483647, 399620187 % 2147483647, 508518201 % 2147483647, 466795340 % 2147483647, 1573390819 % 2147483647, 803901946 % 2147483647, 437215979 % 2147483647, 454478843 % 2147483647, 208954972 % 2147483647, 1633357754 % 2147483647, 1831680191 % 2147483647, 1914540195 % 2147483647, 516669207 % 2147483647, 1330111113 % 2147483647, 1923328681 % 2147483647, 1119820556 % 2147483647, 917973577 % 2147483647, 627695372 % 2147483647, 1365942856 % 2147483647, 789941148 % 2147483647, 1024635069 % 2147483647, 1542141675 % 2147483647, 1565654157 % 2147483647, 376073685 % 2147483647]\r",
      "@ 40, [584414832 % 2147483647, 970812621 % 2147483647, 1534536413 % 2147483647, 954387064 % 2147483647, 359570102 % 2147483647, 1570313059 % 2147483647, 109498696 % 2147483647, 2123742756 % 2147483647, 1386017183 % 2147483647, 1535674705 % 2147483647, 1521506693 % 2147483647, 1184513925 % 2147483647, 958941582 % 2147483647, 1184542341 % 2147483647, 1008474606 % 2147483647, 1717109627 % 2147483647, 399620187 % 2147483647, 508518201 % 2147483647, 466795340 % 2147483647, 1573390819 % 2147483647, 803901946 % 2147483647, 437215979 % 2147483647, 454478843 % 2147483647, 208954972 % 2147483647, 1633357754 % 2147483647, 1831680191 % 2147483647, 1914540195 % 2147483647, 516669207 % 2147483647, 1330111113 % 2147483647, 1923328681 % 2147483647, 1119820556 % 2147483647, 917973577 % 2147483647, 627695372 % 2147483647, 1365942856 % 2147483647, 789941148 % 2147483647, 1024635069 % 2147483647, 1542141675 % 2147483647, 1565654157 % 2147483647, 376073685 % 2147483647, 507260310 % 2147483647]\r",
      "Finished after 40 samples, [584414832 % 2147483647, 970812621 % 2147483647, 1534536413 % 2147483647, 954387064 % 2147483647, 359570102 % 2147483647, 1570313059 % 2147483647, 109498696 % 2147483647, 2123742756 % 2147483647, 1386017183 % 2147483647, 1535674705 % 2147483647, 1521506693 % 2147483647, 1184513925 % 2147483647, 958941582 % 2147483647, 1184542341 % 2147483647, 1008474606 % 2147483647, 1717109627 % 2147483647, 399620187 % 2147483647, 508518201 % 2147483647, 466795340 % 2147483647, 1573390819 % 2147483647, 803901946 % 2147483647, 437215979 % 2147483647, 454478843 % 2147483647, 208954972 % 2147483647, 1633357754 % 2147483647, 1831680191 % 2147483647, 1914540195 % 2147483647, 516669207 % 2147483647, 1330111113 % 2147483647, 1923328681 % 2147483647, 1119820556 % 2147483647, 917973577 % 2147483647, 627695372 % 2147483647, 1365942856 % 2147483647, 789941148 % 2147483647, 1024635069 % 2147483647, 1542141675 % 2147483647, 1565654157 % 2147483647, 376073685 % 2147483647, 507260310 % 2147483647]. "
     ]
    },
    {
     "data": {
      "text/latex": [
       "$\\displaystyle \\frac{t^{20} + t - 1}{5 - t}$"
      ],
      "text/plain": [
       "(t**20 + t - 1)/(5 - t)"
      ]
     },
     "execution_count": 65,
     "metadata": {},
     "output_type": "execute_result"
    }
   ],
   "source": [
    "Thiele_rational_interpolation(univariate_rational_func, 2 ** 31 - 1, verbose=True)"
   ]
  },
  {
   "cell_type": "markdown",
   "id": "d2b11548",
   "metadata": {},
   "source": [
    "### Why Reconstruction $\\supset$ Interpolation"
   ]
  },
  {
   "cell_type": "markdown",
   "id": "acbfb051",
   "metadata": {},
   "source": [
    "As far as I am aware, interpolation algorithms work only for independent sets of variables."
   ]
  },
  {
   "cell_type": "markdown",
   "id": "9f9f931e",
   "metadata": {},
   "source": [
    "We have variables subject to constraints (e.g. momentum conservation, Schouten identities, etc.)"
   ]
  },
  {
   "cell_type": "markdown",
   "id": "701bc169",
   "metadata": {},
   "source": [
    "Interpolation still plays an important role, but it's not the full story"
   ]
  },
  {
   "cell_type": "markdown",
   "id": "d248b340",
   "metadata": {},
   "source": [
    "## Least Common Denominator (LCD)"
   ]
  },
  {
   "cell_type": "markdown",
   "id": "1afe657b",
   "metadata": {},
   "source": [
    "$$ \\text{amplitude coeff} = \\frac{\\mathcal{N}}{\\mathcal{D}} = \\frac{\\mathcal{N}}{\\prod_j \\mathcal{D}_j^{q_j}}$$"
   ]
  },
  {
   "cell_type": "code",
   "execution_count": 66,
   "id": "c675a7ca",
   "metadata": {},
   "outputs": [],
   "source": [
    "field = Field(\"finite field\", 2 ** 31 - 1, 1)\n",
    "seed = 0 \n",
    "oSliceFp = Particles(5, field=field, seed=seed)\n",
    "oSliceFp.univariate_slice(algorithm='covariant', seed=seed)"
   ]
  },
  {
   "cell_type": "code",
   "execution_count": 67,
   "id": "d6ee50cb",
   "metadata": {},
   "outputs": [],
   "source": [
    "import sympy"
   ]
  },
  {
   "cell_type": "code",
   "execution_count": 68,
   "id": "868dd2b7",
   "metadata": {},
   "outputs": [
    {
     "data": {
      "text/latex": [
       "$\\displaystyle \\operatorname{Poly}{\\left( 0, t, domain=\\mathbb{F}_{2147483647} \\right)}$"
      ],
      "text/plain": [
       "Poly(0, t, modulus=2147483647)"
      ]
     },
     "execution_count": 68,
     "metadata": {},
     "output_type": "execute_result"
    }
   ],
   "source": [
    "# momentum conservation is satisfied for all values of the univariate parameter t\n",
    "sympy.poly(sympy.simplify(oSliceFp.total_mom)[1, 0], modulus=2** 31- 1)"
   ]
  },
  {
   "cell_type": "code",
   "execution_count": 69,
   "id": "1d807e6a",
   "metadata": {},
   "outputs": [
    {
     "data": {
      "text/plain": [
       "(Poly(707309386*t + 976617537, t, modulus=2147483647),\n",
       " (707309386, [(Poly(t + 525474835, t, modulus=2147483647), 1)]))"
      ]
     },
     "execution_count": 69,
     "metadata": {},
     "output_type": "execute_result"
    }
   ],
   "source": [
    "x = sympy.poly(sympy.simplify(oSliceFp(\"⟨1|4⟩\")), modulus=2** 31- 1)\n",
    "x, x.factor_list()"
   ]
  },
  {
   "cell_type": "code",
   "execution_count": 70,
   "id": "86b9ad74",
   "metadata": {},
   "outputs": [],
   "source": [
    "from antares.core.settings import settings\n",
    "from antares.core.numerical_methods import num_func\n",
    "\n",
    "from lips import Invariants"
   ]
  },
  {
   "cell_type": "code",
   "execution_count": 71,
   "id": "7a32757d",
   "metadata": {},
   "outputs": [
    {
     "name": "stdout",
     "output_type": "stream",
     "text": [
      "['⟨1|2⟩', '[1|2]', '⟨1|3⟩', '[1|3]', '⟨1|4⟩', '[1|4]', '⟨1|5⟩', '[1|5]', '⟨2|3⟩', '[2|3]', '⟨2|4⟩', '[2|4]', '⟨2|5⟩', '[2|5]', '⟨3|4⟩', '[3|4]', '⟨3|5⟩', '[3|5]', '⟨4|5⟩', '[4|5]', '⟨1|(2+3)|1]', '⟨1|(2+5)|1]', '⟨2|(1+3)|2]', '⟨2|(1+5)|2]', '⟨3|(1+2)|3]', '⟨3|(1+5)|3]', '⟨4|(1+2)|4]', '⟨4|(1+5)|4]', '⟨5|(1+2)|5]', '⟨5|(1+4)|5]', '⟨1|(2+3)|(2+5)|1⟩', '[1|(2+3)|(2+5)|1]', '⟨2|(1+3)|(1+5)|2⟩', '[2|(1+3)|(1+5)|2]', '⟨5|(1+2)|(1+4)|5⟩', '[5|(1+2)|(1+4)|5]', 'tr5_1234']\n"
     ]
    }
   ],
   "source": [
    "settings.invariants = Invariants(5).full\n",
    "print(settings.invariants)  # list of guesses for what the possible singularities of the amplitude can be"
   ]
  },
  {
   "cell_type": "code",
   "execution_count": 72,
   "id": "8229f26f",
   "metadata": {},
   "outputs": [],
   "source": [
    "black_box_function.multiplicity = 5\n",
    "oF = num_func(black_box_function)"
   ]
  },
  {
   "cell_type": "code",
   "execution_count": 73,
   "id": "c0fc6c3a",
   "metadata": {},
   "outputs": [
    {
     "name": "stdout",
     "output_type": "stream",
     "text": [
      "Finished after 19 samples, [162860843 % 2147483647, 1885044667 % 2147483647, 1411810336 % 2147483647, 1402519729 % 2147483647, 468240741 % 2147483647, 1197585802 % 2147483647, 1947316210 % 2147483647, 291407823 % 2147483647, 450073212 % 2147483647, 882656524 % 2147483647, 1372881572 % 2147483647, 934808415 % 2147483647, 1385619189 % 2147483647, 1938318280 % 2147483647, 1622103845 % 2147483647, 869915779 % 2147483647, 1364220815 % 2147483647, 64322534 % 2147483647, 552291472 % 2147483647]. \n",
      " (-514009628*t**8 + 776677322*t**7 + 991846540*t**6 - 75374069*t**5 + 101225610*t**4 + 36666516*t**3 - 728369354*t**2 + 534567587*t - 70010385)/(t**9 - 49350670*t**8 + 1034569225*t**7 + 606286545*t**6 + 418505031*t**5 - 958181787*t**4 - 882182274*t**3 - 369000092*t**2 - 291896180*t - 698421050)\n",
      "Polynomial defaultdict(<class 'int'>, {t - 505232661: 1, t - 179967131: 1, t + 594877252: 1, t + 969664725: 1, t**4 + 449954863*t**3 + 382707815*t**2 - 580761694*t - 422746403: 1})\n",
      "Matched 2 / 8: {'⟨2|3⟩': 1, '[2|3]': 1}\n",
      "Polynomial defaultdict(<class 'int'>, {t - 655500328: 1, t - 570778250: 1, t - 145735435: 1, t + 525474835: 1, t + 816738237: 1, t**2 - 509567171*t - 874003600: 1, t**2 + 490017442*t - 496737222: 1})\n",
      "Matched 9 / 9: {'⟨1|4⟩': 1, '⟨1|5⟩': 1, '⟨3|4⟩': 1, '⟨3|5⟩': 1, '⟨4|5⟩': 1, '⟨4|(1+5)|4]': 1, '⟨5|(1+4)|5]': 1}\n"
     ]
    },
    {
     "data": {
      "text/plain": [
       "Terms(\"\"\"+(1⟨2|3⟩[2|3])/(⟨1|4⟩⟨1|5⟩⟨3|4⟩⟨3|5⟩⟨4|5⟩⟨4|(1+5)|4]⟨5|(1+4)|5])\"\"\")"
      ]
     },
     "execution_count": 73,
     "metadata": {},
     "output_type": "execute_result"
    }
   ],
   "source": [
    "oF.get_lcd(oSliceFp, verbose=True)"
   ]
  },
  {
   "cell_type": "code",
   "execution_count": 74,
   "id": "07d4cd6a",
   "metadata": {},
   "outputs": [
    {
     "data": {
      "text/plain": [
       "Terms(\"\"\"+(1⟨2|3⟩[2|3])/(⟨1|4⟩⟨1|5⟩⟨3|4⟩⟨3|5⟩⟨4|5⟩⟨4|(1+5)|4]⟨5|(1+4)|5])\"\"\")"
      ]
     },
     "execution_count": 74,
     "metadata": {},
     "output_type": "execute_result"
    }
   ],
   "source": [
    "oTerms.get_lcd(oSliceFp)"
   ]
  },
  {
   "cell_type": "markdown",
   "id": "bbbaa7ba",
   "metadata": {},
   "source": [
    "<img src=\"variety_slice_v2-transparent.png\" style=\"max-width:100mm; margin-top:2mm; margin-bottom:0mm;\">\n",
    "The blue line is analogous to the univariate slice, but our space has dimension $4n-4=20-4=16$\n",
    "\n",
    "The planes $\\mathcal{D}_i = 0$ are analogous to our denominator factors, but they have dimension $16-1 = 15$"
   ]
  },
  {
   "cell_type": "code",
   "execution_count": 75,
   "id": "a7458b3d",
   "metadata": {
    "scrolled": true
   },
   "outputs": [],
   "source": [
    "# Univariate interpolation for the LCD is equivalent to checking limits:\n",
    "field = Field(\"padic\", 2 ** 31 - 1, 5)\n",
    "seed = 0 \n",
    "oPs = Particles(5, field=field, seed=seed)\n",
    "oPs._singular_variety((\"⟨1|4⟩\", ), (1, ))"
   ]
  },
  {
   "cell_type": "code",
   "execution_count": 76,
   "id": "5fb6efe2",
   "metadata": {},
   "outputs": [
    {
     "data": {
      "text/plain": [
       "2107116379*2147483647^-1 + 757787854 + 2019640807*2147483647 + 797457344*2147483647^2 + O(2147483647^3)"
      ]
     },
     "execution_count": 76,
     "metadata": {},
     "output_type": "execute_result"
    }
   ],
   "source": [
    "oF(oPs)  # simple pole"
   ]
  },
  {
   "cell_type": "code",
   "execution_count": 77,
   "id": "25525c13",
   "metadata": {},
   "outputs": [],
   "source": [
    "oPs._singular_variety((\"⟨2|3⟩\", ), (1, ))"
   ]
  },
  {
   "cell_type": "code",
   "execution_count": 78,
   "id": "93e6cb92",
   "metadata": {},
   "outputs": [
    {
     "data": {
      "text/plain": [
       "1407121939*2147483647 + 1052185488*2147483647^2 + O(2147483647^3)"
      ]
     },
     "execution_count": 78,
     "metadata": {},
     "output_type": "execute_result"
    }
   ],
   "source": [
    "oF(oPs)  # degree 1 zero"
   ]
  },
  {
   "cell_type": "markdown",
   "id": "bd861a1b",
   "metadata": {},
   "source": [
    "Problem: in LCD form the expressions are way to complicated\n",
    "\n",
    "For instance, for Vjj (at leading color), the largest numerator in LCD form had mass dimension 114, its ansatz size has approx 25M free parameters."
   ]
  },
  {
   "cell_type": "markdown",
   "id": "d58c6c93",
   "metadata": {},
   "source": [
    "Solution: do partial fraction decompositions <br>\n",
    "To do this in a multivariate setting we need some algebraic geometry"
   ]
  },
  {
   "cell_type": "markdown",
   "id": "0190f05e",
   "metadata": {},
   "source": [
    "## Computational Algebraic Geometry \\& Multivariate partial fractions"
   ]
  },
  {
   "cell_type": "markdown",
   "id": "a9c58f3a",
   "metadata": {},
   "source": [
    "We want to answer this question numerically:\n",
    "$$ \n",
    "\\frac{\\mathcal{N}}{\\mathcal{D}_1\\mathcal{D}_2} \\stackrel{?}{=}\n",
    " \\frac{\\mathcal{N}_2}{\\mathcal{D}_1} + \\frac{\\mathcal{N}_1}{\\mathcal{D}_2} \n",
    "$$"
   ]
  },
  {
   "cell_type": "markdown",
   "id": "b5d22f5c",
   "metadata": {},
   "source": [
    "<div style=\"display: flex; margin-top:-6mm;\">\n",
    "    <div style=\"flex: 1;\">\n",
    "        <img src=\"V1.png\" style=\"max-width:60%; height:auto;\">\n",
    "    </div>\n",
    "    <div style=\"flex: 1; max-width:5%; margin-top:20mm;\">\n",
    "        $\\cap$\n",
    "    </div>\n",
    "    <div style=\"flex: 1;\">\n",
    "        <img src=\"V2.png\" style=\"max-width:60%; height:auto;\">\n",
    "    </div>\n",
    "    <div style=\"flex: 1; max-width:5%; margin-top:20mm;\">\n",
    "        $=$\n",
    "    </div>\n",
    "    <div style=\"flex: 1;\">\n",
    "        <img src=\"V3.png\" style=\"max-width:53%; height:auto;\">\n",
    "    </div>\n",
    "</div>\n",
    "\n",
    "$$ \n",
    "\\color{orange}{\\langle xy^2 + y^3 - z^2 \\rangle} + \\color{blue}{\\langle x^3 + y^3 - z^2 \\rangle} = \\langle xy^2 + y^3 - z^2, x^3 + y^3 - z^2 \\rangle = \\color{red}{\\langle 2y^3-z^2, x-y \\rangle} \\cap \\color{green}{\\langle y^3-z^2, x \\rangle} \\cap \\color{purple}{\\langle z^2, x+y \\rangle}\n",
    "$$"
   ]
  },
  {
   "cell_type": "code",
   "execution_count": 79,
   "id": "1541dc71",
   "metadata": {},
   "outputs": [],
   "source": [
    "from syngular import Ring, Ideal  # Requires Singular (e.g. apt install singular)"
   ]
  },
  {
   "cell_type": "code",
   "execution_count": 80,
   "id": "83220fd9",
   "metadata": {},
   "outputs": [],
   "source": [
    "ring = Ring('0', ('x', 'y', 'z'), 'dp')"
   ]
  },
  {
   "cell_type": "code",
   "execution_count": 81,
   "id": "6ebe4981",
   "metadata": {},
   "outputs": [],
   "source": [
    "I = Ideal(ring, ['x*y^2+y^3-z^2', ])\n",
    "J = Ideal(ring, ['x^3+y^3-z^2', ]) "
   ]
  },
  {
   "cell_type": "code",
   "execution_count": 82,
   "id": "9f2fd70f",
   "metadata": {},
   "outputs": [],
   "source": [
    "K1 = Ideal(ring, ['2*y^3 - z^2', 'x-y', ])\n",
    "K2 = Ideal(ring, ['y^3-z^2', 'x', ])\n",
    "K3 = Ideal(ring, ['z^2', 'x+y', ])"
   ]
  },
  {
   "cell_type": "code",
   "execution_count": 83,
   "id": "4b7f8064",
   "metadata": {},
   "outputs": [
    {
     "data": {
      "text/plain": [
       "True"
      ]
     },
     "execution_count": 83,
     "metadata": {},
     "output_type": "execute_result"
    }
   ],
   "source": [
    "I + J == K1 & K2 & K3"
   ]
  },
  {
   "cell_type": "markdown",
   "id": "21581512",
   "metadata": {},
   "source": [
    "### Points on varieties (finding solutions to arbiraty systems of equations)"
   ]
  },
  {
   "cell_type": "code",
   "execution_count": 84,
   "id": "bebb2588",
   "metadata": {},
   "outputs": [],
   "source": [
    "from syngular import RingPoint"
   ]
  },
  {
   "cell_type": "code",
   "execution_count": 85,
   "id": "82655b8e",
   "metadata": {},
   "outputs": [],
   "source": [
    "field = Field(\"finite field\", 2 ** 31 - 1, 1)"
   ]
  },
  {
   "cell_type": "code",
   "execution_count": 86,
   "id": "df8cee7c",
   "metadata": {},
   "outputs": [],
   "source": [
    "point = RingPoint(ring, field)\n",
    "point.update(K1.point_on_variety(field=field))"
   ]
  },
  {
   "cell_type": "code",
   "execution_count": 87,
   "id": "6d765d3d",
   "metadata": {
    "scrolled": true
   },
   "outputs": [
    {
     "data": {
      "text/plain": [
       "[0 % 2147483647, 0 % 2147483647]"
      ]
     },
     "execution_count": 87,
     "metadata": {},
     "output_type": "execute_result"
    }
   ],
   "source": [
    "[point(generator) for generator in K1.generators]"
   ]
  },
  {
   "cell_type": "code",
   "execution_count": 88,
   "id": "6903bd67",
   "metadata": {
    "scrolled": true
   },
   "outputs": [
    {
     "data": {
      "text/plain": [
       "[1817970875 % 2147483647, 412685906 % 2147483647]"
      ]
     },
     "execution_count": 88,
     "metadata": {},
     "output_type": "execute_result"
    }
   ],
   "source": [
    "[point(generator) for generator in K2.generators]"
   ]
  },
  {
   "cell_type": "code",
   "execution_count": 89,
   "id": "36433bd8",
   "metadata": {},
   "outputs": [],
   "source": [
    "field = Field(\"padic\", 2 ** 31 - 1, 3)"
   ]
  },
  {
   "cell_type": "code",
   "execution_count": 90,
   "id": "8a3cb125",
   "metadata": {},
   "outputs": [],
   "source": [
    "point = RingPoint(ring, field)\n",
    "point.update(K1.point_on_variety(field=field, valuations=(1, 1)))"
   ]
  },
  {
   "cell_type": "code",
   "execution_count": 91,
   "id": "46455993",
   "metadata": {
    "scrolled": true
   },
   "outputs": [
    {
     "data": {
      "text/plain": [
       "[718372410*2147483647 + 1296125827*2147483647^2 + O(2147483647^3),\n",
       " 1464285392*2147483647 + 2046458951*2147483647^2 + O(2147483647^3)]"
      ]
     },
     "execution_count": 91,
     "metadata": {},
     "output_type": "execute_result"
    }
   ],
   "source": [
    "[point(generator) for generator in K1.generators]"
   ]
  },
  {
   "cell_type": "code",
   "execution_count": 92,
   "id": "5bc9d632",
   "metadata": {
    "scrolled": true
   },
   "outputs": [
    {
     "data": {
      "text/plain": [
       "[315675511 + 443827638*2147483647 + 1147775447*2147483647^2 + O(2147483647^3),\n",
       " 679487827 + 1899488474*2147483647 + 1473546938*2147483647^2 + O(2147483647^3)]"
      ]
     },
     "execution_count": 92,
     "metadata": {},
     "output_type": "execute_result"
    }
   ],
   "source": [
    "[point(generator) for generator in K2.generators]"
   ]
  },
  {
   "cell_type": "markdown",
   "id": "27ca6a4d",
   "metadata": {},
   "source": [
    "The partial fraction decomposition is valid, if the numerator vanishes on all branches (K1, K2, K3 here)"
   ]
  },
  {
   "cell_type": "markdown",
   "id": "e9943c26",
   "metadata": {},
   "source": [
    "## The geometry of phase space"
   ]
  },
  {
   "cell_type": "code",
   "execution_count": 93,
   "id": "5344e423",
   "metadata": {},
   "outputs": [],
   "source": [
    "from lips.algebraic_geometry.covariant_ideal import LipsIdeal"
   ]
  },
  {
   "cell_type": "code",
   "execution_count": 94,
   "id": "31007eee",
   "metadata": {},
   "outputs": [],
   "source": [
    "oPs = Particles(5)\n",
    "oPs.make_analytical_d()"
   ]
  },
  {
   "cell_type": "code",
   "execution_count": 95,
   "id": "198f5fce",
   "metadata": {},
   "outputs": [
    {
     "data": {
      "text/plain": [
       "(array([[a1],\n",
       "        [b1]], dtype=object),\n",
       " array([[c1, d1]], dtype=object))"
      ]
     },
     "execution_count": 95,
     "metadata": {},
     "output_type": "execute_result"
    }
   ],
   "source": [
    "oPs[\"|1⟩\"], oPs[\"[1|\"]"
   ]
  },
  {
   "cell_type": "code",
   "execution_count": 96,
   "id": "ec2cd529",
   "metadata": {},
   "outputs": [
    {
     "data": {
      "text/plain": [
       "(syngular.ideal.Ideal,)"
      ]
     },
     "execution_count": 96,
     "metadata": {},
     "output_type": "execute_result"
    }
   ],
   "source": [
    "LipsIdeal.__bases__"
   ]
  },
  {
   "cell_type": "markdown",
   "id": "8dcfe066",
   "metadata": {},
   "source": [
    "### Geometry of singular phase space"
   ]
  },
  {
   "cell_type": "code",
   "execution_count": 97,
   "id": "cde2c4d9",
   "metadata": {},
   "outputs": [],
   "source": [
    "oPs = Particles(5, field=Field(\"padic\", 2 ** 31 - 1, 5))"
   ]
  },
  {
   "cell_type": "code",
   "execution_count": 98,
   "id": "4e141b20",
   "metadata": {
    "scrolled": true
   },
   "outputs": [
    {
     "data": {
      "text/plain": [
       "Ideal over Ring\n",
       "    0, (a1, b1, c1, d1, a2, b2, c2, d2, a3, b3, c3, d3, a4, b4, c4, d4, a5, b5, c5, d5), dp\n",
       "generated by\n",
       "    4*a1*b4*c1*d4 - 4*a1*b4*c4*d1 - 4*a4*b1*c1*d4 + 4*a4*b1*c4*d1 + 4*a4*b5*c4*d5 - 4*a4*b5*c5*d4 - 4*a5*b4*c4*d5 + 4*a5*b4*c5*d4,4*a1*b5*c1*d5 - 4*a1*b5*c5*d1 + 4*a4*b5*c4*d5 - 4*a4*b5*c5*d4 - 4*a5*b1*c1*d5 + 4*a5*b1*c5*d1 - 4*a5*b4*c4*d5 + 4*a5*b4*c5*d4,b1*d1 + b2*d2 + b3*d3 + b4*d4 + b5*d5,-a1*d1 - a2*d2 - a3*d3 - a4*d4 - a5*d5,-b1*c1 - b2*c2 - b3*c3 - b4*c4 - b5*c5,a1*c1 + a2*c2 + a3*c3 + a4*c4 + a5*c5"
      ]
     },
     "execution_count": 98,
     "metadata": {},
     "output_type": "execute_result"
    }
   ],
   "source": [
    "J = LipsIdeal(5, (\"⟨4|1+5|4]\", \"⟨5|1+4|5]\", ))\n",
    "J"
   ]
  },
  {
   "cell_type": "code",
   "execution_count": 99,
   "id": "9887ee42",
   "metadata": {},
   "outputs": [
    {
     "data": {
      "text/plain": [
       "(14, 6)"
      ]
     },
     "execution_count": 99,
     "metadata": {},
     "output_type": "execute_result"
    }
   ],
   "source": [
    "J.dim, J.codim"
   ]
  },
  {
   "cell_type": "markdown",
   "id": "89c6340c",
   "metadata": {},
   "source": [
    "The following line checks whether this ideal is prime (it isn't)"
   ]
  },
  {
   "cell_type": "code",
   "execution_count": 100,
   "id": "95bb6a93",
   "metadata": {
    "scrolled": true
   },
   "outputs": [
    {
     "name": "stdout",
     "output_type": "stream",
     "text": [
      "gathering f-poly factors: @ 37/38 of which 0 timedout                                   \n",
      "easiest projection is 208: (1, 1, 0, 0, 0, 0, 1, 1, 1, 0, 0, 1, 1, 1, 1, 1, 1, 1, 1, 1) of degree 1\n",
      "The ideal is radical: True\n",
      " smallest f poly factors (33): complexity 856                              \n",
      "Original ideal has codim 6\n",
      " at factor 0: 1.                                       \n",
      " at factor 1: d2.                                       \n",
      " at factor 2: a4.                                       \n",
      " at factor 3: a1.                                       \n",
      " at factor 4: a3.                                       \n",
      " at factor 5: a5.                                       \n",
      " at factor 6: b1.                                       \n",
      " at factor 7: d4.                                       \n",
      " at factor 8: b4.                                       \n",
      " at factor 9: d3.                                       \n",
      " at factor 10: d5.                                       \n",
      " at factor 11: c2.                                       \n",
      " at factor 12: b5.                                       \n",
      " at factor 13: b1*a4-a1*b4.                                       \n"
     ]
    },
    {
     "data": {
      "text/plain": [
       "False"
      ]
     },
     "execution_count": 100,
     "metadata": {},
     "output_type": "execute_result"
    }
   ],
   "source": [
    "J.test_primality(verbose=True)"
   ]
  },
  {
   "cell_type": "markdown",
   "id": "6f7337cc",
   "metadata": {},
   "source": [
    "We need the following 3 prime ideals"
   ]
  },
  {
   "cell_type": "code",
   "execution_count": 101,
   "id": "b1565ca7",
   "metadata": {},
   "outputs": [],
   "source": [
    "K = LipsIdeal(5, (\"⟨14⟩\", \"⟨15⟩\", \"⟨45⟩\", \"[23]\"))\n",
    "L = LipsIdeal(5, (\"⟨12⟩\", \"⟨13⟩\", \"⟨14⟩\", \"⟨15⟩\", \"⟨23⟩\", \"⟨24⟩\", \"⟨25⟩\", \"⟨34⟩\", \"⟨35⟩\", \"⟨45⟩\"))\n",
    "M = LipsIdeal(5, (\"⟨4|1+5|4]\", \"⟨5|1+4|5]\", \"|1]⟨14⟩⟨15⟩+|4]⟨14⟩⟨45⟩-|5]⟨45⟩⟨15⟩\", \"|1⟩[14][15]+|4⟩[14][45]-|5⟩[45][15]\"))"
   ]
  },
  {
   "cell_type": "markdown",
   "id": "12478ca7",
   "metadata": {},
   "source": [
    "The following verifies they are indeed prime"
   ]
  },
  {
   "cell_type": "code",
   "execution_count": 102,
   "id": "01c31fca",
   "metadata": {
    "scrolled": true
   },
   "outputs": [],
   "source": [
    "assert K.test_primality() and L.test_primality() and M.test_primality()"
   ]
  },
  {
   "cell_type": "markdown",
   "id": "fcebc234",
   "metadata": {},
   "source": [
    "\\& operator means intersection ($\\cap$), like for sets. The following checks that the ideal J is indeed an intersection of 5 prime ideals."
   ]
  },
  {
   "cell_type": "code",
   "execution_count": 103,
   "id": "6962e997",
   "metadata": {},
   "outputs": [],
   "source": [
    "assert K & K(\"12345\", True) & L & L(\"12345\", True) & M == J"
   ]
  },
  {
   "cell_type": "markdown",
   "id": "40f109aa",
   "metadata": {},
   "source": [
    "In other words, the variety (= hyper-surface) V(J) is the union of V(K), V(K-bar), V(L), V(L-bar) and V(M)"
   ]
  },
  {
   "cell_type": "markdown",
   "id": "77c7cc51",
   "metadata": {},
   "source": [
    "### Phase-space points on irreducible varieties"
   ]
  },
  {
   "cell_type": "markdown",
   "id": "9bc981d6",
   "metadata": {},
   "source": [
    "We can now use this to find if a partial fraction decomposition is possible, using numerics only. <br>\n",
    "Normally, we have access to a \"black box function\" for the rational expression, and the common denominator."
   ]
  },
  {
   "cell_type": "code",
   "execution_count": 104,
   "id": "5d2889c1",
   "metadata": {},
   "outputs": [],
   "source": [
    "common_denominator = \"(⟨14⟩⟨15⟩⟨34⟩⟨35⟩⟨45⟩⟨4|1+5|4]⟨5|1+4|5])\""
   ]
  },
  {
   "cell_type": "code",
   "execution_count": 105,
   "id": "78f72a68",
   "metadata": {},
   "outputs": [],
   "source": [
    "oPsK = Particles(5, field=Field(\"padic\", 2 ** 31 - 1, 3), seed=0)\n",
    "oPsK._singular_variety((\"⟨4|1+5|4]\", \"⟨5|1+4|5]\"), (1, 1), generators=K.generators)"
   ]
  },
  {
   "cell_type": "code",
   "execution_count": 106,
   "id": "0d9697c6",
   "metadata": {},
   "outputs": [
    {
     "data": {
      "text/plain": [
       "679273289*2147483647^3 + 1895573676*2147483647^4 + O(2147483647^5)"
      ]
     },
     "execution_count": 106,
     "metadata": {},
     "output_type": "execute_result"
    }
   ],
   "source": [
    "black_box_function(oPsK) * oPsK(common_denominator)  # rational * denominator is a proxy for the numerator polynomial"
   ]
  },
  {
   "cell_type": "code",
   "execution_count": 107,
   "id": "7a8cfb89",
   "metadata": {},
   "outputs": [],
   "source": [
    "oPsKb = Particles(5, field=Field(\"padic\", 2 ** 31 - 1, 3), seed=0)\n",
    "oPsKb._singular_variety((\"⟨4|1+5|4]\", \"⟨5|1+4|5]\"), (1, 1), generators=K(\"12345\", True).generators)"
   ]
  },
  {
   "cell_type": "code",
   "execution_count": 108,
   "id": "9dc6eccf",
   "metadata": {},
   "outputs": [
    {
     "data": {
      "text/plain": [
       "1174139383*2147483647^2 + 2092180996*2147483647^3 + O(2147483647^4)"
      ]
     },
     "execution_count": 108,
     "metadata": {},
     "output_type": "execute_result"
    }
   ],
   "source": [
    "black_box_function(oPsKb) * oPsKb(common_denominator)"
   ]
  },
  {
   "cell_type": "code",
   "execution_count": 109,
   "id": "ed25c5ac",
   "metadata": {},
   "outputs": [],
   "source": [
    "oPsL = Particles(5, field=Field(\"padic\", 2 ** 31 - 1, 3), seed=0)\n",
    "oPsL._singular_variety((\"⟨4|1+5|4]\", \"⟨5|1+4|5]\"), (1, 1), generators=L.generators)"
   ]
  },
  {
   "cell_type": "code",
   "execution_count": 110,
   "id": "6fb94c22",
   "metadata": {},
   "outputs": [
    {
     "data": {
      "text/plain": [
       "1990154823*2147483647^5 + O(2147483647^6)"
      ]
     },
     "execution_count": 110,
     "metadata": {},
     "output_type": "execute_result"
    }
   ],
   "source": [
    "black_box_function(oPsL) * oPsL(common_denominator)"
   ]
  },
  {
   "cell_type": "code",
   "execution_count": 111,
   "id": "5c3f515a",
   "metadata": {},
   "outputs": [],
   "source": [
    "oPsLb = Particles(5, field=Field(\"padic\", 2 ** 31 - 1, 3), seed=0)\n",
    "oPsLb._singular_variety((\"⟨4|1+5|4]\", \"⟨5|1+4|5]\"), (1, 1), generators=L(\"12345\", True).generators)"
   ]
  },
  {
   "cell_type": "code",
   "execution_count": 112,
   "id": "1ae08a1e",
   "metadata": {},
   "outputs": [
    {
     "data": {
      "text/plain": [
       "1990154823*2147483647^5 + O(2147483647^6)"
      ]
     },
     "execution_count": 112,
     "metadata": {},
     "output_type": "execute_result"
    }
   ],
   "source": [
    "black_box_function(oPsL) * oPsL(common_denominator)"
   ]
  },
  {
   "cell_type": "code",
   "execution_count": 113,
   "id": "61edf746",
   "metadata": {},
   "outputs": [],
   "source": [
    "oPsM = Particles(5, field=Field(\"padic\", 2 ** 31 - 1, 3), seed=0)\n",
    "oPsM._singular_variety((\"⟨4|1+5|4]\", \"⟨5|1+4|5]\"), (1, 1), generators=M.generators)"
   ]
  },
  {
   "cell_type": "code",
   "execution_count": 114,
   "id": "2913e1e2",
   "metadata": {},
   "outputs": [
    {
     "data": {
      "text/plain": [
       "318569542*2147483647 + 1398042680*2147483647^2 + O(2147483647^3)"
      ]
     },
     "execution_count": 114,
     "metadata": {},
     "output_type": "execute_result"
    }
   ],
   "source": [
    "black_box_function(oPsM) * oPsM(common_denominator)"
   ]
  },
  {
   "cell_type": "markdown",
   "id": "c054cd8a",
   "metadata": {},
   "source": [
    "The numerator vanishes on all sub-varities => the decomposition is valid"
   ]
  },
  {
   "cell_type": "markdown",
   "id": "b4d2089f",
   "metadata": {},
   "source": [
    "## Outlook (currently private / under development)"
   ]
  },
  {
   "cell_type": "code",
   "execution_count": 115,
   "id": "654f2e64",
   "metadata": {
    "scrolled": true
   },
   "outputs": [
    {
     "name": "stdout",
     "output_type": "stream",
     "text": [
      "Obtaining ansatz from CP_SAT with lM, lPW: [6.0], [[1, 1, 0, 1, 1]]. Generating ansatz for: 6.0, [1, 1, 0, 1, 1]Status = OPTIMAL\n",
      "Number of solutions found: 30\n",
      "\r",
      "Obtained ansatz from CP_SAT with lM, lPW: [6.0], [[1, 1, 0, 1, 1]]. Size: 30.                                                       \n"
     ]
    }
   ],
   "source": [
    "oTermsAnsatzLCD = Terms(\"\"\"\n",
    "+(⟨2|3⟩[2|3])/(⟨1|4⟩⟨1|5⟩⟨3|4⟩⟨3|5⟩⟨4|5⟩⟨4|(1+5)|4]⟨5|(1+4)|5])\n",
    "\"\"\")\n",
    "oTermsAnsatzLCD.oUnknown = oF\n",
    "oTermsAnsatzLCD.as_ansatz()"
   ]
  },
  {
   "cell_type": "code",
   "execution_count": 116,
   "id": "028af231",
   "metadata": {},
   "outputs": [
    {
     "name": "stdout",
     "output_type": "stream",
     "text": [
      "+⟨2|3⟩[2|3](?⟨1|4⟩⟨2|4⟩²⟨2|5⟩[2|4]²+...⟪28 terms⟫...+?⟨1|2⟩⟨4|5⟩³[4|5]²)/(⟨1|4⟩⟨1|5⟩⟨3|4⟩⟨3|5⟩⟨4|5⟩⟨4|1+5|4]⟨5|1+4|5])\n"
     ]
    }
   ],
   "source": [
    "import syngular\n",
    "from syngular import TemporarySetting\n",
    "\n",
    "with TemporarySetting(syngular, \"USE_ELLIPSIS_FOR_PRINT\", True):\n",
    "    print(oTermsAnsatzLCD)  # 30 free parameters"
   ]
  },
  {
   "cell_type": "code",
   "execution_count": 117,
   "id": "1f8dda2c",
   "metadata": {},
   "outputs": [
    {
     "name": "stdout",
     "output_type": "stream",
     "text": [
      "Obtaining ansatz from CP_SAT with lM, lPW: [4.0, 4.0], [[1, 1, 0, 1, 1], [1, 1, 0, 1, 1]]. Generating ansatz for: 4.0, [1, 1, 0, 1, 1]Status = OPTIMAL\n",
      "Number of solutions found: 10\n",
      "Generating ansatz for: 4.0, [1, 1, 0, 1, 1]Status = OPTIMAL\n",
      "Number of solutions found: 10\n",
      "Obtained ansatz from CP_SAT with lM, lPW: [4.0, 4.0], [[1, 1, 0, 1, 1], [1, 1, 0, 1, 1]]. Size: 20.                                                       \n"
     ]
    }
   ],
   "source": [
    "oTermsAnsatz = Terms(\"\"\"\n",
    "+(⟨2|3⟩[2|3])/(⟨1|4⟩⟨1|5⟩⟨3|4⟩⟨3|5⟩⟨4|5⟩⟨4|(1+5)|4])\n",
    "+(⟨2|3⟩[2|3])/(⟨1|4⟩⟨1|5⟩⟨3|4⟩⟨3|5⟩⟨4|5⟩⟨5|(1+4)|5])\n",
    "\"\"\")\n",
    "oTermsAnsatz.oUnknown = oF\n",
    "oTermsAnsatz.as_ansatz()"
   ]
  },
  {
   "cell_type": "code",
   "execution_count": 118,
   "id": "59a147fc",
   "metadata": {},
   "outputs": [
    {
     "name": "stdout",
     "output_type": "stream",
     "text": [
      "+⟨2|3⟩[2|3](?⟨1|4⟩⟨2|4⟩⟨2|5⟩[2|4]+...⟪8 terms⟫...+?⟨1|2⟩⟨4|5⟩²[4|5])/(⟨1|4⟩⟨1|5⟩⟨3|4⟩⟨3|5⟩⟨4|5⟩⟨4|1+5|4])\n",
      "+⟨2|3⟩[2|3](?⟨1|4⟩⟨2|4⟩⟨2|5⟩[2|4]+...⟪8 terms⟫...+?⟨1|2⟩⟨4|5⟩²[4|5])/(⟨1|4⟩⟨1|5⟩⟨3|4⟩⟨3|5⟩⟨4|5⟩⟨5|1+4|5])\n"
     ]
    }
   ],
   "source": [
    "with TemporarySetting(syngular, \"USE_ELLIPSIS_FOR_PRINT\", True):\n",
    "    print(oTermsAnsatz) # less than 20 free parameters (redundancies among the two fractions are not yet removed)"
   ]
  },
  {
   "cell_type": "markdown",
   "id": "aaf556fe",
   "metadata": {},
   "source": [
    "In general the gain from partial fractioning is significant, e.g. from millions to tens of thousands free parameters <br>\n",
    "Up next: solving the linear system"
   ]
  },
  {
   "cell_type": "markdown",
   "id": "b59041ec",
   "metadata": {},
   "source": [
    "(py)CUDA finite field solver coming soon: Linac (Linear Algebra with CUDA)"
   ]
  },
  {
   "cell_type": "markdown",
   "id": "7cb3c2d9",
   "metadata": {},
   "source": [
    "<img src=\"cubic_fit.png\" style=\"max-width:150mm; margin-top:2mm; margin-bottom:0mm;\">"
   ]
  },
  {
   "cell_type": "markdown",
   "id": "f272b2cb",
   "metadata": {},
   "source": [
    "Work in collaboration with Jack Franklin (recently graduated PhD from Durham, now at Cambridge) <br>\n",
    "\n",
    "We have tested this on systems of size up to 100k (which takes only 45 minutes on an A100!)"
   ]
  },
  {
   "cell_type": "code",
   "execution_count": 119,
   "id": "23773892",
   "metadata": {},
   "outputs": [],
   "source": [
    "import mpmath\n",
    "mpmath.mp.dps = 300 "
   ]
  },
  {
   "cell_type": "code",
   "execution_count": 120,
   "id": "3cce9e4e",
   "metadata": {},
   "outputs": [],
   "source": [
    "from antares.core.unknown import Unknown\n",
    "from antares.numerical_to_analytical import numerical_to_analytical"
   ]
  },
  {
   "cell_type": "code",
   "execution_count": 121,
   "id": "5799721e",
   "metadata": {
    "scrolled": true
   },
   "outputs": [
    {
     "name": "stdout",
     "output_type": "stream",
     "text": [
      "The partial result is:                                                                                             \n",
      "(1⟨2|3⟩[2|3])/(⟨1|4⟩⟨1|5⟩⟨3|4⟩⟨3|5⟩⟨4|5⟩⟨4|(1+5)|4]⟨5|(1+4)|5])\n",
      "\n",
      "Mass dimension & phase weights: -1.0, [-1, 1, -2, -2, -2] → 6.0, [1, 1, 0, 1, 1]\n",
      "Cleaning pair scalings results from known numerator information.                                                             \n",
      "Finished calculating pair scalings. They are:                         \n",
      "[⟨1|4⟩, ⟨1|5⟩]:             3.0, 31 → 7\n",
      "[⟨1|4⟩, ⟨3|4⟩]:             3.0, 26 → 7\n",
      "[⟨1|4⟩, ⟨3|5⟩]:             2.0, 2  → 2\n",
      "[⟨1|4⟩, ⟨4|5⟩]:             3.0, 31 → 7\n",
      "[⟨1|4⟩, ⟨4|(1+5)|4]]:       1.0, 3  → 2\n",
      "[⟨1|4⟩, ⟨5|(1+4)|5]]:       2.0, 4  → 2\n",
      "[⟨1|5⟩, ⟨3|4⟩]:             2.0, 4  → 2\n",
      "[⟨1|5⟩, ⟨3|5⟩]:             3.0, 26 → 7\n",
      "[⟨1|5⟩, ⟨4|5⟩]:             3.0, 31 → 7\n",
      "[⟨1|5⟩, ⟨4|(1+5)|4]]:       2.0, 3  → 2\n",
      "[⟨1|5⟩, ⟨5|(1+4)|5]]:       1.0, 3  → 2\n",
      "[⟨3|4⟩, ⟨3|5⟩]:             3.0, 31 → 7\n",
      "[⟨3|4⟩, ⟨4|5⟩]:             3.0, 31 → 7\n",
      "[⟨3|4⟩, ⟨4|(1+5)|4]]:       2.0, 3  → 2\n",
      "[⟨3|4⟩, ⟨5|(1+4)|5]]:       1.0, 2  → 2\n",
      "[⟨3|5⟩, ⟨4|5⟩]:             3.0, 31 → 7\n",
      "[⟨3|5⟩, ⟨4|(1+5)|4]]:       1.0, 2  → 2\n",
      "[⟨3|5⟩, ⟨5|(1+4)|5]]:       2.0, 3  → 2\n",
      "[⟨4|5⟩, ⟨4|(1+5)|4]]:       2.0, 3  → 2\n",
      "[⟨4|5⟩, ⟨5|(1+4)|5]]:       2.0, 3  → 2\n",
      "[⟨4|(1+5)|4], ⟨5|(1+4)|5]]: 1.0, 2  → 2\n",
      "\n"
     ]
    }
   ],
   "source": [
    "oF.do_single_collinear_limits()\n",
    "oF.do_double_collinear_limits()"
   ]
  },
  {
   "cell_type": "code",
   "execution_count": 122,
   "id": "1883303d",
   "metadata": {},
   "outputs": [],
   "source": [
    "oU = Unknown(oF)"
   ]
  },
  {
   "cell_type": "code",
   "execution_count": 123,
   "id": "14433984",
   "metadata": {},
   "outputs": [
    {
     "name": "stdout",
     "output_type": "stream",
     "text": [
      "~~~~~~~~~~~~~~~~~~~~~~~~~~~~~~~~~~~~~~~~~~~~~~~~~~~~~~~~~~~~~~~~~~~~~~~~~~~~~~~~~~~~~\n",
      "NoneToAnalytical called at depth 0.\n",
      "\n",
      "The partial result is:                                                                                             \n",
      "(1⟨2|3⟩[2|3])/(⟨1|4⟩⟨1|5⟩⟨3|4⟩⟨3|5⟩⟨4|5⟩⟨4|(1+5)|4]⟨5|(1+4)|5])\n",
      "\n",
      "Mass dimension & phase weights: -1.0, [-1, 1, -2, -2, -2] → 6.0, [1, 1, 0, 1, 1]\n",
      "Cleaning pair scalings results from known numerator information.                                                             \n",
      "Finished calculating pair scalings. They are:                         \n",
      "[⟨1|4⟩, ⟨1|5⟩]:             3.0 (3.0), 31 → 7\n",
      "[⟨1|4⟩, ⟨3|4⟩]:             3.0 (3.0), 26 → 7\n",
      "[⟨1|4⟩, ⟨3|5⟩]:             2.0 (2.0), 2  → 2\n",
      "[⟨1|4⟩, ⟨4|5⟩]:             3.0 (3.0), 31 → 7\n",
      "[⟨1|4⟩, ⟨4|(1+5)|4]]:       1.0 (1.0), 3  → 2\n",
      "[⟨1|4⟩, ⟨5|(1+4)|5]]:       2.0 (2.0), 4  → 2\n",
      "[⟨1|5⟩, ⟨3|4⟩]:             2.0 (2.0), 4  → 2\n",
      "[⟨1|5⟩, ⟨3|5⟩]:             3.0 (3.0), 26 → 7\n",
      "[⟨1|5⟩, ⟨4|5⟩]:             3.0 (3.0), 31 → 7\n",
      "[⟨1|5⟩, ⟨4|(1+5)|4]]:       2.0 (2.0), 3  → 2\n",
      "[⟨1|5⟩, ⟨5|(1+4)|5]]:       1.0 (1.0), 3  → 2\n",
      "[⟨3|4⟩, ⟨3|5⟩]:             3.0 (3.0), 31 → 7\n",
      "[⟨3|4⟩, ⟨4|5⟩]:             3.0 (3.0), 31 → 7\n",
      "[⟨3|4⟩, ⟨4|(1+5)|4]]:       2.0 (2.0), 3  → 2\n",
      "[⟨3|4⟩, ⟨5|(1+4)|5]]:       1.0 (1.0), 2  → 2\n",
      "[⟨3|5⟩, ⟨4|5⟩]:             3.0 (3.0), 31 → 7\n",
      "[⟨3|5⟩, ⟨4|(1+5)|4]]:       1.0 (1.0), 2  → 2\n",
      "[⟨3|5⟩, ⟨5|(1+4)|5]]:       2.0 (2.0), 3  → 2\n",
      "[⟨4|5⟩, ⟨4|(1+5)|4]]:       2.0 (2.0), 3  → 2\n",
      "[⟨4|5⟩, ⟨5|(1+4)|5]]:       2.0 (2.0), 3  → 2\n",
      "[⟨4|(1+5)|4], ⟨5|(1+4)|5]]: 1.0 (1.0), 2  → 2\n",
      "\n",
      "Poles to be eliminated: [⟨4|(1+5)|4], ⟨5|(1+4)|5], ⟨1|4⟩, ⟨1|5⟩, ⟨3|4⟩, ⟨3|5⟩, ⟨4|5⟩]\n",
      "Spurious poles: []\n",
      "\n",
      "Generating partial fractioning for ⟨4|(1+5)|4].\n",
      "\n",
      "Forced:                                             \n",
      "[⟨3|4⟩, ⟨1|5⟩, ⟨4|5⟩]\n",
      "Forbidden:                                            \n",
      "[⟨3|5⟩, ⟨5|(1+4)|5]]\n",
      "Optional:                                             \n",
      "[(⟨1|4⟩, None)]\n",
      "\n",
      "No result found with 1 terms.                                                                                                                      \n",
      "Generating partial fractioning for ⟨5|(1+4)|5].\n",
      "\n",
      "Forced:                                             \n",
      "[⟨1|4⟩, ⟨3|5⟩, ⟨4|5⟩]\n",
      "Forbidden:                                            \n",
      "[⟨3|4⟩, ⟨4|(1+5)|4]]\n",
      "Optional:                                             \n",
      "[(⟨1|5⟩, None)]\n",
      "\n",
      "No result found with 1 terms.                                                                                                                      \n",
      "Generating partial fractioning for ⟨1|4⟩.\n",
      "\n",
      "Forced:                                             \n",
      "[⟨3|5⟩, ⟨5|(1+4)|5]]\n",
      "Forbidden:                                            \n",
      "[]\n",
      "Optional:                                             \n",
      "[(⟨4|(1+5)|4], None), (⟨1|5⟩, ⟨3|4⟩, ⟨3|5⟩, ⟨4|5⟩, ⟨4|(1+5)|4], ⟨5|(1+4)|5])]\n",
      "\n",
      "No result found with 1 terms.                                                                                                                      \n",
      "Generating partial fractioning for ⟨1|5⟩.\n",
      "\n",
      "Forced:                                             \n",
      "[⟨3|4⟩, ⟨4|(1+5)|4]]\n",
      "Forbidden:                                            \n",
      "[]\n",
      "Optional:                                             \n",
      "[(⟨1|4⟩, ⟨3|4⟩, ⟨3|5⟩, ⟨4|5⟩, ⟨4|(1+5)|4], ⟨5|(1+4)|5]), (⟨5|(1+4)|5], None)]\n",
      "\n",
      "No result found with 1 terms.                                                                                                                      \n",
      "Generating partial fractioning for ⟨3|4⟩.\n",
      "\n",
      "Forced:                                             \n",
      "[⟨4|(1+5)|4], ⟨1|5⟩]\n",
      "Forbidden:                                            \n",
      "[⟨5|(1+4)|5]]\n",
      "Optional:                                             \n",
      "[(⟨1|4⟩, ⟨1|5⟩, ⟨3|5⟩, ⟨4|5⟩, ⟨4|(1+5)|4])]\n",
      "\n",
      "No result found with 1 terms.                                                                                                                      \n",
      "Generating partial fractioning for ⟨3|5⟩.\n",
      "\n",
      "Forced:                                             \n",
      "[⟨1|4⟩, ⟨5|(1+4)|5]]\n",
      "Forbidden:                                            \n",
      "[⟨4|(1+5)|4]]\n",
      "Optional:                                             \n",
      "[(⟨1|4⟩, ⟨1|5⟩, ⟨3|4⟩, ⟨4|5⟩, ⟨5|(1+4)|5])]\n",
      "\n",
      "No result found with 1 terms.                                                                                                                      \n",
      "Generating partial fractioning for ⟨4|5⟩.\n",
      "\n",
      "Forced:                                             \n",
      "[⟨4|(1+5)|4], ⟨5|(1+4)|5]]\n",
      "Forbidden:                                            \n",
      "[]\n",
      "Optional:                                             \n",
      "[(⟨1|4⟩, ⟨1|5⟩, ⟨3|4⟩, ⟨3|5⟩, ⟨4|(1+5)|4], ⟨5|(1+4)|5])]\n",
      "\n",
      "No result found with 1 terms.                                                                                                                      \n",
      "As last resort I'll try to use a single denominator although double collinear limits imply the need for more then one.\n",
      "Starting fit of numerator coefficients for following ansatz:              \n",
      "+(1⟨2|3⟩[2|3])/(⟨1|4⟩⟨1|5⟩⟨3|4⟩⟨3|5⟩⟨4|5⟩⟨4|(1+5)|4]⟨5|(1+4)|5])\n",
      "Inversion will proceed out of collinear limits.No symmetry will be used.\n",
      "No additional symmetries will be appended to the result.Accuracy set to: 9\n",
      "Obtaining ansatz from CP_SAT with lM, lPW: [6.0], [[1, 1, 0, 1, 1]]. Generating ansatz for: 6.0, [1, 1, 0, 1, 1]Status = OPTIMAL\n",
      "Number of solutions found: 30\n",
      "Obtained ansatz from CP_SAT with lM, lPW: [6.0], [[1, 1, 0, 1, 1]]. Size: 30.                                                       \n",
      "Loading square matrix on cpu.                                                                                      \n",
      "Finished loading augmented column.                                                                            Created new matrix of size 30x31 of type object.                                       \n",
      "Matrix written successfully. Now row reducing.                         Iteration number 1: dropped_redundant: 0, dropped_zero: 25, dropped_total: 25.\n",
      "Coeff. of ⟨1|3⟩⟨2|3⟩⟨4|5⟩⟨4|5⟩[3|4][3|5]: 8/3\n",
      "Coeff. of ⟨1|3⟩⟨2|4⟩⟨2|5⟩⟨4|5⟩[2|4][3|5]: -8/3\n",
      "Coeff. of ⟨1|3⟩⟨2|4⟩⟨3|5⟩⟨4|5⟩[3|4][3|5]: -16/3\n",
      "Coeff. of ⟨1|4⟩⟨2|4⟩⟨2|5⟩⟨3|5⟩[2|3][4|5]: 8/3\n",
      "Coeff. of ⟨1|2⟩⟨3|4⟩⟨3|5⟩⟨4|5⟩[3|4][3|5]: 8/3\n",
      "This piece correctly removes the singularity ([0])                                                 \n",
      "Writing LaTeX and PDF partial result file.\n",
      "\n",
      "~~~~~~~~~~~~~~~~~~~~~~~~~~~~~~~~~~~~~~~~~~~~~~~~~~~~~~~~~~~~~~~~~~~~~~~~~~~~~~~~~~~~~\n",
      "NoneToAnalytical called at depth 1.\n",
      "\n",
      "The requested quantity is identically zero.\n",
      "\n",
      "NoneToAnalytical exiting depth 1.\n",
      "~~~~~~~~~~~~~~~~~~~~~~~~~~~~~~~~~~~~~~~~~~~~~~~~~~~~~~~~~~~~~~~~~~~~~~~~~~~~~~~~~~~~~\n",
      "Checked the analytical result 5 times against the numerical one.\n",
      "Never did the difference exceed 10^-270.\n",
      "\n",
      "NoneToAnalytical exiting depth 0.\n",
      "~~~~~~~~~~~~~~~~~~~~~~~~~~~~~~~~~~~~~~~~~~~~~~~~~~~~~~~~~~~~~~~~~~~~~~~~~~~~~~~~~~~~~\n"
     ]
    },
    {
     "data": {
      "text/plain": [
       "[Terms(\"\"\"+[2|3]⟨2|3⟩(8/3⟨3|5⟩⟨2|5⟩[2|3]⟨1|4⟩[4|5]⟨2|4⟩-8/3⟨2|5⟩⟨1|3⟩⟨2|4⟩⟨4|5⟩[3|5][2|4]-16/3⟨3|5⟩[3|4]⟨1|3⟩⟨2|4⟩⟨4|5⟩[3|5]+8/3⟨3|5⟩[3|4]⟨3|4⟩[3|5]⟨4|5⟩⟨1|2⟩+8/3⟨2|3⟩[3|4]⟨1|3⟩[3|5]⟨4|5⟩²)/(⟨1|4⟩⟨1|5⟩⟨3|4⟩⟨3|5⟩⟨4|5⟩⟨4|(1+5)|4]⟨5|(1+4)|5])\"\"\")]"
      ]
     },
     "execution_count": 123,
     "metadata": {},
     "output_type": "execute_result"
    }
   ],
   "source": [
    "numerical_to_analytical(oU)"
   ]
  },
  {
   "cell_type": "markdown",
   "id": "4265aa57",
   "metadata": {},
   "source": [
    "## GitHub self hosted runner (for GPU access)"
   ]
  },
  {
   "cell_type": "markdown",
   "id": "7cf54d95",
   "metadata": {},
   "source": [
    "Something you might find useful: [github.com/GDeLaurentis/docker-gpu-runner-for-github-actions](https://github.com/GDeLaurentis/docker-gpu-runner-for-github-actions)"
   ]
  }
 ],
 "metadata": {
  "kernelspec": {
   "display_name": "Python 3 (ipykernel)",
   "language": "python",
   "name": "python3"
  },
  "language_info": {
   "codemirror_mode": {
    "name": "ipython",
    "version": 3
   },
   "file_extension": ".py",
   "mimetype": "text/x-python",
   "name": "python",
   "nbconvert_exporter": "python",
   "pygments_lexer": "ipython3",
   "version": "3.10.12"
  },
  "toc": {
   "base_numbering": 1,
   "nav_menu": {},
   "number_sections": true,
   "sideBar": true,
   "skip_h1_title": true,
   "title_cell": "Table of Contents",
   "title_sidebar": "Contents",
   "toc_cell": false,
   "toc_position": {},
   "toc_section_display": true,
   "toc_window_display": false
  }
 },
 "nbformat": 4,
 "nbformat_minor": 5
}
