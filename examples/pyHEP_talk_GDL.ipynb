{
 "cells": [
  {
   "cell_type": "markdown",
   "id": "26c9e4bf",
   "metadata": {},
   "source": [
    "# Scattering Amplitude Reconstruction in Python\n",
    "\n",
    "###### Giuseppe De Laurentis - University of Edinburgh\n",
    "\n",
    "[PyHEP indico](\"https://indico.cern.ch/event/1566263/timetable/#10-scattering-amplitude-recons\")"
   ]
  },
  {
   "cell_type": "markdown",
   "id": "3dc47f96",
   "metadata": {},
   "source": [
    "## Motivation"
   ]
  },
  {
   "cell_type": "markdown",
   "id": "c54e706e",
   "metadata": {},
   "source": [
    "Next-to-next-to-leading order predictions are essential to match the experimental precision"
   ]
  },
  {
   "cell_type": "markdown",
   "id": "d25c7b8c",
   "metadata": {},
   "source": [
    "<img src=\"1911.00479.crosssection.png\" style=\"max-width:150mm; margin-top:2mm; margin-bottom:0mm;\">\n",
    "<center> $\\sigma_{pp\\rightarrow \\gamma\\gamma\\gamma}$ Chawdhry et al. <a href=https://arxiv.org/abs/1911.00479> arXiv:1911.00479 </a> </center>"
   ]
  },
  {
   "cell_type": "markdown",
   "id": "8a18087f",
   "metadata": {},
   "source": [
    "1) At NNLO (~ two-loop Feynman diagrams) analytic computations are often unfeasible, especially at high multiplicities\n",
    "2) Even if an analytic result is avaiable, it may be hard to achieve simpler results by analytic manipulations"
   ]
  },
  {
   "cell_type": "markdown",
   "id": "17fa0a2d",
   "metadata": {},
   "source": [
    "Simpler results are not just a theorist delight, they are essential for phenomenology"
   ]
  },
  {
   "cell_type": "markdown",
   "id": "f557a618",
   "metadata": {},
   "source": [
    "<img src=\"quad-precision-no-rescue.png\" style=\"max-width:150mm; margin-top:2mm; margin-bottom:0mm;\">"
   ]
  },
  {
   "cell_type": "markdown",
   "id": "23b4d897",
   "metadata": {},
   "source": [
    "<center> Evaluation of the two-loop corrections to pp -> Vjj obtained in 2021 </center>"
   ]
  },
  {
   "cell_type": "markdown",
   "id": "7665fc87",
   "metadata": {},
   "source": [
    "<img src=\"h2__g_g__Z_b_b.stability.png\" style=\"max-width:150mm; margin-top:2mm; margin-bottom:0mm;\">"
   ]
  },
  {
   "cell_type": "markdown",
   "id": "c013d1e0",
   "metadata": {},
   "source": [
    "## What is analytic reconstruction?"
   ]
  },
  {
   "cell_type": "markdown",
   "id": "d1054295",
   "metadata": {},
   "source": [
    "A) Compute numerically to bypass all intermediate complexities <br>\n",
    "B) Analytise the numerical evaluations to infer the exact analytic representation \n",
    "\n",
    "<br>\n",
    "\n",
    "<center> <b> Analytic reconstruction is an alternative to analytic manipulations </b> </center>\n",
    "\n",
    "<br>\n",
    "\n",
    "A) it is needed both to obtain new NNLO corrections <br>\n",
    "B) and to make available expressions efficient / usable"
   ]
  },
  {
   "cell_type": "markdown",
   "id": "243d9b60",
   "metadata": {},
   "source": [
    "Efficiency is also a pressing need: the $\\alpha_s$extraction from energy-energy correlators in $pp\\rightarrow jjj$ by ATLAS [arXiv:2301.09351](https://arxiv.org/abs/2301.09351) used $10^8$CPUh"
   ]
  },
  {
   "cell_type": "markdown",
   "id": "9cfffcf0",
   "metadata": {},
   "source": [
    "## Why Python over Mathematica?"
   ]
  },
  {
   "cell_type": "markdown",
   "id": "bcb62886",
   "metadata": {},
   "source": [
    "Cons:\n",
    "1) analytic manipulations are more awkward - but we will do mostly numerical work\n",
    "\n",
    "Pros:\n",
    "1) Name spaces: variables in Python are local by default, in Mathematica they are global\n",
    "2) Object oriented: in Python we can attach methods and properties to objects, in Mathematica everything is a glorified list\n",
    "3) Package manager (PyPI), in Mathematica pass files by email or attach to papers <br>\n",
    "3b. Large community with many available packages\n",
    "4) Continuous integration: pytest, flint, etc. - in Mathemtica, write a Python script that runs the test\n",
    "5) Licenses: multi-processing / threading not limited by number of bought licences\n",
    "6) Open source\n",
    "\n",
    "Is performance an issue? Not really, outsource compute intensive operations to C++ / CUDA / Fortran / Rust (interfacing is simple)!"
   ]
  },
  {
   "cell_type": "markdown",
   "id": "922e6252",
   "metadata": {},
   "source": [
    "## A toy example"
   ]
  },
  {
   "cell_type": "markdown",
   "id": "c275c77c",
   "metadata": {},
   "source": [
    "Work with spinor-helicity variables:\n",
    "$$p_{i, \\mu} \\sigma_\\mu^{\\dot\\alpha\\alpha} = p^{\\dot\\alpha\\alpha}_i = \\tilde\\lambda_i^{\\dot\\alpha}\\lambda_i^{\\alpha} = |i]\\langle i | \\; \\text{ if } \\;  p^2 = 0 $$\n",
    "and Mandelstam invariants:\n",
    "$$s_{ij\\dots k} = (p_i + p_j + \\dots + p_k)^2 $$"
   ]
  },
  {
   "cell_type": "code",
   "execution_count": 13,
   "id": "30710048",
   "metadata": {},
   "outputs": [],
   "source": [
    "mandelstam_expression = \"(1/(⟨14⟩^2⟨15⟩^2⟨23⟩^2))⟨12⟩^3⟨13⟩((4s23(-(s23s34+(s15-s34)s45)^3(s23s34+s45(s15+s34+s45))+s12^3(s15-s23)(s15^3s45+s23^2s34(-s23+s45)+s15^2s45(-s23+s45)+s15(s23^2s34-s23s45^2-s34s45^2))-s12^2(3s15^4s45^2+s15^3s45^2(-4s23-2s34+3s45)+s23s34^2(3s23^3-4s23^2s45+s45^3)+s15^2(-s23s45^2(s34+4s45)-s34s45^2(s34+5s45)+s23^2(s34^2+s45^2))+s15(-4s23^3s34^2+2s34^2s45^3+s23s34s45^2(s34+2s45)+s23^2s45(s34^2+s45^2)))+s12(3s15^4s45^3+s15^3s45^2(4s23s34-2s23s45-4s34s45+3s45^2)+s34^2(s23-s45)^2(3s23^2s34-s34s45^2+s23s45(s34+s45))-s15^2s45(s23^2s34(s34+s45)+s34s45^2(s34+7s45)+2s23s45(2s34^2-s34s45+s45^2))-s15s34(s23-s45)(2s23^2s34(s34-2s45)+s34s45^2(2s34+5s45)+s23s45(2s34^2+2s34s45+s45^2)))))/(3s12^3(s15-s23)s34(s12+s23-s45)s45(s15+s45)(-s12+s34+s45))+(4s23((s23s34+(s15-s34)s45)^2(s23s34+s45(s15+s34+s45))+s12^2(s23^2s34(s23-s45)+s15^3s45+s15^2s45(-s23+s45)-s15(s23^2s34+s23s45^2+s34s45^2))+s12(-2s15^3s45^2+s34^2(-2s23^3+2s23^2s45+s23s45^2-s45^3)+s15^2s45((s34-2s45)s45+s23(-s34+s45))+s15(s23^2s34(s34-s45)+s23s45^3+s34s45^2(s34+3s45))))(-tr5_1234))/(3s12^3(s15-s23)s34(s12+s23-s45)(s12-s34-s45)s45(s15+s45)))[31]\"\n",
    "\n",
    "def black_box_function(phase_space_point):  # may be a complicated expression we want to simplify, or a numerical routine\n",
    "    return phase_space_point(mandelstam_expression)"
   ]
  },
  {
   "cell_type": "code",
   "execution_count": 2,
   "id": "b724e536",
   "metadata": {},
   "outputs": [],
   "source": [
    "from antares import Terms  # pip install antares-hep (Automated Numerical To Analytical Reconstruction Software)"
   ]
  },
  {
   "cell_type": "code",
   "execution_count": 3,
   "id": "de50b6e0",
   "metadata": {},
   "outputs": [],
   "source": [
    "# Goal: reconstruct the simplest possible form of this function\n",
    "oTerms = Terms(\"\"\"\n",
    "+(8/3s23⟨24⟩[34])/(⟨15⟩⟨34⟩⟨45⟩⟨4|1+5|4])\n",
    "+('12354', False, '+')\n",
    "\"\"\")"
   ]
  },
  {
   "cell_type": "markdown",
   "id": "9a06ab89",
   "metadata": {},
   "source": [
    "### Flash overview of lips"
   ]
  },
  {
   "cell_type": "code",
   "execution_count": 14,
   "id": "2c867500",
   "metadata": {},
   "outputs": [],
   "source": [
    "from lips import Particles  # pip install lips (Lorentz invariant phase space)"
   ]
  },
  {
   "cell_type": "code",
   "execution_count": 5,
   "id": "db76d162",
   "metadata": {},
   "outputs": [],
   "source": [
    "# random (complex) phase space point with 5 massless legs, default is complex, 300 digits of precision\n",
    "# uses mpmath for the arbitrary precision floating-point numbers (mpc and mpf)\n",
    "oPs = Particles(5)"
   ]
  },
  {
   "cell_type": "code",
   "execution_count": 6,
   "id": "a3f608e2",
   "metadata": {},
   "outputs": [
    {
     "data": {
      "text/plain": [
       "array([[mpc(real='1.24195077849123031272032599508542317615688597687529085037004195107345940549107374383187541823255949714991498494294544976945489967523327943053960147895422419762361945277640703451332567148759949819745103568890058964036115610221434981333178486399294644397204502956918145363910773324739987416781690332529566', imag='-0.0500121289515306672937206435213243520469004303051673485931758453477226522193713110998547139805408531196909149907472511605008674752360957262365145889204347530022183967895130739474333568419626520992674566292617264943748621653356549455126104152455573002624929163803495096070128881460601611813274810154609348')],\n",
       "       [mpc(real='-0.21598799719175152906913932321130103307604998794809613770790085325011740044548993632840438404514615972029021535937890811135132474453508277678671106533319061123767530438020667493126307187077678296025013425475577657851720899284961910195562628619921794590517306617648939398079855088827455240556199161948833', imag='0.85784827690404787330625523029048534988468397796237404851869390483972012786731870498061648054848732145399170642138842804625045145949769677663115839270044281514372776358630494737005467444041138901025329679629465863048005766863519568351437226721111585883688536109208585097333828165357278832231927449338056')]],\n",
       "      dtype=object)"
      ]
     },
     "execution_count": 6,
     "metadata": {},
     "output_type": "execute_result"
    }
   ],
   "source": [
    "oPs[1].r_sp_d  # right-handed spinor index down"
   ]
  },
  {
   "cell_type": "markdown",
   "id": "c4a8e830",
   "metadata": {},
   "source": [
    "i.e. $\\tilde\\lambda_{1, \\dot\\alpha}$"
   ]
  },
  {
   "cell_type": "code",
   "execution_count": 7,
   "id": "bbb1ffc2",
   "metadata": {},
   "outputs": [
    {
     "data": {
      "text/plain": [
       "array([[mpc(real='1.24195077849123031272032599508542317615688597687529085037004195107345940549107374383187541823255949714991498494294544976945489967523327943053960147895422419762361945277640703451332567148759949819745103568890058964036115610221434981333178486399294644397204502956918145363910773324739987416781690332529566', imag='-0.0500121289515306672937206435213243520469004303051673485931758453477226522193713110998547139805408531196909149907472511605008674752360957262365145889204347530022183967895130739474333568419626520992674566292617264943748621653356549455126104152455573002624929163803495096070128881460601611813274810154609348'),\n",
       "        mpc(real='-0.0417585035343757130162327191452397357522288220146157016390548425202651431598735478223077872864925957353495347183631708411431588153234925291864789947511266789880328385396804757487043565050647829242898966108696327656863785193600854265100888106739286173696405751567279622384345593390959973604296620557718894', imag='-0.789028959756538574072817591992866047492374136157394435529784238267285989086616606539228096157045217064988554501992304002914393406686642378646254722276320608083095969643949164202666598826416794112082332706613721118162472678197828735261733884139088332534791076357179055599698068384543030371182710238296946')]],\n",
       "      dtype=object)"
      ]
     },
     "execution_count": 7,
     "metadata": {},
     "output_type": "execute_result"
    }
   ],
   "source": [
    "oPs[1].l_sp_d  # left-handed spinor index down"
   ]
  },
  {
   "cell_type": "markdown",
   "id": "adc69c3b",
   "metadata": {},
   "source": [
    "i.e. $\\lambda_{1, \\alpha}$"
   ]
  },
  {
   "cell_type": "code",
   "execution_count": 8,
   "id": "c8c2da2d",
   "metadata": {},
   "outputs": [
    {
     "data": {
      "text/plain": [
       "array([mpc(real='1.1129134961256814633720159734877182470639643892640540691056887606342781012946862215404922774622487487122389104804370818335320473822991253224333049714327377382430423117797800547760333230686131261633750014261227156546204013373822996474394674598706813835892837213531202630261750985837216077451149804997537', imag='0.0051865597351677323792460968650675829864758524643789774434841590191864502745529300571373864085557279128899784227219875245765131122126195826035522460416529146089440238594845620975427864165057353051145376490765100504102754852866764826137435091815082233220954939456840039569588209530804846085680425877482734'),\n",
       "       mpc(real='-0.15833333333333333333333333333333333333333333333333333333333333333333333333333333333333333333333333333333333333333333333333333333333333333333333333333333333333333333333333333333333333333333333333333333333333333333333333333333333333333333333333333333333333333333333333333333333333333333333333333333333333', imag='0.0491803278688524590163934426229508196721311475409836065573770491803278688524590163934426229508196721311475409836065573770491803278688524590163934426229508196721311475409836065573770491803278688524590163934426229508196721311475409836065573770491803278688524590163934426229508196721311475409836065573770478'),\n",
       "       mpc(real='1.027027027027027027027027027027027027027027027027027027027027027027027027027027027027027027027027027027027027027027027027027027027027027027027027027027027027027027027027027027027027027027027027027027027027027027027027027027027027027027027027027027027027027027027027027027027027027027027027027027027027', imag='0.067010309278350515463917525773195876288659793814432989690721649484536082474226804123711340206185567010309278350515463917525773195876288659793814432989690721649484536082474226804123711340206185567010309278350515463917525773195876288659793814432989690721649484536082474226804123711340206185567010309278347'),\n",
       "       mpc(real='0.427027027027027027027027027027027027027027027027027027027027027027027027027027027027027027027027027027027027027027027027027027027027027027027027027027027027027027027027027027027027027027027027027027027027027027027027027027027027027027027027027027027027027027027027027027027027027027027027027027027027006', imag='-0.129411764705882352941176470588235294117647058823529411764705882352941176470588235294117647058823529411764705882352941176470588235294117647058823529411764705882352941176470588235294117647058823529411764705882352941176470588235294117647058823529411764705882352941176470588235294117647058823529411764705894')],\n",
       "      dtype=object)"
      ]
     },
     "execution_count": 8,
     "metadata": {},
     "output_type": "execute_result"
    }
   ],
   "source": [
    "oPs[1].four_mom # p^\\mu"
   ]
  },
  {
   "cell_type": "markdown",
   "id": "b84e8ea6",
   "metadata": {},
   "source": [
    "Implements getters and setters, e.g. updating the value of .four_mom will automatically update the spinors (and vice versa)"
   ]
  },
  {
   "cell_type": "code",
   "execution_count": 17,
   "id": "8accc9a1",
   "metadata": {},
   "outputs": [
    {
     "data": {
      "text/plain": [
       "\"(1/(oPs('⟨1|4⟩')**2*oPs('⟨1|5⟩')**2*oPs('⟨2|3⟩')**2))*oPs('⟨1|2⟩')**3*oPs('⟨1|3⟩')*((4*oPs('s_23')*(-(oPs('s_23')*oPs('s_34')+(oPs('s_15')-oPs('s_34'))*oPs('s_45'))**3*(oPs('s_23')*oPs('s_34')+oPs('s_45')*(oPs('s_15')+oPs('s_34')+oPs('s_45')))+oPs('s_12')**3*(oPs('s_15')-oPs('s_23'))*(oPs('s_15')**3*oPs('s_45')+oPs('s_23')**2*oPs('s_34')*(-oPs('s_23')+oPs('s_45'))+oPs('s_15')**2*oPs('s_45')*(-oPs('s_23')+oPs('s_45'))+oPs('s_15')*(oPs('s_23')**2*oPs('s_34')-oPs('s_23')*oPs('s_45')**2-oPs('s_34')*oPs('s_45')**2))-oPs('s_12')**2*(3*oPs('s_15')**4*oPs('s_45')**2+oPs('s_15')**3*oPs('s_45')**2*(-4*oPs('s_23')-2*oPs('s_34')+3*oPs('s_45'))+oPs('s_23')*oPs('s_34')**2*(3*oPs('s_23')**3-4*oPs('s_23')**2*oPs('s_45')+oPs('s_45')**3)+oPs('s_15')**2*(-oPs('s_23')*oPs('s_45')**2*(oPs('s_34')+4*oPs('s_45'))-oPs('s_34')*oPs('s_45')**2*(oPs('s_34')+5*oPs('s_45'))+oPs('s_23')**2*(oPs('s_34')**2+oPs('s_45')**2))+oPs('s_15')*(-4*oPs('s_23')**3*oPs('s_34')**2+2*oPs('s_34')**2*oPs('s_45')**3+oPs('s_23')*oPs('s_34')*oPs('s_45')**2*(oPs('s_34')+2*oPs('s_45'))+oPs('s_23')**2*oPs('s_45')*(oPs('s_34')**2+oPs('s_45')**2)))+oPs('s_12')*(3*oPs('s_15')**4*oPs('s_45')**3+oPs('s_15')**3*oPs('s_45')**2*(4*oPs('s_23')*oPs('s_34')-2*oPs('s_23')*oPs('s_45')-4*oPs('s_34')*oPs('s_45')+3*oPs('s_45')**2)+oPs('s_34')**2*(oPs('s_23')-oPs('s_45'))**2*(3*oPs('s_23')**2*oPs('s_34')-oPs('s_34')*oPs('s_45')**2+oPs('s_23')*oPs('s_45')*(oPs('s_34')+oPs('s_45')))-oPs('s_15')**2*oPs('s_45')*(oPs('s_23')**2*oPs('s_34')*(oPs('s_34')+oPs('s_45'))+oPs('s_34')*oPs('s_45')**2*(oPs('s_34')+7*oPs('s_45'))+2*oPs('s_23')*oPs('s_45')*(2*oPs('s_34')**2-oPs('s_34')*oPs('s_45')+oPs('s_45')**2))-oPs('s_15')*oPs('s_34')*(oPs('s_23')-oPs('s_45'))*(2*oPs('s_23')**2*oPs('s_34')*(oPs('s_34')-2*oPs('s_45'))+oPs('s_34')*oPs('s_45')**2*(2*oPs('s_34')+5*oPs('s_45'))+oPs('s_23')*oPs('s_45')*(2*oPs('s_34')**2+2*oPs('s_34')*oPs('s_45')+oPs('s_45')**2)))))/(3*oPs('s_12')**3*(oPs('s_15')-oPs('s_23'))*oPs('s_34')*(oPs('s_12')+oPs('s_23')-oPs('s_45'))*oPs('s_45')*(oPs('s_15')+oPs('s_45'))*(-oPs('s_12')+oPs('s_34')+oPs('s_45')))+(4*oPs('s_23')*((oPs('s_23')*oPs('s_34')+(oPs('s_15')-oPs('s_34'))*oPs('s_45'))**2*(oPs('s_23')*oPs('s_34')+oPs('s_45')*(oPs('s_15')+oPs('s_34')+oPs('s_45')))+oPs('s_12')**2*(oPs('s_23')**2*oPs('s_34')*(oPs('s_23')-oPs('s_45'))+oPs('s_15')**3*oPs('s_45')+oPs('s_15')**2*oPs('s_45')*(-oPs('s_23')+oPs('s_45'))-oPs('s_15')*(oPs('s_23')**2*oPs('s_34')+oPs('s_23')*oPs('s_45')**2+oPs('s_34')*oPs('s_45')**2))+oPs('s_12')*(-2*oPs('s_15')**3*oPs('s_45')**2+oPs('s_34')**2*(-2*oPs('s_23')**3+2*oPs('s_23')**2*oPs('s_45')+oPs('s_23')*oPs('s_45')**2-oPs('s_45')**3)+oPs('s_15')**2*oPs('s_45')*((oPs('s_34')-2*oPs('s_45'))*oPs('s_45')+oPs('s_23')*(-oPs('s_34')+oPs('s_45')))+oPs('s_15')*(oPs('s_23')**2*oPs('s_34')*(oPs('s_34')-oPs('s_45'))+oPs('s_23')*oPs('s_45')**3+oPs('s_34')*oPs('s_45')**2*(oPs('s_34')+3*oPs('s_45')))))*(-oPs('tr5_1234')))/(3*oPs('s_12')**3*(oPs('s_15')-oPs('s_23'))*oPs('s_34')*(oPs('s_12')+oPs('s_23')-oPs('s_45'))*(oPs('s_12')-oPs('s_34')-oPs('s_45'))*oPs('s_45')*(oPs('s_15')+oPs('s_45'))))*oPs('[3|1]')\""
      ]
     },
     "execution_count": 17,
     "metadata": {},
     "output_type": "execute_result"
    }
   ],
   "source": [
    "# I've implemented a custom ast (abstract syntactic tree) parser (this is hidden behind Particles.__call__)\n",
    "oPs._parse(mandelstam_expression)"
   ]
  },
  {
   "cell_type": "code",
   "execution_count": 18,
   "id": "58c41c58",
   "metadata": {},
   "outputs": [
    {
     "data": {
      "text/plain": [
       "(-2.8931172173599785e-300-2.2398326844077253e-300j)"
      ]
     },
     "execution_count": 18,
     "metadata": {},
     "output_type": "execute_result"
    }
   ],
   "source": [
    "complex(oTerms(oPs) - oPs(mandelstam_expression)) # evaluation of Terms object is optimized (including upcoming GPU support)"
   ]
  },
  {
   "cell_type": "code",
   "execution_count": 10,
   "id": "33b988ba",
   "metadata": {
    "scrolled": false
   },
   "outputs": [
    {
     "data": {
      "text/plain": [
       "1.4932217896051502e-300j"
      ]
     },
     "execution_count": 10,
     "metadata": {},
     "output_type": "execute_result"
    }
   ],
   "source": [
    "expr = \"+(8/3s23⟨24⟩[34])/(⟨15⟩⟨34⟩⟨45⟩⟨4|1+5|4])\"\n",
    "complex((oPs(expr) + oPs.image(('12354', False))(expr)) - oTerms(oPs))"
   ]
  },
  {
   "cell_type": "code",
   "execution_count": 46,
   "id": "ff906ec7",
   "metadata": {},
   "outputs": [],
   "source": [
    "# this generates a \"real\" phase space point (all outgoing convention, energy might be negative)\n",
    "oPs = Particles(5, real_momenta=True, seed=0)"
   ]
  },
  {
   "cell_type": "code",
   "execution_count": 47,
   "id": "19fc0d7c",
   "metadata": {
    "scrolled": false
   },
   "outputs": [
    {
     "data": {
      "text/plain": [
       "array([mpc(real='0.687332511', imag='0.0'),\n",
       "       mpc(real='-0.0102564096', imag='0.0'),\n",
       "       mpc(real='0.636363626', imag='0.0'),\n",
       "       mpc(real='-0.259541988', imag='0.0')], dtype=object)"
      ]
     },
     "execution_count": 47,
     "metadata": {},
     "output_type": "execute_result"
    }
   ],
   "source": [
    "oPs[1].four_mom"
   ]
  },
  {
   "cell_type": "markdown",
   "id": "a3ca6131",
   "metadata": {},
   "source": [
    "### Main issue: numerical stability"
   ]
  },
  {
   "cell_type": "code",
   "execution_count": 48,
   "id": "198a0ce0",
   "metadata": {},
   "outputs": [],
   "source": [
    "from syngular import Field  # pip install syngular (interface and extension to Singular, https://www.singular.uni-kl.de/)"
   ]
  },
  {
   "cell_type": "markdown",
   "id": "1cdf6280",
   "metadata": {},
   "source": [
    "Simulate a long running computation where error accumulates by lowering the precision"
   ]
  },
  {
   "cell_type": "code",
   "execution_count": 49,
   "id": "7542d97e",
   "metadata": {},
   "outputs": [],
   "source": [
    "oPs = Particles(5, field=Field(\"mpc\", 0, 6), seed=0)"
   ]
  },
  {
   "cell_type": "code",
   "execution_count": 50,
   "id": "69c4b6dc",
   "metadata": {},
   "outputs": [
    {
     "data": {
      "text/plain": [
       "mpf('2.38776875e-6')"
      ]
     },
     "execution_count": 50,
     "metadata": {},
     "output_type": "execute_result"
    }
   ],
   "source": [
    "abs(oTerms(oPs) - black_box_function(oPs))"
   ]
  },
  {
   "cell_type": "code",
   "execution_count": 51,
   "id": "14fd9e90",
   "metadata": {},
   "outputs": [],
   "source": [
    "oPs = Particles(5, field=Field(\"mpc\", 0, 6), seed=2)"
   ]
  },
  {
   "cell_type": "code",
   "execution_count": 52,
   "id": "c84bb538",
   "metadata": {
    "scrolled": true
   },
   "outputs": [
    {
     "data": {
      "text/plain": [
       "mpf('0.428962946')"
      ]
     },
     "execution_count": 52,
     "metadata": {},
     "output_type": "execute_result"
    }
   ],
   "source": [
    "abs(oTerms(oPs) - black_box_function(oPs))  # lost precision! :'("
   ]
  },
  {
   "cell_type": "code",
   "execution_count": 53,
   "id": "4ed98298",
   "metadata": {},
   "outputs": [
    {
     "data": {
      "text/plain": [
       "mpc(real='-1.13071203', imag='25.7996826')"
      ]
     },
     "execution_count": 53,
     "metadata": {},
     "output_type": "execute_result"
    }
   ],
   "source": [
    "black_box_function(oPs)"
   ]
  },
  {
   "cell_type": "code",
   "execution_count": 54,
   "id": "67f7df3c",
   "metadata": {},
   "outputs": [
    {
     "data": {
      "text/plain": [
       "mpc(real='-0.711602092', imag='25.8910942')"
      ]
     },
     "execution_count": 54,
     "metadata": {},
     "output_type": "execute_result"
    }
   ],
   "source": [
    "oTerms(oPs)"
   ]
  },
  {
   "cell_type": "code",
   "execution_count": 55,
   "id": "8a447850",
   "metadata": {},
   "outputs": [],
   "source": [
    "oPs = Particles(5, field=Field(\"mpc\", 0, 16), seed=2)"
   ]
  },
  {
   "cell_type": "code",
   "execution_count": 56,
   "id": "590ba5ef",
   "metadata": {},
   "outputs": [
    {
     "data": {
      "text/plain": [
       "mpc(real='-0.7116312918164890561', imag='25.89107035069941443')"
      ]
     },
     "execution_count": 56,
     "metadata": {},
     "output_type": "execute_result"
    }
   ],
   "source": [
    "black_box_function(oPs)"
   ]
  },
  {
   "cell_type": "code",
   "execution_count": 57,
   "id": "86448b00",
   "metadata": {
    "scrolled": true
   },
   "outputs": [
    {
     "data": {
      "text/plain": [
       "mpc(real='-0.7116312918068779803', imag='25.89107035076286678')"
      ]
     },
     "execution_count": 57,
     "metadata": {},
     "output_type": "execute_result"
    }
   ],
   "source": [
    "oTerms(oPs)"
   ]
  },
  {
   "cell_type": "markdown",
   "id": "08e01dff",
   "metadata": {},
   "source": [
    "## finite fields"
   ]
  },
  {
   "cell_type": "markdown",
   "id": "142e3856",
   "metadata": {},
   "source": [
    "$$ \n",
    "\\displaystyle a \\in \\mathbb{F}_p : a \\in \\{0, \\dots, p -1\\} \\; \\text{ with } \\; \\{+, -, \\times, \\div\\}\n",
    "$$"
   ]
  },
  {
   "cell_type": "code",
   "execution_count": 58,
   "id": "90348b19",
   "metadata": {},
   "outputs": [],
   "source": [
    "from fractions import Fraction as Q\n",
    "from pyadic import ModP"
   ]
  },
  {
   "cell_type": "code",
   "execution_count": 59,
   "id": "ebf07608",
   "metadata": {},
   "outputs": [
    {
     "data": {
      "text/plain": [
       "6 % 11"
      ]
     },
     "execution_count": 59,
     "metadata": {},
     "output_type": "execute_result"
    }
   ],
   "source": [
    "ModP(Q(1, 2), 11)"
   ]
  },
  {
   "cell_type": "markdown",
   "id": "d072035d",
   "metadata": {},
   "source": [
    "or"
   ]
  },
  {
   "cell_type": "code",
   "execution_count": 60,
   "id": "247a4cab",
   "metadata": {},
   "outputs": [],
   "source": [
    "from syngular import Field"
   ]
  },
  {
   "cell_type": "code",
   "execution_count": 61,
   "id": "c6cf8721",
   "metadata": {},
   "outputs": [
    {
     "data": {
      "text/plain": [
       "Field('finite field', 2147483647, 1)"
      ]
     },
     "execution_count": 61,
     "metadata": {},
     "output_type": "execute_result"
    }
   ],
   "source": [
    "Fp = Field(\"finite field\", 2 ** 31 - 1, 1)\n",
    "Fp"
   ]
  },
  {
   "cell_type": "code",
   "execution_count": 62,
   "id": "3cd85eb3",
   "metadata": {},
   "outputs": [
    {
     "data": {
      "text/plain": [
       "80909179 % 2147483647"
      ]
     },
     "execution_count": 62,
     "metadata": {},
     "output_type": "execute_result"
    }
   ],
   "source": [
    "Fp.random()"
   ]
  },
  {
   "cell_type": "markdown",
   "id": "5de8539a",
   "metadata": {},
   "source": [
    "what goes wrong if p is not prime?"
   ]
  },
  {
   "cell_type": "code",
   "execution_count": 63,
   "id": "c7b0a9be",
   "metadata": {
    "scrolled": true
   },
   "outputs": [
    {
     "ename": "ZeroDivisionError",
     "evalue": "Inverse of 2 % 6 mod 6 does not exist. Are you sure 6 is prime?",
     "output_type": "error",
     "traceback": [
      "\u001b[0;31m---------------------------------------------------------------------------\u001b[0m",
      "\u001b[0;31mZeroDivisionError\u001b[0m                         Traceback (most recent call last)",
      "Cell \u001b[0;32mIn[63], line 1\u001b[0m\n\u001b[0;32m----> 1\u001b[0m \u001b[43mModP\u001b[49m\u001b[43m(\u001b[49m\u001b[43mQ\u001b[49m\u001b[43m(\u001b[49m\u001b[38;5;241;43m1\u001b[39;49m\u001b[43m,\u001b[49m\u001b[43m \u001b[49m\u001b[38;5;241;43m2\u001b[39;49m\u001b[43m)\u001b[49m\u001b[43m,\u001b[49m\u001b[43m \u001b[49m\u001b[38;5;241;43m6\u001b[39;49m\u001b[43m)\u001b[49m\n",
      "File \u001b[0;32m/media/gdl/scratch/Programs/pyadic/pyadic/finite_field.py:51\u001b[0m, in \u001b[0;36mModP.__init__\u001b[0;34m(self, n, p, called_recursively)\u001b[0m\n\u001b[1;32m     49\u001b[0m     \u001b[38;5;28mself\u001b[39m\u001b[38;5;241m.\u001b[39mp \u001b[38;5;241m=\u001b[39m \u001b[38;5;28mint\u001b[39m(p)\n\u001b[1;32m     50\u001b[0m \u001b[38;5;28;01melif\u001b[39;00m p \u001b[38;5;129;01mis\u001b[39;00m \u001b[38;5;129;01mnot\u001b[39;00m \u001b[38;5;28;01mNone\u001b[39;00m \u001b[38;5;129;01mand\u001b[39;00m \u001b[38;5;28misinstance\u001b[39m(n, fractions\u001b[38;5;241m.\u001b[39mFraction):\n\u001b[0;32m---> 51\u001b[0m     self_ \u001b[38;5;241m=\u001b[39m \u001b[43mModP\u001b[49m\u001b[43m(\u001b[49m\u001b[43mn\u001b[49m\u001b[38;5;241;43m.\u001b[39;49m\u001b[43mnumerator\u001b[49m\u001b[43m,\u001b[49m\u001b[43m \u001b[49m\u001b[43mp\u001b[49m\u001b[43m)\u001b[49m\u001b[43m \u001b[49m\u001b[38;5;241;43m/\u001b[39;49m\u001b[43m \u001b[49m\u001b[43mModP\u001b[49m\u001b[43m(\u001b[49m\u001b[43mn\u001b[49m\u001b[38;5;241;43m.\u001b[39;49m\u001b[43mdenominator\u001b[49m\u001b[43m,\u001b[49m\u001b[43m \u001b[49m\u001b[43mp\u001b[49m\u001b[43m)\u001b[49m\n\u001b[1;32m     52\u001b[0m     \u001b[38;5;28mself\u001b[39m\u001b[38;5;241m.\u001b[39mn \u001b[38;5;241m=\u001b[39m self_\u001b[38;5;241m.\u001b[39mn\n\u001b[1;32m     53\u001b[0m     \u001b[38;5;28mself\u001b[39m\u001b[38;5;241m.\u001b[39mp \u001b[38;5;241m=\u001b[39m self_\u001b[38;5;241m.\u001b[39mp\n",
      "File \u001b[0;32m/media/gdl/scratch/Programs/pyadic/pyadic/finite_field.py:24\u001b[0m, in \u001b[0;36mModPfy.<locals>.wrapper_ModPfy\u001b[0;34m(self, other)\u001b[0m\n\u001b[1;32m     22\u001b[0m     \u001b[38;5;28;01mif\u001b[39;00m \u001b[38;5;28mself\u001b[39m\u001b[38;5;241m.\u001b[39mp \u001b[38;5;241m!=\u001b[39m other\u001b[38;5;241m.\u001b[39mp:\n\u001b[1;32m     23\u001b[0m         \u001b[38;5;28;01mraise\u001b[39;00m \u001b[38;5;167;01mValueError\u001b[39;00m(\u001b[38;5;124mf\u001b[39m\u001b[38;5;124m\"\u001b[39m\u001b[38;5;124mCan\u001b[39m\u001b[38;5;124m'\u001b[39m\u001b[38;5;124mt cast numbers between different finite fields: FF\u001b[39m\u001b[38;5;132;01m{\u001b[39;00m\u001b[38;5;28mself\u001b[39m\u001b[38;5;241m.\u001b[39mp\u001b[38;5;132;01m}\u001b[39;00m\u001b[38;5;124m and FF\u001b[39m\u001b[38;5;132;01m{\u001b[39;00mother\u001b[38;5;241m.\u001b[39mp\u001b[38;5;132;01m}\u001b[39;00m\u001b[38;5;124m\"\u001b[39m)\n\u001b[0;32m---> 24\u001b[0m     \u001b[38;5;28;01mreturn\u001b[39;00m \u001b[43mfunc\u001b[49m\u001b[43m(\u001b[49m\u001b[38;5;28;43mself\u001b[39;49m\u001b[43m,\u001b[49m\u001b[43m \u001b[49m\u001b[43mother\u001b[49m\u001b[43m)\u001b[49m\n\u001b[1;32m     25\u001b[0m \u001b[38;5;28;01melif\u001b[39;00m isinteger(other) \u001b[38;5;129;01mor\u001b[39;00m \u001b[38;5;28misinstance\u001b[39m(other, fractions\u001b[38;5;241m.\u001b[39mFraction) \u001b[38;5;129;01mor\u001b[39;00m (\u001b[38;5;28mhasattr\u001b[39m(other, \u001b[38;5;124m\"\u001b[39m\u001b[38;5;124mimag\u001b[39m\u001b[38;5;124m\"\u001b[39m) \u001b[38;5;129;01mand\u001b[39;00m \u001b[38;5;129;01mnot\u001b[39;00m \u001b[38;5;28misinstance\u001b[39m(other, numpy\u001b[38;5;241m.\u001b[39mndarray)) \u001b[38;5;129;01mor\u001b[39;00m \u001b[38;5;28misinstance\u001b[39m(other, padic\u001b[38;5;241m.\u001b[39mPAdic):\n\u001b[1;32m     26\u001b[0m     \u001b[38;5;28;01mreturn\u001b[39;00m func(\u001b[38;5;28mself\u001b[39m, ModP(other, \u001b[38;5;28mself\u001b[39m\u001b[38;5;241m.\u001b[39mp))\n",
      "File \u001b[0;32m/media/gdl/scratch/Programs/pyadic/pyadic/finite_field.py:149\u001b[0m, in \u001b[0;36mModP.__truediv__\u001b[0;34m(self, other)\u001b[0m\n\u001b[1;32m    144\u001b[0m \u001b[38;5;129m@ModPfy\u001b[39m\n\u001b[1;32m    145\u001b[0m \u001b[38;5;28;01mdef\u001b[39;00m\u001b[38;5;250m \u001b[39m\u001b[38;5;21m__truediv__\u001b[39m(\u001b[38;5;28mself\u001b[39m, other):\n\u001b[1;32m    146\u001b[0m     \u001b[38;5;66;03m# is this really needed given the decorator?\u001b[39;00m\n\u001b[1;32m    147\u001b[0m     \u001b[38;5;66;03m# if not isinstance(other, ModP):\u001b[39;00m\n\u001b[1;32m    148\u001b[0m     \u001b[38;5;66;03m#     other = ModP(other, self.p)\u001b[39;00m\n\u001b[0;32m--> 149\u001b[0m     \u001b[38;5;28;01mreturn\u001b[39;00m \u001b[38;5;28mself\u001b[39m \u001b[38;5;241m*\u001b[39m \u001b[43mother\u001b[49m\u001b[38;5;241;43m.\u001b[39;49m\u001b[43m_inv\u001b[49m\u001b[43m(\u001b[49m\u001b[43m)\u001b[49m\n",
      "File \u001b[0;32m/media/gdl/scratch/Programs/pyadic/pyadic/finite_field.py:173\u001b[0m, in \u001b[0;36mModP._inv\u001b[0;34m(self)\u001b[0m\n\u001b[1;32m    170\u001b[0m s, _, gcd \u001b[38;5;241m=\u001b[39m extended_euclidean_algorithm(\u001b[38;5;28mint\u001b[39m(\u001b[38;5;28mself\u001b[39m), \u001b[38;5;28mself\u001b[39m\u001b[38;5;241m.\u001b[39mp)\n\u001b[1;32m    172\u001b[0m \u001b[38;5;28;01mif\u001b[39;00m gcd \u001b[38;5;241m!=\u001b[39m \u001b[38;5;241m1\u001b[39m:\n\u001b[0;32m--> 173\u001b[0m     \u001b[38;5;28;01mraise\u001b[39;00m \u001b[38;5;167;01mZeroDivisionError\u001b[39;00m(\u001b[38;5;124m\"\u001b[39m\u001b[38;5;124mInverse of \u001b[39m\u001b[38;5;132;01m{}\u001b[39;00m\u001b[38;5;124m mod \u001b[39m\u001b[38;5;132;01m{}\u001b[39;00m\u001b[38;5;124m does not exist. Are you sure \u001b[39m\u001b[38;5;132;01m{}\u001b[39;00m\u001b[38;5;124m is prime?\u001b[39m\u001b[38;5;124m\"\u001b[39m\u001b[38;5;241m.\u001b[39mformat(\u001b[38;5;28mself\u001b[39m, \u001b[38;5;28mself\u001b[39m\u001b[38;5;241m.\u001b[39mp, \u001b[38;5;28mself\u001b[39m\u001b[38;5;241m.\u001b[39mp))\n\u001b[1;32m    175\u001b[0m \u001b[38;5;28;01mreturn\u001b[39;00m ModP(s, \u001b[38;5;28mself\u001b[39m\u001b[38;5;241m.\u001b[39mp)\n",
      "\u001b[0;31mZeroDivisionError\u001b[0m: Inverse of 2 % 6 mod 6 does not exist. Are you sure 6 is prime?"
     ]
    }
   ],
   "source": [
    "ModP(Q(1, 2), 6)"
   ]
  },
  {
   "cell_type": "markdown",
   "id": "738e5c42",
   "metadata": {},
   "source": [
    "the inverse cannot be computed for any number not co-prime with the chosen modulus"
   ]
  },
  {
   "cell_type": "markdown",
   "id": "007185f0",
   "metadata": {},
   "source": [
    "### Phase space in a finite field"
   ]
  },
  {
   "cell_type": "code",
   "execution_count": 64,
   "id": "4d383b85",
   "metadata": {},
   "outputs": [],
   "source": [
    "oPs = Particles(5, field=Field(\"finite field\", 2 ** 31 - 1, 1), seed=0)"
   ]
  },
  {
   "cell_type": "code",
   "execution_count": 65,
   "id": "ea9eba15",
   "metadata": {},
   "outputs": [
    {
     "data": {
      "text/plain": [
       "497973027 % 2147483647"
      ]
     },
     "execution_count": 65,
     "metadata": {},
     "output_type": "execute_result"
    }
   ],
   "source": [
    "black_box_function(oPs)"
   ]
  },
  {
   "cell_type": "code",
   "execution_count": 66,
   "id": "571900bc",
   "metadata": {},
   "outputs": [
    {
     "data": {
      "text/plain": [
       "497973027 % 2147483647"
      ]
     },
     "execution_count": 66,
     "metadata": {},
     "output_type": "execute_result"
    }
   ],
   "source": [
    "oTerms(oPs)"
   ]
  },
  {
   "cell_type": "markdown",
   "id": "0e4d1fbe",
   "metadata": {},
   "source": [
    "### The trivial absoulute value"
   ]
  },
  {
   "cell_type": "markdown",
   "id": "73a8f168",
   "metadata": {},
   "source": [
    "$$ |a|_0 = 0 \\; \\text{if} \\; a = 0 \\; \\text{else} \\; 1$$"
   ]
  },
  {
   "cell_type": "code",
   "execution_count": 71,
   "id": "3b0fc0e0",
   "metadata": {},
   "outputs": [
    {
     "data": {
      "text/plain": [
       "1"
      ]
     },
     "execution_count": 71,
     "metadata": {},
     "output_type": "execute_result"
    }
   ],
   "source": [
    "abs(ModP(Q(2), 5))"
   ]
  },
  {
   "cell_type": "code",
   "execution_count": 72,
   "id": "b7edfcdc",
   "metadata": {},
   "outputs": [
    {
     "data": {
      "text/plain": [
       "0"
      ]
     },
     "execution_count": 72,
     "metadata": {},
     "output_type": "execute_result"
    }
   ],
   "source": [
    "abs(ModP(Q(0), 5))"
   ]
  },
  {
   "cell_type": "markdown",
   "id": "c6b7b873",
   "metadata": {},
   "source": [
    "### Limitation"
   ]
  },
  {
   "cell_type": "markdown",
   "id": "80ecd408",
   "metadata": {},
   "source": [
    "a) can make things zero, but not small <br>\n",
    "b) cannot take limits <br>\n",
    "c) calculus is undefined"
   ]
  },
  {
   "cell_type": "code",
   "execution_count": 41,
   "id": "99c1191a",
   "metadata": {},
   "outputs": [
    {
     "ename": "ValueError",
     "evalue": "Finite field infinitesimal does not exist.",
     "output_type": "error",
     "traceback": [
      "\u001b[0;31m---------------------------------------------------------------------------\u001b[0m",
      "\u001b[0;31mValueError\u001b[0m                                Traceback (most recent call last)",
      "Cell \u001b[0;32mIn[41], line 1\u001b[0m\n\u001b[0;32m----> 1\u001b[0m \u001b[43mFp\u001b[49m\u001b[38;5;241;43m.\u001b[39;49m\u001b[43mepsilon\u001b[49m\u001b[43m(\u001b[49m\u001b[43m)\u001b[49m\n",
      "File \u001b[0;32m/media/gdl/scratch/Programs/syngular/syngular/field.py:203\u001b[0m, in \u001b[0;36mField.epsilon\u001b[0;34m(self, shape)\u001b[0m\n\u001b[1;32m    201\u001b[0m     \u001b[38;5;28mself\u001b[39m\u001b[38;5;241m.\u001b[39m_ε \u001b[38;5;241m=\u001b[39m \u001b[38;5;28mself\u001b[39m\u001b[38;5;241m.\u001b[39mcharacteristic\n\u001b[1;32m    202\u001b[0m \u001b[38;5;28;01melif\u001b[39;00m \u001b[38;5;28mself\u001b[39m\u001b[38;5;241m.\u001b[39mname \u001b[38;5;241m==\u001b[39m \u001b[38;5;124m\"\u001b[39m\u001b[38;5;124mfinite field\u001b[39m\u001b[38;5;124m\"\u001b[39m:\n\u001b[0;32m--> 203\u001b[0m     \u001b[38;5;28;01mraise\u001b[39;00m \u001b[38;5;167;01mValueError\u001b[39;00m(\u001b[38;5;124m\"\u001b[39m\u001b[38;5;124mFinite field infinitesimal does not exist.\u001b[39m\u001b[38;5;124m\"\u001b[39m)\n\u001b[1;32m    204\u001b[0m \u001b[38;5;28;01melif\u001b[39;00m \u001b[38;5;28mself\u001b[39m\u001b[38;5;241m.\u001b[39mname \u001b[38;5;241m==\u001b[39m \u001b[38;5;124m\"\u001b[39m\u001b[38;5;124mmpc\u001b[39m\u001b[38;5;124m\"\u001b[39m:\n\u001b[1;32m    205\u001b[0m     \u001b[38;5;28mself\u001b[39m\u001b[38;5;241m.\u001b[39m_ε \u001b[38;5;241m=\u001b[39m mpmath\u001b[38;5;241m.\u001b[39mmpf(\u001b[38;5;124m'\u001b[39m\u001b[38;5;124m1e-30\u001b[39m\u001b[38;5;124m'\u001b[39m)\n",
      "\u001b[0;31mValueError\u001b[0m: Finite field infinitesimal does not exist."
     ]
    }
   ],
   "source": [
    "Fp.epsilon()"
   ]
  },
  {
   "cell_type": "markdown",
   "id": "b088d71f",
   "metadata": {},
   "source": [
    "### [Ostrowski theorem](https://en.wikipedia.org/wiki/Ostrowski%27s_theorem)"
   ]
  },
  {
   "cell_type": "markdown",
   "id": "c9ceeda5",
   "metadata": {},
   "source": [
    "There exist 3 possible absolute values on the rationals: <br>\n",
    "     - the trivial absolute value $|\\cdot|_0$ <br>\n",
    "     - the real absolute value $|\\cdot|_\\infty$ <br>\n",
    "     - the p-adic absolute value $|\\cdot|_p$"
   ]
  },
  {
   "cell_type": "code",
   "execution_count": null,
   "id": "e806ef5d",
   "metadata": {},
   "outputs": [],
   "source": []
  },
  {
   "cell_type": "code",
   "execution_count": null,
   "id": "29f011e6",
   "metadata": {},
   "outputs": [],
   "source": []
  },
  {
   "cell_type": "code",
   "execution_count": null,
   "id": "aec16c4e",
   "metadata": {},
   "outputs": [],
   "source": []
  },
  {
   "cell_type": "markdown",
   "id": "1492175f",
   "metadata": {},
   "source": [
    "## p-adic numbers"
   ]
  },
  {
   "cell_type": "code",
   "execution_count": 10,
   "id": "7d6d08e7",
   "metadata": {},
   "outputs": [],
   "source": [
    "from pyadic import PAdic"
   ]
  },
  {
   "cell_type": "code",
   "execution_count": 11,
   "id": "7478cb65",
   "metadata": {},
   "outputs": [
    {
     "data": {
      "text/plain": [
       "6 + 5*11 + 5*11^2 + O(11^3)"
      ]
     },
     "execution_count": 11,
     "metadata": {},
     "output_type": "execute_result"
    }
   ],
   "source": [
    "PAdic(Q(1, 2), 11, 3)"
   ]
  },
  {
   "cell_type": "code",
   "execution_count": 34,
   "id": "7c8e4c75",
   "metadata": {},
   "outputs": [
    {
     "data": {
      "text/plain": [
       "Field('padic', 2147483647, 11)"
      ]
     },
     "execution_count": 34,
     "metadata": {},
     "output_type": "execute_result"
    }
   ],
   "source": [
    "Qp = Field(\"padic\", 2 ** 31 - 1, 11)\n",
    "Qp"
   ]
  },
  {
   "cell_type": "code",
   "execution_count": 35,
   "id": "99e32792",
   "metadata": {},
   "outputs": [
    {
     "data": {
      "text/plain": [
       "1987708681 + 2098470235*2147483647 + 98393051*2147483647^2 + 417276484*2147483647^3 + 1629737080*2147483647^4 + 771229528*2147483647^5 + 1045128399*2147483647^6 + 1932607596*2147483647^7 + 1385764091*2147483647^8 + 567178084*2147483647^9 + 1893123388*2147483647^10 + O(2147483647^11)"
      ]
     },
     "execution_count": 35,
     "metadata": {},
     "output_type": "execute_result"
    }
   ],
   "source": [
    "Qp.random()"
   ]
  },
  {
   "cell_type": "code",
   "execution_count": 36,
   "id": "05bcfe72",
   "metadata": {},
   "outputs": [
    {
     "data": {
      "text/plain": [
       "2147483647"
      ]
     },
     "execution_count": 36,
     "metadata": {},
     "output_type": "execute_result"
    }
   ],
   "source": [
    "Qp.epsilon()"
   ]
  },
  {
   "cell_type": "code",
   "execution_count": null,
   "id": "d4baefbf",
   "metadata": {},
   "outputs": [],
   "source": []
  },
  {
   "cell_type": "markdown",
   "id": "345c2970",
   "metadata": {},
   "source": [
    "## Interpolation algorithms"
   ]
  },
  {
   "cell_type": "code",
   "execution_count": 74,
   "id": "a71af96b",
   "metadata": {},
   "outputs": [],
   "source": [
    "from pyadic.interpolation import Newton_polynomial_interpolation, Thiele_rational_interpolation"
   ]
  },
  {
   "cell_type": "code",
   "execution_count": null,
   "id": "a82db428",
   "metadata": {},
   "outputs": [],
   "source": []
  },
  {
   "cell_type": "markdown",
   "id": "d2b11548",
   "metadata": {},
   "source": [
    "### Why Reconstruction $\\supset$ Interpolation"
   ]
  },
  {
   "cell_type": "code",
   "execution_count": null,
   "id": "803be052",
   "metadata": {},
   "outputs": [],
   "source": []
  },
  {
   "cell_type": "code",
   "execution_count": null,
   "id": "40b75a8c",
   "metadata": {},
   "outputs": [],
   "source": []
  },
  {
   "cell_type": "code",
   "execution_count": null,
   "id": "6b033f4e",
   "metadata": {},
   "outputs": [],
   "source": []
  },
  {
   "cell_type": "markdown",
   "id": "d248b340",
   "metadata": {},
   "source": [
    "## Least Common Denominators"
   ]
  },
  {
   "cell_type": "code",
   "execution_count": 34,
   "id": "c675a7ca",
   "metadata": {},
   "outputs": [],
   "source": [
    "field = Field(\"finite field\", 2 ** 31 - 1, 1)\n",
    "seed = 0 \n",
    "oSliceFp = Particles(5, field=field, seed=seed)\n",
    "oSliceFp.univariate_slice(algorithm='covariant', seed=seed)"
   ]
  },
  {
   "cell_type": "code",
   "execution_count": 38,
   "id": "86b9ad74",
   "metadata": {},
   "outputs": [],
   "source": [
    "from antares import settings\n",
    "from antares.core.numerical_methods import num_func"
   ]
  },
  {
   "cell_type": "code",
   "execution_count": 41,
   "id": "7a32757d",
   "metadata": {},
   "outputs": [],
   "source": [
    "settings.invariants = Invariants(5).full"
   ]
  },
  {
   "cell_type": "code",
   "execution_count": 42,
   "id": "8229f26f",
   "metadata": {},
   "outputs": [],
   "source": [
    "black_box_function.multiplicity = 5\n",
    "oF = num_func(black_box_function)"
   ]
  },
  {
   "cell_type": "code",
   "execution_count": 44,
   "id": "c0fc6c3a",
   "metadata": {},
   "outputs": [
    {
     "name": "stdout",
     "output_type": "stream",
     "text": [
      "Finished after 19 samples, [162860843 % 2147483647, 1885044667 % 2147483647, 1411810336 % 2147483647, 1402519729 % 2147483647, 468240741 % 2147483647, 1197585802 % 2147483647, 1947316210 % 2147483647, 291407823 % 2147483647, 450073212 % 2147483647, 882656524 % 2147483647, 1372881572 % 2147483647, 934808415 % 2147483647, 1385619189 % 2147483647, 1938318280 % 2147483647, 1622103845 % 2147483647, 869915779 % 2147483647, 1364220815 % 2147483647, 64322534 % 2147483647, 552291472 % 2147483647]. \n",
      " (-514009628*t**8 + 776677322*t**7 + 991846540*t**6 - 75374069*t**5 + 101225610*t**4 + 36666516*t**3 - 728369354*t**2 + 534567587*t - 70010385)/(t**9 - 49350670*t**8 + 1034569225*t**7 + 606286545*t**6 + 418505031*t**5 - 958181787*t**4 - 882182274*t**3 - 369000092*t**2 - 291896180*t - 698421050)\n",
      "Polynomial defaultdict(<class 'int'>, {t - 505232661: 1, t - 179967131: 1, t + 594877252: 1, t + 969664725: 1, t**4 + 449954863*t**3 + 382707815*t**2 - 580761694*t - 422746403: 1})\n",
      "Matched 2 / 8: {'⟨2|3⟩': 1, '[2|3]': 1}\n",
      "Polynomial defaultdict(<class 'int'>, {t - 655500328: 1, t - 570778250: 1, t - 145735435: 1, t + 525474835: 1, t + 816738237: 1, t**2 - 509567171*t - 874003600: 1, t**2 + 490017442*t - 496737222: 1})\n",
      "Matched 9 / 9: {'⟨1|4⟩': 1, '⟨1|5⟩': 1, '⟨3|4⟩': 1, '⟨3|5⟩': 1, '⟨4|5⟩': 1, '⟨4|(1+5)|4]': 1, '⟨5|(1+4)|5]': 1}\n"
     ]
    },
    {
     "data": {
      "text/plain": [
       "Terms(\"\"\"+(1⟨2|3⟩[2|3])/(⟨1|4⟩⟨1|5⟩⟨3|4⟩⟨3|5⟩⟨4|5⟩⟨4|(1+5)|4]⟨5|(1+4)|5])\"\"\")"
      ]
     },
     "execution_count": 44,
     "metadata": {},
     "output_type": "execute_result"
    }
   ],
   "source": [
    "oF.get_lcd(oSliceFp, verbose=True)"
   ]
  },
  {
   "cell_type": "code",
   "execution_count": 45,
   "id": "07d4cd6a",
   "metadata": {},
   "outputs": [
    {
     "data": {
      "text/plain": [
       "Terms(\"\"\"+(1⟨2|3⟩[2|3])/(⟨1|4⟩⟨1|5⟩⟨3|4⟩⟨3|5⟩⟨4|5⟩⟨4|(1+5)|4]⟨5|(1+4)|5])\"\"\")"
      ]
     },
     "execution_count": 45,
     "metadata": {},
     "output_type": "execute_result"
    }
   ],
   "source": [
    "oTerms.get_lcd(oSliceFp)"
   ]
  },
  {
   "cell_type": "markdown",
   "id": "e9943c26",
   "metadata": {},
   "source": [
    "## Computational Algebraic Geometry"
   ]
  },
  {
   "cell_type": "code",
   "execution_count": null,
   "id": "3c1211e8",
   "metadata": {},
   "outputs": [],
   "source": []
  },
  {
   "cell_type": "code",
   "execution_count": null,
   "id": "9e289998",
   "metadata": {},
   "outputs": [],
   "source": []
  },
  {
   "cell_type": "code",
   "execution_count": null,
   "id": "3e875f66",
   "metadata": {},
   "outputs": [],
   "source": []
  },
  {
   "cell_type": "code",
   "execution_count": null,
   "id": "83ba1f64",
   "metadata": {},
   "outputs": [],
   "source": []
  },
  {
   "cell_type": "markdown",
   "id": "d57a1543",
   "metadata": {},
   "source": [
    "## Looking forward"
   ]
  },
  {
   "cell_type": "code",
   "execution_count": 54,
   "id": "3cce9e4e",
   "metadata": {},
   "outputs": [],
   "source": [
    "from antares.core.unknown import Unknown\n",
    "from antares.numerical_to_analytical import numerical_to_analytical"
   ]
  },
  {
   "cell_type": "code",
   "execution_count": 58,
   "id": "5799721e",
   "metadata": {},
   "outputs": [
    {
     "name": "stdout",
     "output_type": "stream",
     "text": [
      "The partial result is:                                                                                             \n",
      "(1⟨2|3⟩[2|3])/(⟨1|4⟩⟨1|5⟩⟨3|4⟩⟨3|5⟩⟨4|5⟩⟨4|(1+5)|4]⟨5|(1+4)|5])\n",
      "\n",
      "Mass dimension & phase weights: -1.0, [-1, 1, -2, -2, -2] → 6.0, [1, 1, 0, 1, 1]\n",
      "Cleaning pair scalings results from known numerator information.                                                             \n",
      "Finished calculating pair scalings. They are:                         \n",
      "[⟨1|4⟩, ⟨1|5⟩]:             3.0, 31 → 7\n",
      "[⟨1|4⟩, ⟨3|4⟩]:             3.0, 26 → 7\n",
      "[⟨1|4⟩, ⟨3|5⟩]:             2.0, 2  → 2\n",
      "[⟨1|4⟩, ⟨4|5⟩]:             3.0, 31 → 7\n",
      "[⟨1|4⟩, ⟨4|(1+5)|4]]:       1.0, 3  → 2\n",
      "[⟨1|4⟩, ⟨5|(1+4)|5]]:       2.0, 4  → 2\n",
      "[⟨1|5⟩, ⟨3|4⟩]:             2.0, 4  → 2\n",
      "[⟨1|5⟩, ⟨3|5⟩]:             3.0, 26 → 7\n",
      "[⟨1|5⟩, ⟨4|5⟩]:             3.0, 31 → 7\n",
      "[⟨1|5⟩, ⟨4|(1+5)|4]]:       2.0, 3  → 2\n",
      "[⟨1|5⟩, ⟨5|(1+4)|5]]:       1.0, 3  → 2\n",
      "[⟨3|4⟩, ⟨3|5⟩]:             3.0, 31 → 7\n",
      "[⟨3|4⟩, ⟨4|5⟩]:             3.0, 31 → 7\n",
      "[⟨3|4⟩, ⟨4|(1+5)|4]]:       2.0, 3  → 2\n",
      "[⟨3|4⟩, ⟨5|(1+4)|5]]:       1.0, 2  → 2\n",
      "[⟨3|5⟩, ⟨4|5⟩]:             3.0, 31 → 7\n",
      "[⟨3|5⟩, ⟨4|(1+5)|4]]:       1.0, 2  → 2\n",
      "[⟨3|5⟩, ⟨5|(1+4)|5]]:       2.0, 3  → 2\n",
      "[⟨4|5⟩, ⟨4|(1+5)|4]]:       2.0, 3  → 2\n",
      "[⟨4|5⟩, ⟨5|(1+4)|5]]:       2.0, 3  → 2\n",
      "[⟨4|(1+5)|4], ⟨5|(1+4)|5]]: 1.0, 2  → 2\n",
      "\n"
     ]
    }
   ],
   "source": [
    "oF.do_single_collinear_limits()\n",
    "oF.do_double_collinear_limits()"
   ]
  },
  {
   "cell_type": "code",
   "execution_count": 59,
   "id": "1883303d",
   "metadata": {},
   "outputs": [],
   "source": [
    "oU = Unknown(oF)"
   ]
  },
  {
   "cell_type": "code",
   "execution_count": 60,
   "id": "14433984",
   "metadata": {},
   "outputs": [
    {
     "name": "stdout",
     "output_type": "stream",
     "text": [
      "~~~~~~~~~~~~~~~~~~~~~~~~~~~~~~~~~~~~~~~~~~~~~~~~~~~~~~~~~~~~~~~~~~~~~~~~~~~~~~~~~~~~~\n",
      "NoneToAnalytical called at depth 0.\n",
      "\n",
      "The partial result is:                                                                                             \n",
      "(1⟨2|3⟩[2|3])/(⟨1|4⟩⟨1|5⟩⟨3|4⟩⟨3|5⟩⟨4|5⟩⟨4|(1+5)|4]⟨5|(1+4)|5])\n",
      "\n",
      "Mass dimension & phase weights: -1.0, [-1, 1, -2, -2, -2] → 6.0, [1, 1, 0, 1, 1]\n",
      "Cleaning pair scalings results from known numerator information.                                                             \n",
      "Finished calculating pair scalings. They are:                         \n",
      "[⟨1|4⟩, ⟨1|5⟩]:             3.0 (3.0), 31 → 7\n",
      "[⟨1|4⟩, ⟨3|4⟩]:             3.0 (3.0), 26 → 7\n",
      "[⟨1|4⟩, ⟨3|5⟩]:             2.0 (2.0), 2  → 2\n",
      "[⟨1|4⟩, ⟨4|5⟩]:             3.0 (3.0), 31 → 7\n",
      "[⟨1|4⟩, ⟨4|(1+5)|4]]:       1.0 (1.0), 3  → 2\n",
      "[⟨1|4⟩, ⟨5|(1+4)|5]]:       2.0 (2.0), 4  → 2\n",
      "[⟨1|5⟩, ⟨3|4⟩]:             2.0 (2.0), 4  → 2\n",
      "[⟨1|5⟩, ⟨3|5⟩]:             3.0 (3.0), 26 → 7\n",
      "[⟨1|5⟩, ⟨4|5⟩]:             3.0 (3.0), 31 → 7\n",
      "[⟨1|5⟩, ⟨4|(1+5)|4]]:       2.0 (2.0), 3  → 2\n",
      "[⟨1|5⟩, ⟨5|(1+4)|5]]:       1.0 (1.0), 3  → 2\n",
      "[⟨3|4⟩, ⟨3|5⟩]:             3.0 (3.0), 31 → 7\n",
      "[⟨3|4⟩, ⟨4|5⟩]:             3.0 (3.0), 31 → 7\n",
      "[⟨3|4⟩, ⟨4|(1+5)|4]]:       2.0 (2.0), 3  → 2\n",
      "[⟨3|4⟩, ⟨5|(1+4)|5]]:       1.0 (1.0), 2  → 2\n",
      "[⟨3|5⟩, ⟨4|5⟩]:             3.0 (3.0), 31 → 7\n",
      "[⟨3|5⟩, ⟨4|(1+5)|4]]:       1.0 (1.0), 2  → 2\n",
      "[⟨3|5⟩, ⟨5|(1+4)|5]]:       2.0 (2.0), 3  → 2\n",
      "[⟨4|5⟩, ⟨4|(1+5)|4]]:       2.0 (2.0), 3  → 2\n",
      "[⟨4|5⟩, ⟨5|(1+4)|5]]:       2.0 (2.0), 3  → 2\n",
      "[⟨4|(1+5)|4], ⟨5|(1+4)|5]]: 1.0 (1.0), 2  → 2\n",
      "\n",
      "Poles to be eliminated: [⟨4|(1+5)|4], ⟨5|(1+4)|5], ⟨1|4⟩, ⟨1|5⟩, ⟨3|4⟩, ⟨3|5⟩, ⟨4|5⟩]\n",
      "Spurious poles: []\n",
      "\n",
      "Generating partial fractioning for ⟨4|(1+5)|4].\n",
      "\n",
      "Forced:                                             \n",
      "[⟨4|5⟩, ⟨1|5⟩, ⟨3|4⟩]\n",
      "Forbidden:                                            \n",
      "[⟨3|5⟩, ⟨5|(1+4)|5]]\n",
      "Optional:                                             \n",
      "[(⟨1|4⟩, None)]\n",
      "\n",
      "No result found with 1 terms.                                                                                                                      \n",
      "Generating partial fractioning for ⟨5|(1+4)|5].\n",
      "\n",
      "Forced:                                             \n",
      "[⟨4|5⟩, ⟨3|5⟩, ⟨1|4⟩]\n",
      "Forbidden:                                            \n",
      "[⟨3|4⟩, ⟨4|(1+5)|4]]\n",
      "Optional:                                             \n",
      "[(⟨1|5⟩, None)]\n",
      "\n",
      "No result found with 1 terms.                                                                                                                      \n",
      "Generating partial fractioning for ⟨1|4⟩.\n",
      "\n",
      "Forced:                                             \n",
      "[⟨3|5⟩, ⟨5|(1+4)|5]]\n",
      "Forbidden:                                            \n",
      "[]\n",
      "Optional:                                             \n",
      "[(⟨4|(1+5)|4], None), (⟨1|5⟩, ⟨3|4⟩, ⟨3|5⟩, ⟨4|5⟩, ⟨4|(1+5)|4], ⟨5|(1+4)|5])]\n",
      "\n",
      "No result found with 1 terms.                                                                                                                      \n",
      "Generating partial fractioning for ⟨1|5⟩.\n",
      "\n",
      "Forced:                                             \n",
      "[⟨4|(1+5)|4], ⟨3|4⟩]\n",
      "Forbidden:                                            \n",
      "[]\n",
      "Optional:                                             \n",
      "[(⟨5|(1+4)|5], None), (⟨1|4⟩, ⟨3|4⟩, ⟨3|5⟩, ⟨4|5⟩, ⟨4|(1+5)|4], ⟨5|(1+4)|5])]\n",
      "\n",
      "No result found with 1 terms.                                                                                                                      \n",
      "Generating partial fractioning for ⟨3|4⟩.\n",
      "\n",
      "Forced:                                             \n",
      "[⟨1|5⟩, ⟨4|(1+5)|4]]\n",
      "Forbidden:                                            \n",
      "[⟨5|(1+4)|5]]\n",
      "Optional:                                             \n",
      "[(⟨1|4⟩, ⟨1|5⟩, ⟨3|5⟩, ⟨4|5⟩, ⟨4|(1+5)|4])]\n",
      "\n",
      "No result found with 1 terms.                                                                                                                      \n",
      "Generating partial fractioning for ⟨3|5⟩.\n",
      "\n",
      "Forced:                                             \n",
      "[⟨5|(1+4)|5], ⟨1|4⟩]\n",
      "Forbidden:                                            \n",
      "[⟨4|(1+5)|4]]\n",
      "Optional:                                             \n",
      "[(⟨1|4⟩, ⟨1|5⟩, ⟨3|4⟩, ⟨4|5⟩, ⟨5|(1+4)|5])]\n",
      "\n",
      "No result found with 1 terms.                                                                                                                      \n",
      "Generating partial fractioning for ⟨4|5⟩.\n",
      "\n",
      "Forced:                                             \n",
      "[⟨4|(1+5)|4], ⟨5|(1+4)|5]]\n",
      "Forbidden:                                            \n",
      "[]\n",
      "Optional:                                             \n",
      "[(⟨1|4⟩, ⟨1|5⟩, ⟨3|4⟩, ⟨3|5⟩, ⟨4|(1+5)|4], ⟨5|(1+4)|5])]\n",
      "\n",
      "No result found with 1 terms.                                                                                                                      \n",
      "As last resort I'll try to use a single denominator although double collinear limits imply the need for more then one.\n",
      "Starting fit of numerator coefficients for following ansatz:              \n",
      "+(1⟨2|3⟩[2|3])/(⟨1|4⟩⟨1|5⟩⟨3|4⟩⟨3|5⟩⟨4|5⟩⟨4|(1+5)|4]⟨5|(1+4)|5])\n",
      "Inversion will proceed out of collinear limits.No symmetry will be used.\n",
      "No additional symmetries will be appended to the result.Accuracy set to: 9\n",
      "Obtaining ansatz from CP_SAT with lM, lPW: [6.0], [[1, 1, 0, 1, 1]]. Generating ansatz for: 6.0, [1, 1, 0, 1, 1]Status = OPTIMAL\n",
      "Number of solutions found: 30\n",
      "Obtained ansatz from CP_SAT with lM, lPW: [6.0], [[1, 1, 0, 1, 1]]. Size: 30.                                                       \n",
      "Loading square matrix on cpu.                                                                                      \n",
      "Finished loading augmented column.                                                                            Created new matrix of size 30x31 of type object.                                       \n",
      "Matrix written successfully. Now row reducing.                         Iteration number 1: dropped_redundant: 0, dropped_zero: 25, dropped_total: 25.\n",
      "Coeff. of ⟨1|3⟩⟨2|3⟩⟨4|5⟩⟨4|5⟩[3|4][3|5]: 8/3\n",
      "Coeff. of ⟨1|3⟩⟨2|4⟩⟨2|5⟩⟨4|5⟩[2|4][3|5]: -8/3\n",
      "Coeff. of ⟨1|3⟩⟨2|4⟩⟨3|5⟩⟨4|5⟩[3|4][3|5]: -16/3\n",
      "Coeff. of ⟨1|4⟩⟨2|4⟩⟨2|5⟩⟨3|5⟩[2|3][4|5]: 8/3\n",
      "Coeff. of ⟨1|2⟩⟨3|4⟩⟨3|5⟩⟨4|5⟩[3|4][3|5]: 8/3\n",
      "This piece correctly removes the singularity ([0])                                                 \n",
      "Writing LaTeX and PDF partial result file.\n",
      "\n",
      "~~~~~~~~~~~~~~~~~~~~~~~~~~~~~~~~~~~~~~~~~~~~~~~~~~~~~~~~~~~~~~~~~~~~~~~~~~~~~~~~~~~~~\n",
      "NoneToAnalytical called at depth 1.\n",
      "\n",
      "The requested quantity is identically zero.\n",
      "\n",
      "NoneToAnalytical exiting depth 1.\n",
      "~~~~~~~~~~~~~~~~~~~~~~~~~~~~~~~~~~~~~~~~~~~~~~~~~~~~~~~~~~~~~~~~~~~~~~~~~~~~~~~~~~~~~\n",
      "Checked the analytical result 5 times against the numerical one.\n",
      "Never did the difference exceed 10^-270.\n",
      "\n",
      "NoneToAnalytical exiting depth 0.\n",
      "~~~~~~~~~~~~~~~~~~~~~~~~~~~~~~~~~~~~~~~~~~~~~~~~~~~~~~~~~~~~~~~~~~~~~~~~~~~~~~~~~~~~~\n"
     ]
    },
    {
     "data": {
      "text/plain": [
       "[Terms(\"\"\"+[2|3]⟨2|3⟩(8/3⟨2|5⟩⟨1|4⟩⟨2|4⟩⟨3|5⟩[2|3][4|5]-8/3⟨4|5⟩⟨2|5⟩⟨2|4⟩[3|5]⟨1|3⟩[2|4]-16/3⟨4|5⟩⟨2|4⟩⟨3|5⟩[3|5]⟨1|3⟩[3|4]+8/3⟨4|5⟩⟨1|2⟩⟨3|5⟩⟨3|4⟩[3|5][3|4]+8/3⟨4|5⟩²[3|5]⟨1|3⟩⟨2|3⟩[3|4])/(⟨1|4⟩⟨1|5⟩⟨3|4⟩⟨3|5⟩⟨4|5⟩⟨4|(1+5)|4]⟨5|(1+4)|5])\"\"\")]"
      ]
     },
     "execution_count": 60,
     "metadata": {},
     "output_type": "execute_result"
    }
   ],
   "source": [
    "numerical_to_analytical(oU)"
   ]
  },
  {
   "cell_type": "markdown",
   "id": "4265aa57",
   "metadata": {},
   "source": [
    "## GitHub self hosted runner (for GPU access)"
   ]
  },
  {
   "cell_type": "code",
   "execution_count": null,
   "id": "370e771c",
   "metadata": {},
   "outputs": [],
   "source": []
  }
 ],
 "metadata": {
  "kernelspec": {
   "display_name": "Python 3 (ipykernel)",
   "language": "python",
   "name": "python3"
  },
  "language_info": {
   "codemirror_mode": {
    "name": "ipython",
    "version": 3
   },
   "file_extension": ".py",
   "mimetype": "text/x-python",
   "name": "python",
   "nbconvert_exporter": "python",
   "pygments_lexer": "ipython3",
   "version": "3.10.12"
  },
  "toc": {
   "base_numbering": 1,
   "nav_menu": {},
   "number_sections": true,
   "sideBar": true,
   "skip_h1_title": true,
   "title_cell": "Table of Contents",
   "title_sidebar": "Contents",
   "toc_cell": false,
   "toc_position": {},
   "toc_section_display": true,
   "toc_window_display": false
  }
 },
 "nbformat": 4,
 "nbformat_minor": 5
}
